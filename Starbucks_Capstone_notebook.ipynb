{
 "cells": [
  {
   "cell_type": "markdown",
   "metadata": {},
   "source": [
    "# Starbucks Capstone Project: Using Starbucks app user data to predict effective offers"
   ]
  },
  {
   "cell_type": "markdown",
   "metadata": {},
   "source": [
    "## Project Overview"
   ]
  },
  {
   "cell_type": "markdown",
   "metadata": {},
   "source": [
    "This capstone project is using data provided by Udacity as part of the Data Scientist Nanodegree course. It contains simulated data that mimics customer behavior on the Starbucks rewards mobile app.\n",
    "\n",
    "The provided background information on the mobile app is that once every few days, Starbucks sends out an offer to users of the mobile app. Some users might not receive any offer during certain weeks, and not all users receive the same offer."
   ]
  },
  {
   "cell_type": "markdown",
   "metadata": {},
   "source": [
    "## Business Analysis"
   ]
  },
  {
   "cell_type": "markdown",
   "metadata": {},
   "source": [
    "In my capstone project, I aim to answer 2 main business questions:\n",
    "\n",
    "1.What are the main drivers of an effective offer on the Starbucks app?\n",
    "\n",
    "2.Could the data provided, namely offer characteristics and user demographics, predict whether a user would take up an offer?\n",
    "\n",
    "Using the data provided, I answer the above two questions using 3 classification supervised machine learning models, feeding in the data from three different offer types.\n",
    "\n",
    "I use the model to uncover the feature importances to identify the drivers of offer effectiveness, while exploring if the model itself could be used to predict if a user would take up an offer.\n",
    "\n",
    "Lastly, I also explore the characteristics of users who do or do not take up an offer.\n"
   ]
  },
  {
   "cell_type": "markdown",
   "metadata": {},
   "source": [
    "## Data Sets\n",
    "\n",
    "The data is contained in three files:\n",
    "\n",
    "* portfolio.json - containing offer ids and meta data about each offer (duration, type, etc.)\n",
    "* profile.json - demographic data for each customer\n",
    "* transcript.json - records for transactions, offers received, offers viewed, and offers completed\n",
    "\n",
    "Here is the schema and explanation of each variable in the files:\n",
    "\n",
    "**portfolio.json**\n",
    "* id (string) - offer id\n",
    "* offer_type (string) - type of offer ie BOGO, discount, informational\n",
    "* difficulty (int) - minimum required spend to complete an offer\n",
    "* reward (int) - reward given for completing an offer\n",
    "* duration (int) - time for offer to be open, in days\n",
    "* channels (list of strings)\n",
    "\n",
    "**profile.json**\n",
    "* age (int) - age of the customer \n",
    "* became_member_on (int) - date when customer created an app account\n",
    "* gender (str) - gender of the customer (note some entries contain 'O' for other rather than M or F)\n",
    "* id (str) - customer id\n",
    "* income (float) - customer's income\n",
    "\n",
    "**transcript.json**\n",
    "* event (str) - record description (ie transaction, offer received, offer viewed, etc.)\n",
    "* person (str) - customer id\n",
    "* time (int) - time in hours since start of test. The data begins at time t=0\n",
    "* value - (dict of strings) - either an offer id or transaction amount depending on the record\n"
   ]
  },
  {
   "cell_type": "markdown",
   "metadata": {},
   "source": [
    "My project aims to answer the two questions above, but I also ended up adding 2 additional models as points of exploration - the first assessing whether an all-in-one model could be used in place of 3 different models, with the offer types functioning as a categorical variable. Secondly, I also build a regression model to see if we could predict the amount a user would spend, given that the offer is effectively influencing them."
   ]
  },
  {
   "cell_type": "code",
   "execution_count": 1,
   "metadata": {},
   "outputs": [],
   "source": [
    "#import required libraries\n",
    "import pandas as pd\n",
    "import numpy as np\n",
    "import math\n",
    "import json\n",
    "\n",
    "from sklearn.model_selection import train_test_split\n",
    "from sklearn.preprocessing import StandardScaler\n",
    "from sklearn.tree import DecisionTreeClassifier\n",
    "from sklearn.ensemble import RandomForestClassifier\n",
    "from sklearn.preprocessing import PolynomialFeatures\n",
    "from sklearn.metrics import mean_squared_error\n",
    "from sklearn.metrics import classification_report\n",
    "from time import time\n",
    "from sklearn.model_selection import GridSearchCV\n",
    "import matplotlib.pyplot as plt\n",
    "from sklearn.linear_model import Ridge\n",
    "from sklearn.tree import DecisionTreeRegressor\n",
    "% matplotlib inline\n",
    "\n",
    "# read in the json files\n",
    "portfolio = pd.read_json('data/portfolio.json', orient='records', lines=True)\n",
    "profile = pd.read_json('data/profile.json', orient='records', lines=True)\n",
    "transcript = pd.read_json('data/transcript.json', orient='records', lines=True)"
   ]
  },
  {
   "cell_type": "markdown",
   "metadata": {},
   "source": [
    "## Data Exploration\n"
   ]
  },
  {
   "cell_type": "markdown",
   "metadata": {},
   "source": [
    "### a. Offer portfolio data"
   ]
  },
  {
   "cell_type": "markdown",
   "metadata": {},
   "source": [
    "The dataset schema is as follow:\n",
    "    "
   ]
  },
  {
   "cell_type": "markdown",
   "metadata": {},
   "source": [
    "### portfolio.json\n",
    "\n",
    "- id (string) - offer id\n",
    "\n",
    "- offer_type (string) - type of offer ie BOGO, discount, informational\n",
    "\n",
    "- difficulty (int) - minimum required spend to complete an offer\n",
    "\n",
    "- reward (int) - reward given for completing an offer\n",
    "\n",
    "- duration (int) -\n",
    "\n",
    "- channels (list of strings)\n",
    "\n",
    "Moreover, some further information given about the offers is that there are 3 different offer types:\n",
    "\n",
    "- BOGO - buy one get one free\n",
    "\n",
    "- Discount - discount with purchase\n",
    "\n",
    "- Informational - provides information about products\n",
    "\n",
    "This schema is pretty straightforward, as it contains the attributes of 3 different offer types. The duration was not explained I assumed from context that it is in terms of number of days."
   ]
  },
  {
   "cell_type": "code",
   "execution_count": 2,
   "metadata": {},
   "outputs": [
    {
     "data": {
      "text/html": [
       "<div>\n",
       "<style scoped>\n",
       "    .dataframe tbody tr th:only-of-type {\n",
       "        vertical-align: middle;\n",
       "    }\n",
       "\n",
       "    .dataframe tbody tr th {\n",
       "        vertical-align: top;\n",
       "    }\n",
       "\n",
       "    .dataframe thead th {\n",
       "        text-align: right;\n",
       "    }\n",
       "</style>\n",
       "<table border=\"1\" class=\"dataframe\">\n",
       "  <thead>\n",
       "    <tr style=\"text-align: right;\">\n",
       "      <th></th>\n",
       "      <th>channels</th>\n",
       "      <th>difficulty</th>\n",
       "      <th>duration</th>\n",
       "      <th>id</th>\n",
       "      <th>offer_type</th>\n",
       "      <th>reward</th>\n",
       "    </tr>\n",
       "  </thead>\n",
       "  <tbody>\n",
       "    <tr>\n",
       "      <th>0</th>\n",
       "      <td>[email, mobile, social]</td>\n",
       "      <td>10</td>\n",
       "      <td>7</td>\n",
       "      <td>ae264e3637204a6fb9bb56bc8210ddfd</td>\n",
       "      <td>bogo</td>\n",
       "      <td>10</td>\n",
       "    </tr>\n",
       "    <tr>\n",
       "      <th>1</th>\n",
       "      <td>[web, email, mobile, social]</td>\n",
       "      <td>10</td>\n",
       "      <td>5</td>\n",
       "      <td>4d5c57ea9a6940dd891ad53e9dbe8da0</td>\n",
       "      <td>bogo</td>\n",
       "      <td>10</td>\n",
       "    </tr>\n",
       "    <tr>\n",
       "      <th>2</th>\n",
       "      <td>[web, email, mobile]</td>\n",
       "      <td>0</td>\n",
       "      <td>4</td>\n",
       "      <td>3f207df678b143eea3cee63160fa8bed</td>\n",
       "      <td>informational</td>\n",
       "      <td>0</td>\n",
       "    </tr>\n",
       "    <tr>\n",
       "      <th>3</th>\n",
       "      <td>[web, email, mobile]</td>\n",
       "      <td>5</td>\n",
       "      <td>7</td>\n",
       "      <td>9b98b8c7a33c4b65b9aebfe6a799e6d9</td>\n",
       "      <td>bogo</td>\n",
       "      <td>5</td>\n",
       "    </tr>\n",
       "    <tr>\n",
       "      <th>4</th>\n",
       "      <td>[web, email]</td>\n",
       "      <td>20</td>\n",
       "      <td>10</td>\n",
       "      <td>0b1e1539f2cc45b7b9fa7c272da2e1d7</td>\n",
       "      <td>discount</td>\n",
       "      <td>5</td>\n",
       "    </tr>\n",
       "  </tbody>\n",
       "</table>\n",
       "</div>"
      ],
      "text/plain": [
       "                       channels  difficulty  duration  \\\n",
       "0       [email, mobile, social]          10         7   \n",
       "1  [web, email, mobile, social]          10         5   \n",
       "2          [web, email, mobile]           0         4   \n",
       "3          [web, email, mobile]           5         7   \n",
       "4                  [web, email]          20        10   \n",
       "\n",
       "                                 id     offer_type  reward  \n",
       "0  ae264e3637204a6fb9bb56bc8210ddfd           bogo      10  \n",
       "1  4d5c57ea9a6940dd891ad53e9dbe8da0           bogo      10  \n",
       "2  3f207df678b143eea3cee63160fa8bed  informational       0  \n",
       "3  9b98b8c7a33c4b65b9aebfe6a799e6d9           bogo       5  \n",
       "4  0b1e1539f2cc45b7b9fa7c272da2e1d7       discount       5  "
      ]
     },
     "execution_count": 2,
     "metadata": {},
     "output_type": "execute_result"
    }
   ],
   "source": [
    "#lets get some idea about this portfolio dataset values\n",
    "portfolio.head()"
   ]
  },
  {
   "cell_type": "code",
   "execution_count": 3,
   "metadata": {},
   "outputs": [
    {
     "data": {
      "text/html": [
       "<div>\n",
       "<style scoped>\n",
       "    .dataframe tbody tr th:only-of-type {\n",
       "        vertical-align: middle;\n",
       "    }\n",
       "\n",
       "    .dataframe tbody tr th {\n",
       "        vertical-align: top;\n",
       "    }\n",
       "\n",
       "    .dataframe thead th {\n",
       "        text-align: right;\n",
       "    }\n",
       "</style>\n",
       "<table border=\"1\" class=\"dataframe\">\n",
       "  <thead>\n",
       "    <tr style=\"text-align: right;\">\n",
       "      <th></th>\n",
       "      <th>difficulty</th>\n",
       "      <th>duration</th>\n",
       "      <th>reward</th>\n",
       "    </tr>\n",
       "  </thead>\n",
       "  <tbody>\n",
       "    <tr>\n",
       "      <th>count</th>\n",
       "      <td>10.000000</td>\n",
       "      <td>10.000000</td>\n",
       "      <td>10.000000</td>\n",
       "    </tr>\n",
       "    <tr>\n",
       "      <th>mean</th>\n",
       "      <td>7.700000</td>\n",
       "      <td>6.500000</td>\n",
       "      <td>4.200000</td>\n",
       "    </tr>\n",
       "    <tr>\n",
       "      <th>std</th>\n",
       "      <td>5.831905</td>\n",
       "      <td>2.321398</td>\n",
       "      <td>3.583915</td>\n",
       "    </tr>\n",
       "    <tr>\n",
       "      <th>min</th>\n",
       "      <td>0.000000</td>\n",
       "      <td>3.000000</td>\n",
       "      <td>0.000000</td>\n",
       "    </tr>\n",
       "    <tr>\n",
       "      <th>25%</th>\n",
       "      <td>5.000000</td>\n",
       "      <td>5.000000</td>\n",
       "      <td>2.000000</td>\n",
       "    </tr>\n",
       "    <tr>\n",
       "      <th>50%</th>\n",
       "      <td>8.500000</td>\n",
       "      <td>7.000000</td>\n",
       "      <td>4.000000</td>\n",
       "    </tr>\n",
       "    <tr>\n",
       "      <th>75%</th>\n",
       "      <td>10.000000</td>\n",
       "      <td>7.000000</td>\n",
       "      <td>5.000000</td>\n",
       "    </tr>\n",
       "    <tr>\n",
       "      <th>max</th>\n",
       "      <td>20.000000</td>\n",
       "      <td>10.000000</td>\n",
       "      <td>10.000000</td>\n",
       "    </tr>\n",
       "  </tbody>\n",
       "</table>\n",
       "</div>"
      ],
      "text/plain": [
       "       difficulty   duration     reward\n",
       "count   10.000000  10.000000  10.000000\n",
       "mean     7.700000   6.500000   4.200000\n",
       "std      5.831905   2.321398   3.583915\n",
       "min      0.000000   3.000000   0.000000\n",
       "25%      5.000000   5.000000   2.000000\n",
       "50%      8.500000   7.000000   4.000000\n",
       "75%     10.000000   7.000000   5.000000\n",
       "max     20.000000  10.000000  10.000000"
      ]
     },
     "execution_count": 3,
     "metadata": {},
     "output_type": "execute_result"
    }
   ],
   "source": [
    "portfolio.describe()"
   ]
  },
  {
   "cell_type": "code",
   "execution_count": 4,
   "metadata": {},
   "outputs": [
    {
     "data": {
      "text/plain": [
       "channels      0\n",
       "difficulty    0\n",
       "duration      0\n",
       "id            0\n",
       "offer_type    0\n",
       "reward        0\n",
       "dtype: int64"
      ]
     },
     "execution_count": 4,
     "metadata": {},
     "output_type": "execute_result"
    }
   ],
   "source": [
    "#check for null values\n",
    "portfolio.isnull().sum()"
   ]
  },
  {
   "cell_type": "code",
   "execution_count": 5,
   "metadata": {},
   "outputs": [
    {
     "data": {
      "text/plain": [
       "10"
      ]
     },
     "execution_count": 5,
     "metadata": {},
     "output_type": "execute_result"
    }
   ],
   "source": [
    "#check no. of unique offers\n",
    "portfolio.id.nunique()"
   ]
  },
  {
   "cell_type": "code",
   "execution_count": 6,
   "metadata": {},
   "outputs": [
    {
     "data": {
      "text/plain": [
       "offer_type\n",
       "bogo             4\n",
       "discount         4\n",
       "informational    2\n",
       "Name: id, dtype: int64"
      ]
     },
     "execution_count": 6,
     "metadata": {},
     "output_type": "execute_result"
    }
   ],
   "source": [
    "portfolio.groupby('offer_type')['id'].count()"
   ]
  },
  {
   "cell_type": "markdown",
   "metadata": {},
   "source": [
    "The above result shows that there are 10 unique offer ids with 4 each of bogo and discount types, while 2 informational types."
   ]
  },
  {
   "cell_type": "markdown",
   "metadata": {},
   "source": [
    "### b.Demographic data"
   ]
  },
  {
   "cell_type": "markdown",
   "metadata": {},
   "source": [
    "The schema and variables are as follows:"
   ]
  },
  {
   "cell_type": "markdown",
   "metadata": {},
   "source": [
    "### profile.json\n",
    "\n",
    "- age (int) - age of the customer\n",
    "- became_member_on (int) - date when customer created an app account\n",
    "- gender (str) - gender of the customer (note some entries contain 'O' for other rather than M or F)\n",
    "- id (str) - customer id\n",
    "- income (float) - customer's income\n",
    "\n",
    "it contains the demographic profile on the customer.\n"
   ]
  },
  {
   "cell_type": "code",
   "execution_count": 7,
   "metadata": {},
   "outputs": [
    {
     "data": {
      "text/html": [
       "<div>\n",
       "<style scoped>\n",
       "    .dataframe tbody tr th:only-of-type {\n",
       "        vertical-align: middle;\n",
       "    }\n",
       "\n",
       "    .dataframe tbody tr th {\n",
       "        vertical-align: top;\n",
       "    }\n",
       "\n",
       "    .dataframe thead th {\n",
       "        text-align: right;\n",
       "    }\n",
       "</style>\n",
       "<table border=\"1\" class=\"dataframe\">\n",
       "  <thead>\n",
       "    <tr style=\"text-align: right;\">\n",
       "      <th></th>\n",
       "      <th>age</th>\n",
       "      <th>became_member_on</th>\n",
       "      <th>gender</th>\n",
       "      <th>id</th>\n",
       "      <th>income</th>\n",
       "    </tr>\n",
       "  </thead>\n",
       "  <tbody>\n",
       "    <tr>\n",
       "      <th>0</th>\n",
       "      <td>118</td>\n",
       "      <td>20170212</td>\n",
       "      <td>None</td>\n",
       "      <td>68be06ca386d4c31939f3a4f0e3dd783</td>\n",
       "      <td>NaN</td>\n",
       "    </tr>\n",
       "    <tr>\n",
       "      <th>1</th>\n",
       "      <td>55</td>\n",
       "      <td>20170715</td>\n",
       "      <td>F</td>\n",
       "      <td>0610b486422d4921ae7d2bf64640c50b</td>\n",
       "      <td>112000.0</td>\n",
       "    </tr>\n",
       "    <tr>\n",
       "      <th>2</th>\n",
       "      <td>118</td>\n",
       "      <td>20180712</td>\n",
       "      <td>None</td>\n",
       "      <td>38fe809add3b4fcf9315a9694bb96ff5</td>\n",
       "      <td>NaN</td>\n",
       "    </tr>\n",
       "    <tr>\n",
       "      <th>3</th>\n",
       "      <td>75</td>\n",
       "      <td>20170509</td>\n",
       "      <td>F</td>\n",
       "      <td>78afa995795e4d85b5d9ceeca43f5fef</td>\n",
       "      <td>100000.0</td>\n",
       "    </tr>\n",
       "    <tr>\n",
       "      <th>4</th>\n",
       "      <td>118</td>\n",
       "      <td>20170804</td>\n",
       "      <td>None</td>\n",
       "      <td>a03223e636434f42ac4c3df47e8bac43</td>\n",
       "      <td>NaN</td>\n",
       "    </tr>\n",
       "  </tbody>\n",
       "</table>\n",
       "</div>"
      ],
      "text/plain": [
       "   age  became_member_on gender                                id    income\n",
       "0  118          20170212   None  68be06ca386d4c31939f3a4f0e3dd783       NaN\n",
       "1   55          20170715      F  0610b486422d4921ae7d2bf64640c50b  112000.0\n",
       "2  118          20180712   None  38fe809add3b4fcf9315a9694bb96ff5       NaN\n",
       "3   75          20170509      F  78afa995795e4d85b5d9ceeca43f5fef  100000.0\n",
       "4  118          20170804   None  a03223e636434f42ac4c3df47e8bac43       NaN"
      ]
     },
     "execution_count": 7,
     "metadata": {},
     "output_type": "execute_result"
    }
   ],
   "source": [
    "profile.head()"
   ]
  },
  {
   "cell_type": "code",
   "execution_count": 8,
   "metadata": {},
   "outputs": [
    {
     "data": {
      "text/html": [
       "<div>\n",
       "<style scoped>\n",
       "    .dataframe tbody tr th:only-of-type {\n",
       "        vertical-align: middle;\n",
       "    }\n",
       "\n",
       "    .dataframe tbody tr th {\n",
       "        vertical-align: top;\n",
       "    }\n",
       "\n",
       "    .dataframe thead th {\n",
       "        text-align: right;\n",
       "    }\n",
       "</style>\n",
       "<table border=\"1\" class=\"dataframe\">\n",
       "  <thead>\n",
       "    <tr style=\"text-align: right;\">\n",
       "      <th></th>\n",
       "      <th>age</th>\n",
       "      <th>became_member_on</th>\n",
       "      <th>income</th>\n",
       "    </tr>\n",
       "  </thead>\n",
       "  <tbody>\n",
       "    <tr>\n",
       "      <th>count</th>\n",
       "      <td>17000.000000</td>\n",
       "      <td>1.700000e+04</td>\n",
       "      <td>14825.000000</td>\n",
       "    </tr>\n",
       "    <tr>\n",
       "      <th>mean</th>\n",
       "      <td>62.531412</td>\n",
       "      <td>2.016703e+07</td>\n",
       "      <td>65404.991568</td>\n",
       "    </tr>\n",
       "    <tr>\n",
       "      <th>std</th>\n",
       "      <td>26.738580</td>\n",
       "      <td>1.167750e+04</td>\n",
       "      <td>21598.299410</td>\n",
       "    </tr>\n",
       "    <tr>\n",
       "      <th>min</th>\n",
       "      <td>18.000000</td>\n",
       "      <td>2.013073e+07</td>\n",
       "      <td>30000.000000</td>\n",
       "    </tr>\n",
       "    <tr>\n",
       "      <th>25%</th>\n",
       "      <td>45.000000</td>\n",
       "      <td>2.016053e+07</td>\n",
       "      <td>49000.000000</td>\n",
       "    </tr>\n",
       "    <tr>\n",
       "      <th>50%</th>\n",
       "      <td>58.000000</td>\n",
       "      <td>2.017080e+07</td>\n",
       "      <td>64000.000000</td>\n",
       "    </tr>\n",
       "    <tr>\n",
       "      <th>75%</th>\n",
       "      <td>73.000000</td>\n",
       "      <td>2.017123e+07</td>\n",
       "      <td>80000.000000</td>\n",
       "    </tr>\n",
       "    <tr>\n",
       "      <th>max</th>\n",
       "      <td>118.000000</td>\n",
       "      <td>2.018073e+07</td>\n",
       "      <td>120000.000000</td>\n",
       "    </tr>\n",
       "  </tbody>\n",
       "</table>\n",
       "</div>"
      ],
      "text/plain": [
       "                age  became_member_on         income\n",
       "count  17000.000000      1.700000e+04   14825.000000\n",
       "mean      62.531412      2.016703e+07   65404.991568\n",
       "std       26.738580      1.167750e+04   21598.299410\n",
       "min       18.000000      2.013073e+07   30000.000000\n",
       "25%       45.000000      2.016053e+07   49000.000000\n",
       "50%       58.000000      2.017080e+07   64000.000000\n",
       "75%       73.000000      2.017123e+07   80000.000000\n",
       "max      118.000000      2.018073e+07  120000.000000"
      ]
     },
     "execution_count": 8,
     "metadata": {},
     "output_type": "execute_result"
    }
   ],
   "source": [
    "profile.describe()"
   ]
  },
  {
   "cell_type": "markdown",
   "metadata": {},
   "source": [
    "The this count method shows that there is some null values in the profile dataset."
   ]
  },
  {
   "cell_type": "code",
   "execution_count": 9,
   "metadata": {},
   "outputs": [
    {
     "data": {
      "text/plain": [
       "age                    0\n",
       "became_member_on       0\n",
       "gender              2175\n",
       "id                     0\n",
       "income              2175\n",
       "dtype: int64"
      ]
     },
     "execution_count": 9,
     "metadata": {},
     "output_type": "execute_result"
    }
   ],
   "source": [
    "#check for null values\n",
    "profile.isnull().sum()"
   ]
  },
  {
   "cell_type": "markdown",
   "metadata": {},
   "source": [
    "see as suspected,the gender and income have null values.\n",
    "There is one thing we have to note that  whichever values are null in gender are also null in income."
   ]
  },
  {
   "cell_type": "code",
   "execution_count": 10,
   "metadata": {},
   "outputs": [
    {
     "data": {
      "text/plain": [
       "<matplotlib.axes._subplots.AxesSubplot at 0x7f6b0a5d9668>"
      ]
     },
     "execution_count": 10,
     "metadata": {},
     "output_type": "execute_result"
    },
    {
     "data": {
      "image/png": "[encoded data removed]",
      "text/plain": [
       "<matplotlib.figure.Figure at 0x7f6b0a9f4c88>"
      ]
     },
     "metadata": {
      "needs_background": "light"
     },
     "output_type": "display_data"
    }
   ],
   "source": [
    "#check distribution of age column\n",
    "profile.age.hist(color='orange')"
   ]
  },
  {
   "cell_type": "markdown",
   "metadata": {},
   "source": [
    "We can see above that the age = 118 value does not make sense there as it is clearly out of the normal distribution."
   ]
  },
  {
   "cell_type": "code",
   "execution_count": 11,
   "metadata": {},
   "outputs": [
    {
     "name": "stdout",
     "output_type": "stream",
     "text": [
      "age                 2175\n",
      "became_member_on    2175\n",
      "gender                 0\n",
      "id                  2175\n",
      "income                 0\n",
      "dtype: int64\n"
     ]
    },
    {
     "data": {
      "text/html": [
       "<div>\n",
       "<style scoped>\n",
       "    .dataframe tbody tr th:only-of-type {\n",
       "        vertical-align: middle;\n",
       "    }\n",
       "\n",
       "    .dataframe tbody tr th {\n",
       "        vertical-align: top;\n",
       "    }\n",
       "\n",
       "    .dataframe thead th {\n",
       "        text-align: right;\n",
       "    }\n",
       "</style>\n",
       "<table border=\"1\" class=\"dataframe\">\n",
       "  <thead>\n",
       "    <tr style=\"text-align: right;\">\n",
       "      <th></th>\n",
       "      <th>gender</th>\n",
       "      <th>income</th>\n",
       "      <th>age</th>\n",
       "    </tr>\n",
       "  </thead>\n",
       "  <tbody>\n",
       "    <tr>\n",
       "      <th>0</th>\n",
       "      <td>None</td>\n",
       "      <td>NaN</td>\n",
       "      <td>118</td>\n",
       "    </tr>\n",
       "    <tr>\n",
       "      <th>2</th>\n",
       "      <td>None</td>\n",
       "      <td>NaN</td>\n",
       "      <td>118</td>\n",
       "    </tr>\n",
       "    <tr>\n",
       "      <th>4</th>\n",
       "      <td>None</td>\n",
       "      <td>NaN</td>\n",
       "      <td>118</td>\n",
       "    </tr>\n",
       "    <tr>\n",
       "      <th>6</th>\n",
       "      <td>None</td>\n",
       "      <td>NaN</td>\n",
       "      <td>118</td>\n",
       "    </tr>\n",
       "    <tr>\n",
       "      <th>7</th>\n",
       "      <td>None</td>\n",
       "      <td>NaN</td>\n",
       "      <td>118</td>\n",
       "    </tr>\n",
       "  </tbody>\n",
       "</table>\n",
       "</div>"
      ],
      "text/plain": [
       "  gender  income  age\n",
       "0   None     NaN  118\n",
       "2   None     NaN  118\n",
       "4   None     NaN  118\n",
       "6   None     NaN  118\n",
       "7   None     NaN  118"
      ]
     },
     "execution_count": 11,
     "metadata": {},
     "output_type": "execute_result"
    }
   ],
   "source": [
    "#check count of age=118 value and corresponding gender and income columns\n",
    "print(profile[profile['age']==118].count())\n",
    "profile[['gender','income','age']][profile['age']==118].head()"
   ]
  },
  {
   "cell_type": "markdown",
   "metadata": {},
   "source": [
    "we can see, The above results the age=118 column corresponds with the null gender and income columns.\n"
   ]
  },
  {
   "cell_type": "code",
   "execution_count": 12,
   "metadata": {},
   "outputs": [
    {
     "data": {
      "text/plain": [
       "17000"
      ]
     },
     "execution_count": 12,
     "metadata": {},
     "output_type": "execute_result"
    }
   ],
   "source": [
    "#check how many unique people are in dataset\n",
    "profile['id'].nunique()"
   ]
  },
  {
   "cell_type": "markdown",
   "metadata": {},
   "source": [
    "so there is 17000 unique people are in dataset"
   ]
  },
  {
   "cell_type": "code",
   "execution_count": 13,
   "metadata": {},
   "outputs": [
    {
     "data": {
      "text/plain": [
       "<matplotlib.axes._subplots.AxesSubplot at 0x7f6b0a5ed7b8>"
      ]
     },
     "execution_count": 13,
     "metadata": {},
     "output_type": "execute_result"
    },
    {
     "data": {
      "image/png": "[encoded data removed]",
      "text/plain": [
       "<matplotlib.figure.Figure at 0x7f6b0a586c88>"
      ]
     },
     "metadata": {
      "needs_background": "light"
     },
     "output_type": "display_data"
    }
   ],
   "source": [
    "#check distributions of income\n",
    "profile.income.hist(color=\"green\")"
   ]
  },
  {
   "cell_type": "markdown",
   "metadata": {},
   "source": [
    "The became_member_on column has some potential to be feature engineered to get the tenure of membership in days. This feature might have some influence on whether an offer is effective or not."
   ]
  },
  {
   "cell_type": "code",
   "execution_count": 14,
   "metadata": {},
   "outputs": [
    {
     "data": {
      "text/plain": [
       "0    20170212\n",
       "1    20170715\n",
       "2    20180712\n",
       "3    20170509\n",
       "4    20170804\n",
       "Name: became_member_on, dtype: int64"
      ]
     },
     "execution_count": 14,
     "metadata": {},
     "output_type": "execute_result"
    }
   ],
   "source": [
    "profile.became_member_on.head()"
   ]
  },
  {
   "cell_type": "markdown",
   "metadata": {},
   "source": [
    "## c. Transactional records\n",
    "\n",
    "The schema for the transactional data is as follows:"
   ]
  },
  {
   "cell_type": "markdown",
   "metadata": {},
   "source": [
    "### transcript.json\n",
    "\n",
    "- event (str) - record description (ie transaction, offer received, offer viewed, etc.)\n",
    "- person (str) - customer id\n",
    "- time (int) - time in hours. The data begins at time t=0\n",
    "- value - (dict of strings) - either an offer id or transaction amount depending on the record"
   ]
  },
  {
   "cell_type": "code",
   "execution_count": 15,
   "metadata": {},
   "outputs": [
    {
     "data": {
      "text/html": [
       "<div>\n",
       "<style scoped>\n",
       "    .dataframe tbody tr th:only-of-type {\n",
       "        vertical-align: middle;\n",
       "    }\n",
       "\n",
       "    .dataframe tbody tr th {\n",
       "        vertical-align: top;\n",
       "    }\n",
       "\n",
       "    .dataframe thead th {\n",
       "        text-align: right;\n",
       "    }\n",
       "</style>\n",
       "<table border=\"1\" class=\"dataframe\">\n",
       "  <thead>\n",
       "    <tr style=\"text-align: right;\">\n",
       "      <th></th>\n",
       "      <th>event</th>\n",
       "      <th>person</th>\n",
       "      <th>time</th>\n",
       "      <th>value</th>\n",
       "    </tr>\n",
       "  </thead>\n",
       "  <tbody>\n",
       "    <tr>\n",
       "      <th>0</th>\n",
       "      <td>offer received</td>\n",
       "      <td>78afa995795e4d85b5d9ceeca43f5fef</td>\n",
       "      <td>0</td>\n",
       "      <td>{'offer id': '9b98b8c7a33c4b65b9aebfe6a799e6d9'}</td>\n",
       "    </tr>\n",
       "    <tr>\n",
       "      <th>1</th>\n",
       "      <td>offer received</td>\n",
       "      <td>a03223e636434f42ac4c3df47e8bac43</td>\n",
       "      <td>0</td>\n",
       "      <td>{'offer id': '0b1e1539f2cc45b7b9fa7c272da2e1d7'}</td>\n",
       "    </tr>\n",
       "    <tr>\n",
       "      <th>2</th>\n",
       "      <td>offer received</td>\n",
       "      <td>e2127556f4f64592b11af22de27a7932</td>\n",
       "      <td>0</td>\n",
       "      <td>{'offer id': '2906b810c7d4411798c6938adc9daaa5'}</td>\n",
       "    </tr>\n",
       "    <tr>\n",
       "      <th>3</th>\n",
       "      <td>offer received</td>\n",
       "      <td>8ec6ce2a7e7949b1bf142def7d0e0586</td>\n",
       "      <td>0</td>\n",
       "      <td>{'offer id': 'fafdcd668e3743c1bb461111dcafc2a4'}</td>\n",
       "    </tr>\n",
       "    <tr>\n",
       "      <th>4</th>\n",
       "      <td>offer received</td>\n",
       "      <td>68617ca6246f4fbc85e91a2a49552598</td>\n",
       "      <td>0</td>\n",
       "      <td>{'offer id': '4d5c57ea9a6940dd891ad53e9dbe8da0'}</td>\n",
       "    </tr>\n",
       "  </tbody>\n",
       "</table>\n",
       "</div>"
      ],
      "text/plain": [
       "            event                            person  time  \\\n",
       "0  offer received  78afa995795e4d85b5d9ceeca43f5fef     0   \n",
       "1  offer received  a03223e636434f42ac4c3df47e8bac43     0   \n",
       "2  offer received  e2127556f4f64592b11af22de27a7932     0   \n",
       "3  offer received  8ec6ce2a7e7949b1bf142def7d0e0586     0   \n",
       "4  offer received  68617ca6246f4fbc85e91a2a49552598     0   \n",
       "\n",
       "                                              value  \n",
       "0  {'offer id': '9b98b8c7a33c4b65b9aebfe6a799e6d9'}  \n",
       "1  {'offer id': '0b1e1539f2cc45b7b9fa7c272da2e1d7'}  \n",
       "2  {'offer id': '2906b810c7d4411798c6938adc9daaa5'}  \n",
       "3  {'offer id': 'fafdcd668e3743c1bb461111dcafc2a4'}  \n",
       "4  {'offer id': '4d5c57ea9a6940dd891ad53e9dbe8da0'}  "
      ]
     },
     "execution_count": 15,
     "metadata": {},
     "output_type": "execute_result"
    }
   ],
   "source": [
    "transcript.head()"
   ]
  },
  {
   "cell_type": "code",
   "execution_count": 16,
   "metadata": {},
   "outputs": [
    {
     "data": {
      "text/plain": [
       "array(['offer received', 'offer viewed', 'transaction', 'offer completed'], dtype=object)"
      ]
     },
     "execution_count": 16,
     "metadata": {},
     "output_type": "execute_result"
    }
   ],
   "source": [
    "transcript.event.unique()"
   ]
  },
  {
   "cell_type": "markdown",
   "metadata": {},
   "source": [
    "This data looks a bit more tricky, as it is ordered by time and has an event and value. In particular, the value column will have to be preprocessed depending on the event."
   ]
  },
  {
   "cell_type": "code",
   "execution_count": 17,
   "metadata": {},
   "outputs": [
    {
     "data": {
      "text/plain": [
       "17000"
      ]
     },
     "execution_count": 17,
     "metadata": {},
     "output_type": "execute_result"
    }
   ],
   "source": [
    "#check number of unique people represented\n",
    "transcript['person'].nunique()"
   ]
  },
  {
   "cell_type": "code",
   "execution_count": 18,
   "metadata": {},
   "outputs": [
    {
     "data": {
      "text/plain": [
       "event     0\n",
       "person    0\n",
       "time      0\n",
       "value     0\n",
       "dtype: int64"
      ]
     },
     "execution_count": 18,
     "metadata": {},
     "output_type": "execute_result"
    }
   ],
   "source": [
    "#check for null values\n",
    "transcript.isnull().sum()"
   ]
  },
  {
   "cell_type": "markdown",
   "metadata": {},
   "source": [
    "There are no null values in this data."
   ]
  },
  {
   "cell_type": "code",
   "execution_count": 19,
   "metadata": {},
   "outputs": [
    {
     "data": {
      "text/html": [
       "<div>\n",
       "<style scoped>\n",
       "    .dataframe tbody tr th:only-of-type {\n",
       "        vertical-align: middle;\n",
       "    }\n",
       "\n",
       "    .dataframe tbody tr th {\n",
       "        vertical-align: top;\n",
       "    }\n",
       "\n",
       "    .dataframe thead th {\n",
       "        text-align: right;\n",
       "    }\n",
       "</style>\n",
       "<table border=\"1\" class=\"dataframe\">\n",
       "  <thead>\n",
       "    <tr style=\"text-align: right;\">\n",
       "      <th></th>\n",
       "      <th>event</th>\n",
       "      <th>person</th>\n",
       "      <th>time</th>\n",
       "      <th>value</th>\n",
       "      <th>offer id</th>\n",
       "      <th>amount</th>\n",
       "      <th>offer_id</th>\n",
       "      <th>reward</th>\n",
       "    </tr>\n",
       "  </thead>\n",
       "  <tbody>\n",
       "    <tr>\n",
       "      <th>0</th>\n",
       "      <td>offer received</td>\n",
       "      <td>78afa995795e4d85b5d9ceeca43f5fef</td>\n",
       "      <td>0</td>\n",
       "      <td>{'offer id': '9b98b8c7a33c4b65b9aebfe6a799e6d9'}</td>\n",
       "      <td>9b98b8c7a33c4b65b9aebfe6a799e6d9</td>\n",
       "      <td>NaN</td>\n",
       "      <td>NaN</td>\n",
       "      <td>NaN</td>\n",
       "    </tr>\n",
       "    <tr>\n",
       "      <th>1</th>\n",
       "      <td>offer received</td>\n",
       "      <td>a03223e636434f42ac4c3df47e8bac43</td>\n",
       "      <td>0</td>\n",
       "      <td>{'offer id': '0b1e1539f2cc45b7b9fa7c272da2e1d7'}</td>\n",
       "      <td>0b1e1539f2cc45b7b9fa7c272da2e1d7</td>\n",
       "      <td>NaN</td>\n",
       "      <td>NaN</td>\n",
       "      <td>NaN</td>\n",
       "    </tr>\n",
       "    <tr>\n",
       "      <th>2</th>\n",
       "      <td>offer received</td>\n",
       "      <td>e2127556f4f64592b11af22de27a7932</td>\n",
       "      <td>0</td>\n",
       "      <td>{'offer id': '2906b810c7d4411798c6938adc9daaa5'}</td>\n",
       "      <td>2906b810c7d4411798c6938adc9daaa5</td>\n",
       "      <td>NaN</td>\n",
       "      <td>NaN</td>\n",
       "      <td>NaN</td>\n",
       "    </tr>\n",
       "    <tr>\n",
       "      <th>3</th>\n",
       "      <td>offer received</td>\n",
       "      <td>8ec6ce2a7e7949b1bf142def7d0e0586</td>\n",
       "      <td>0</td>\n",
       "      <td>{'offer id': 'fafdcd668e3743c1bb461111dcafc2a4'}</td>\n",
       "      <td>fafdcd668e3743c1bb461111dcafc2a4</td>\n",
       "      <td>NaN</td>\n",
       "      <td>NaN</td>\n",
       "      <td>NaN</td>\n",
       "    </tr>\n",
       "    <tr>\n",
       "      <th>4</th>\n",
       "      <td>offer received</td>\n",
       "      <td>68617ca6246f4fbc85e91a2a49552598</td>\n",
       "      <td>0</td>\n",
       "      <td>{'offer id': '4d5c57ea9a6940dd891ad53e9dbe8da0'}</td>\n",
       "      <td>4d5c57ea9a6940dd891ad53e9dbe8da0</td>\n",
       "      <td>NaN</td>\n",
       "      <td>NaN</td>\n",
       "      <td>NaN</td>\n",
       "    </tr>\n",
       "  </tbody>\n",
       "</table>\n",
       "</div>"
      ],
      "text/plain": [
       "            event                            person  time  \\\n",
       "0  offer received  78afa995795e4d85b5d9ceeca43f5fef     0   \n",
       "1  offer received  a03223e636434f42ac4c3df47e8bac43     0   \n",
       "2  offer received  e2127556f4f64592b11af22de27a7932     0   \n",
       "3  offer received  8ec6ce2a7e7949b1bf142def7d0e0586     0   \n",
       "4  offer received  68617ca6246f4fbc85e91a2a49552598     0   \n",
       "\n",
       "                                              value  \\\n",
       "0  {'offer id': '9b98b8c7a33c4b65b9aebfe6a799e6d9'}   \n",
       "1  {'offer id': '0b1e1539f2cc45b7b9fa7c272da2e1d7'}   \n",
       "2  {'offer id': '2906b810c7d4411798c6938adc9daaa5'}   \n",
       "3  {'offer id': 'fafdcd668e3743c1bb461111dcafc2a4'}   \n",
       "4  {'offer id': '4d5c57ea9a6940dd891ad53e9dbe8da0'}   \n",
       "\n",
       "                           offer id  amount offer_id  reward  \n",
       "0  9b98b8c7a33c4b65b9aebfe6a799e6d9     NaN      NaN     NaN  \n",
       "1  0b1e1539f2cc45b7b9fa7c272da2e1d7     NaN      NaN     NaN  \n",
       "2  2906b810c7d4411798c6938adc9daaa5     NaN      NaN     NaN  \n",
       "3  fafdcd668e3743c1bb461111dcafc2a4     NaN      NaN     NaN  \n",
       "4  4d5c57ea9a6940dd891ad53e9dbe8da0     NaN      NaN     NaN  "
      ]
     },
     "execution_count": 19,
     "metadata": {},
     "output_type": "execute_result"
    }
   ],
   "source": [
    "transcript=pd.concat([transcript, transcript['value'].apply(pd.Series)], axis=1)\n",
    "transcript.head()"
   ]
  },
  {
   "cell_type": "markdown",
   "metadata": {},
   "source": [
    "It appears as though the offer id column ended up being duplicates so we have to clean it up further to ensure there is only one offer id column."
   ]
  },
  {
   "cell_type": "code",
   "execution_count": 20,
   "metadata": {},
   "outputs": [],
   "source": [
    "#create new column to ensure only one offer_id column\n",
    "transcript['offer_id_new']=np.where(transcript['offer id'].isnull() & transcript['offer_id'].notnull(),transcript['offer_id'],transcript['offer id'])\n"
   ]
  },
  {
   "cell_type": "code",
   "execution_count": 21,
   "metadata": {},
   "outputs": [],
   "source": [
    "#drop unnecessary offer_id columns\n",
    "transcript.drop(['offer id','offer_id'],axis=1,inplace=True)"
   ]
  },
  {
   "cell_type": "code",
   "execution_count": 22,
   "metadata": {},
   "outputs": [],
   "source": [
    "#rename offer_id column\n",
    "transcript.rename(columns={'offer_id_new':'offer_id'},inplace=True)"
   ]
  },
  {
   "cell_type": "code",
   "execution_count": 23,
   "metadata": {},
   "outputs": [
    {
     "data": {
      "text/html": [
       "<div>\n",
       "<style scoped>\n",
       "    .dataframe tbody tr th:only-of-type {\n",
       "        vertical-align: middle;\n",
       "    }\n",
       "\n",
       "    .dataframe tbody tr th {\n",
       "        vertical-align: top;\n",
       "    }\n",
       "\n",
       "    .dataframe thead th {\n",
       "        text-align: right;\n",
       "    }\n",
       "</style>\n",
       "<table border=\"1\" class=\"dataframe\">\n",
       "  <thead>\n",
       "    <tr style=\"text-align: right;\">\n",
       "      <th></th>\n",
       "      <th>event</th>\n",
       "      <th>person</th>\n",
       "      <th>time</th>\n",
       "      <th>value</th>\n",
       "      <th>amount</th>\n",
       "      <th>reward</th>\n",
       "      <th>offer_id</th>\n",
       "    </tr>\n",
       "  </thead>\n",
       "  <tbody>\n",
       "    <tr>\n",
       "      <th>0</th>\n",
       "      <td>offer received</td>\n",
       "      <td>78afa995795e4d85b5d9ceeca43f5fef</td>\n",
       "      <td>0</td>\n",
       "      <td>{'offer id': '9b98b8c7a33c4b65b9aebfe6a799e6d9'}</td>\n",
       "      <td>NaN</td>\n",
       "      <td>NaN</td>\n",
       "      <td>9b98b8c7a33c4b65b9aebfe6a799e6d9</td>\n",
       "    </tr>\n",
       "    <tr>\n",
       "      <th>1</th>\n",
       "      <td>offer received</td>\n",
       "      <td>a03223e636434f42ac4c3df47e8bac43</td>\n",
       "      <td>0</td>\n",
       "      <td>{'offer id': '0b1e1539f2cc45b7b9fa7c272da2e1d7'}</td>\n",
       "      <td>NaN</td>\n",
       "      <td>NaN</td>\n",
       "      <td>0b1e1539f2cc45b7b9fa7c272da2e1d7</td>\n",
       "    </tr>\n",
       "    <tr>\n",
       "      <th>2</th>\n",
       "      <td>offer received</td>\n",
       "      <td>e2127556f4f64592b11af22de27a7932</td>\n",
       "      <td>0</td>\n",
       "      <td>{'offer id': '2906b810c7d4411798c6938adc9daaa5'}</td>\n",
       "      <td>NaN</td>\n",
       "      <td>NaN</td>\n",
       "      <td>2906b810c7d4411798c6938adc9daaa5</td>\n",
       "    </tr>\n",
       "    <tr>\n",
       "      <th>3</th>\n",
       "      <td>offer received</td>\n",
       "      <td>8ec6ce2a7e7949b1bf142def7d0e0586</td>\n",
       "      <td>0</td>\n",
       "      <td>{'offer id': 'fafdcd668e3743c1bb461111dcafc2a4'}</td>\n",
       "      <td>NaN</td>\n",
       "      <td>NaN</td>\n",
       "      <td>fafdcd668e3743c1bb461111dcafc2a4</td>\n",
       "    </tr>\n",
       "    <tr>\n",
       "      <th>4</th>\n",
       "      <td>offer received</td>\n",
       "      <td>68617ca6246f4fbc85e91a2a49552598</td>\n",
       "      <td>0</td>\n",
       "      <td>{'offer id': '4d5c57ea9a6940dd891ad53e9dbe8da0'}</td>\n",
       "      <td>NaN</td>\n",
       "      <td>NaN</td>\n",
       "      <td>4d5c57ea9a6940dd891ad53e9dbe8da0</td>\n",
       "    </tr>\n",
       "  </tbody>\n",
       "</table>\n",
       "</div>"
      ],
      "text/plain": [
       "            event                            person  time  \\\n",
       "0  offer received  78afa995795e4d85b5d9ceeca43f5fef     0   \n",
       "1  offer received  a03223e636434f42ac4c3df47e8bac43     0   \n",
       "2  offer received  e2127556f4f64592b11af22de27a7932     0   \n",
       "3  offer received  8ec6ce2a7e7949b1bf142def7d0e0586     0   \n",
       "4  offer received  68617ca6246f4fbc85e91a2a49552598     0   \n",
       "\n",
       "                                              value  amount  reward  \\\n",
       "0  {'offer id': '9b98b8c7a33c4b65b9aebfe6a799e6d9'}     NaN     NaN   \n",
       "1  {'offer id': '0b1e1539f2cc45b7b9fa7c272da2e1d7'}     NaN     NaN   \n",
       "2  {'offer id': '2906b810c7d4411798c6938adc9daaa5'}     NaN     NaN   \n",
       "3  {'offer id': 'fafdcd668e3743c1bb461111dcafc2a4'}     NaN     NaN   \n",
       "4  {'offer id': '4d5c57ea9a6940dd891ad53e9dbe8da0'}     NaN     NaN   \n",
       "\n",
       "                           offer_id  \n",
       "0  9b98b8c7a33c4b65b9aebfe6a799e6d9  \n",
       "1  0b1e1539f2cc45b7b9fa7c272da2e1d7  \n",
       "2  2906b810c7d4411798c6938adc9daaa5  \n",
       "3  fafdcd668e3743c1bb461111dcafc2a4  \n",
       "4  4d5c57ea9a6940dd891ad53e9dbe8da0  "
      ]
     },
     "execution_count": 23,
     "metadata": {},
     "output_type": "execute_result"
    }
   ],
   "source": [
    "transcript.head()"
   ]
  },
  {
   "cell_type": "markdown",
   "metadata": {},
   "source": [
    "## Data preprocessing data for the model\n"
   ]
  },
  {
   "cell_type": "code",
   "execution_count": 24,
   "metadata": {},
   "outputs": [],
   "source": [
    "#rename column\n",
    "portfolio.rename(columns={'id':'offer_id'},inplace=True)"
   ]
  },
  {
   "cell_type": "code",
   "execution_count": 25,
   "metadata": {},
   "outputs": [],
   "source": [
    "#join transcript with offer type\n",
    "transcript=transcript.merge(portfolio,how='left',on='offer_id')"
   ]
  },
  {
   "cell_type": "code",
   "execution_count": 26,
   "metadata": {},
   "outputs": [
    {
     "data": {
      "text/plain": [
       "event            offer_type   \n",
       "offer completed  bogo             15669\n",
       "                 discount         17910\n",
       "offer received   bogo             30499\n",
       "                 discount         30543\n",
       "                 informational    15235\n",
       "offer viewed     bogo             25449\n",
       "                 discount         21445\n",
       "                 informational    10831\n",
       "Name: offer_type, dtype: int64"
      ]
     },
     "execution_count": 26,
     "metadata": {},
     "output_type": "execute_result"
    }
   ],
   "source": [
    "transcript.groupby(['event','offer_type'])['offer_type'].count()"
   ]
  },
  {
   "cell_type": "markdown",
   "metadata": {},
   "source": [
    "We know that there are 4 types of events: offer completed, offer received, offer viewed and transaction. But our data shows that we do not have any offer_id associated with transactions, because they are not recorded in the transcript event data. Thus, the first objective in data preprocessing is to define a methodology to assign offer_ids to specific transactions.\n",
    "\n",
    "we also know that BOGO and discount offers have an offer completed event when offers are completed. However, informational offers do not have this event associated with it. Thus, we also specify the approach to define an effective offer as follows:\n",
    "\n",
    "For a BOGO and discount offer, an effective offer would be defined if the following events were recorded in the right sequence in time:\n",
    "\n",
    "offer received -> offer viewed -> transaction -> offer completed"
   ]
  },
  {
   "cell_type": "markdown",
   "metadata": {},
   "source": [
    "## Data Preprocessing"
   ]
  },
  {
   "cell_type": "markdown",
   "metadata": {},
   "source": [
    "### a. Assigning offer ids to transactions\n",
    "After defining the approach above, we now have to explore methods to assign offer_ids to specific transactions. Among the considerations is to define the following main groups of customers:\n"
   ]
  },
  {
   "cell_type": "markdown",
   "metadata": {},
   "source": [
    "#### 1. People who are influenced and successfully convert - effective offers:\n",
    "\n",
    "- `offer received` -> `offer viewed` -> `transaction` -> `offer completed` (BOGO/discount offers)\n",
    "- `offer received` -> `offer viewed` -> `transaction` (informational offers - must be within validity period of offer)\n",
    "\n",
    "2. People who received and viewed an offer but did not successfully convert - ineffective offers:\n",
    "\n",
    "- `offer received` -> `offer viewed`\n"
   ]
  },
  {
   "cell_type": "markdown",
   "metadata": {},
   "source": [
    "#### 2. People who received and viewed an offer but did not successfully convert - ineffective offers:\n",
    "\n",
    "- `offer received` -> `offer viewed`\n"
   ]
  },
  {
   "cell_type": "markdown",
   "metadata": {},
   "source": [
    "#### 3. People who purchase/complete offers regardless of awareness of any offers:\n",
    "\n",
    "- `transaction`\n",
    "- `offer received` -> `transaction` -> `offer completed` -> `offer viewed`\n",
    "- `transaction` -> `offer received` -> `offer completed` -> `offer viewed`\n",
    "- `offer received` -> `transaction` -> `offer viewed` -> `offer completed`\n",
    "- `offer received` -> `transaction` (informational offers)\n",
    "- `offer received` -> `transaction` -> `offer viewed` (informational offers)"
   ]
  },
  {
   "cell_type": "markdown",
   "metadata": {},
   "source": [
    "#### 4. People who received offers but no action taken:\n",
    "\n",
    "- `offer received`"
   ]
  },
  {
   "cell_type": "markdown",
   "metadata": {},
   "source": [
    "For people in group 2, I would need to check if there are events where there is an offer received and offer viewed event, but no conversion event, i.e. offer completed or transaction - these are cases of ineffective offers.\n",
    "\n",
    "I would have to separate out the people in group 2 from people in group 4, as people in group 2 may have viewed an offer but did not take any action, whereas people in group 4 did not even have an offer viewed event.\n",
    "\n",
    "Separating the conversions for effective offers (group 1) and people who purchase/complete offers regardless of awareness of any offers (group 3) is particularly tricky. For people in group 3, a conversion is invalid (i.e., not a successful conversion from an offer) if an offer completed or transaction occurs before an offer viewed. There also may be scenarios where an offer completed occurs after the offer is viewed, but a transaction was done prior to the offer being viewed. In this instance, the offer may have been completed, but it is also not a valid conversion."
   ]
  },
  {
   "cell_type": "code",
   "execution_count": 27,
   "metadata": {},
   "outputs": [],
   "source": [
    "#define dropcolumns function as I will be doing this many times\n",
    "def drop_cols(drop_cols,df,inplace=False):\n",
    "    '''\n",
    "    inputs:\n",
    "    - drop_cols: list or string of column name to be dropped\n",
    "    - df: dataframe from which column should be dropped\n",
    "    - inplace: specify whether columns are dropped in place or not\n",
    "    \n",
    "    outputs:\n",
    "    - Returns dataframe with dropped columns.\n",
    "       \n",
    "    '''\n",
    "    df=df.drop(columns=drop_cols,axis=1,inplace=inplace)\n",
    "    return df"
   ]
  },
  {
   "cell_type": "code",
   "execution_count": 28,
   "metadata": {},
   "outputs": [],
   "source": [
    "#drop unnecessary columns to clean dataset\n",
    "transcript=drop_cols(['reward_x','reward_y'],transcript)"
   ]
  },
  {
   "cell_type": "code",
   "execution_count": 29,
   "metadata": {},
   "outputs": [],
   "source": [
    "#sort events by person and time\n",
    "transcript=transcript.sort_values(['person','time'])"
   ]
  },
  {
   "cell_type": "code",
   "execution_count": 30,
   "metadata": {},
   "outputs": [],
   "source": [
    "#filter dataset for transactions that occur after an offer is viewed, forward fill offer ids by person\n",
    "offers_view_transacted=transcript[['time','offer_id','person','event']][(transcript['event']=='transaction') | (transcript['event']=='offer viewed')].groupby(['person','offer_id']).ffill()\n",
    "offers_view_transacted['offer_id']=offers_view_transacted['offer_id'].ffill()"
   ]
  },
  {
   "cell_type": "markdown",
   "metadata": {},
   "source": [
    "Since the above temporary dataset is just a subset of the transcript dataset, I can create a new dataset with the filled in offer ids for transactions."
   ]
  },
  {
   "cell_type": "code",
   "execution_count": 31,
   "metadata": {},
   "outputs": [],
   "source": [
    "transcript=transcript.merge(offers_view_transacted,how='left',on=['person','time','event'])"
   ]
  },
  {
   "cell_type": "code",
   "execution_count": 32,
   "metadata": {},
   "outputs": [],
   "source": [
    "#clean up dataset to unify multiple offer_id columns into one column\n",
    "transcript['offer_id']=np.where(transcript['offer_id_x'].isnull(),transcript['offer_id_y'],transcript['offer_id_x'])"
   ]
  },
  {
   "cell_type": "code",
   "execution_count": 33,
   "metadata": {},
   "outputs": [],
   "source": [
    "drop_cols(['offer_id_x','offer_id_y'],transcript,inplace=True)"
   ]
  },
  {
   "cell_type": "code",
   "execution_count": 34,
   "metadata": {},
   "outputs": [],
   "source": [
    "#merge portfolio dataset again to get offer data for the transaction events\n",
    "transcript=transcript.merge(portfolio,how='left',on='offer_id')\n",
    "transcript['duration']=np.where(transcript['duration_x'].isnull(),transcript['duration_y'],transcript['duration_x'])\n",
    "drop_cols(['duration_x','offer_type_x','difficulty_x','channels_x','duration_y'],transcript,inplace=True)"
   ]
  },
  {
   "cell_type": "code",
   "execution_count": 35,
   "metadata": {},
   "outputs": [],
   "source": [
    "transcript.rename(columns={'channels_y':'channels','reward_y':'reward','difficulty_y':'difficulty','offer_type_y':'offer_type'},inplace=True)"
   ]
  },
  {
   "cell_type": "code",
   "execution_count": 36,
   "metadata": {},
   "outputs": [
    {
     "data": {
      "text/html": [
       "<div>\n",
       "<style scoped>\n",
       "    .dataframe tbody tr th:only-of-type {\n",
       "        vertical-align: middle;\n",
       "    }\n",
       "\n",
       "    .dataframe tbody tr th {\n",
       "        vertical-align: top;\n",
       "    }\n",
       "\n",
       "    .dataframe thead th {\n",
       "        text-align: right;\n",
       "    }\n",
       "</style>\n",
       "<table border=\"1\" class=\"dataframe\">\n",
       "  <thead>\n",
       "    <tr style=\"text-align: right;\">\n",
       "      <th></th>\n",
       "      <th>event</th>\n",
       "      <th>person</th>\n",
       "      <th>time</th>\n",
       "      <th>value</th>\n",
       "      <th>amount</th>\n",
       "      <th>offer_id</th>\n",
       "      <th>channels</th>\n",
       "      <th>difficulty</th>\n",
       "      <th>offer_type</th>\n",
       "      <th>reward</th>\n",
       "      <th>duration</th>\n",
       "    </tr>\n",
       "  </thead>\n",
       "  <tbody>\n",
       "    <tr>\n",
       "      <th>0</th>\n",
       "      <td>offer received</td>\n",
       "      <td>0009655768c64bdeb2e877511632db8f</td>\n",
       "      <td>168</td>\n",
       "      <td>{'offer id': '5a8bc65990b245e5a138643cd4eb9837'}</td>\n",
       "      <td>NaN</td>\n",
       "      <td>5a8bc65990b245e5a138643cd4eb9837</td>\n",
       "      <td>[email, mobile, social]</td>\n",
       "      <td>0</td>\n",
       "      <td>informational</td>\n",
       "      <td>0</td>\n",
       "      <td>3.0</td>\n",
       "    </tr>\n",
       "    <tr>\n",
       "      <th>1</th>\n",
       "      <td>offer viewed</td>\n",
       "      <td>0009655768c64bdeb2e877511632db8f</td>\n",
       "      <td>192</td>\n",
       "      <td>{'offer id': '5a8bc65990b245e5a138643cd4eb9837'}</td>\n",
       "      <td>NaN</td>\n",
       "      <td>5a8bc65990b245e5a138643cd4eb9837</td>\n",
       "      <td>[email, mobile, social]</td>\n",
       "      <td>0</td>\n",
       "      <td>informational</td>\n",
       "      <td>0</td>\n",
       "      <td>3.0</td>\n",
       "    </tr>\n",
       "    <tr>\n",
       "      <th>2</th>\n",
       "      <td>transaction</td>\n",
       "      <td>0009655768c64bdeb2e877511632db8f</td>\n",
       "      <td>228</td>\n",
       "      <td>{'amount': 22.16}</td>\n",
       "      <td>22.16</td>\n",
       "      <td>5a8bc65990b245e5a138643cd4eb9837</td>\n",
       "      <td>[email, mobile, social]</td>\n",
       "      <td>0</td>\n",
       "      <td>informational</td>\n",
       "      <td>0</td>\n",
       "      <td>3.0</td>\n",
       "    </tr>\n",
       "    <tr>\n",
       "      <th>3</th>\n",
       "      <td>offer received</td>\n",
       "      <td>0009655768c64bdeb2e877511632db8f</td>\n",
       "      <td>336</td>\n",
       "      <td>{'offer id': '3f207df678b143eea3cee63160fa8bed'}</td>\n",
       "      <td>NaN</td>\n",
       "      <td>3f207df678b143eea3cee63160fa8bed</td>\n",
       "      <td>[web, email, mobile]</td>\n",
       "      <td>0</td>\n",
       "      <td>informational</td>\n",
       "      <td>0</td>\n",
       "      <td>4.0</td>\n",
       "    </tr>\n",
       "    <tr>\n",
       "      <th>4</th>\n",
       "      <td>offer viewed</td>\n",
       "      <td>0009655768c64bdeb2e877511632db8f</td>\n",
       "      <td>372</td>\n",
       "      <td>{'offer id': '3f207df678b143eea3cee63160fa8bed'}</td>\n",
       "      <td>NaN</td>\n",
       "      <td>3f207df678b143eea3cee63160fa8bed</td>\n",
       "      <td>[web, email, mobile]</td>\n",
       "      <td>0</td>\n",
       "      <td>informational</td>\n",
       "      <td>0</td>\n",
       "      <td>4.0</td>\n",
       "    </tr>\n",
       "  </tbody>\n",
       "</table>\n",
       "</div>"
      ],
      "text/plain": [
       "            event                            person  time  \\\n",
       "0  offer received  0009655768c64bdeb2e877511632db8f   168   \n",
       "1    offer viewed  0009655768c64bdeb2e877511632db8f   192   \n",
       "2     transaction  0009655768c64bdeb2e877511632db8f   228   \n",
       "3  offer received  0009655768c64bdeb2e877511632db8f   336   \n",
       "4    offer viewed  0009655768c64bdeb2e877511632db8f   372   \n",
       "\n",
       "                                              value  amount  \\\n",
       "0  {'offer id': '5a8bc65990b245e5a138643cd4eb9837'}     NaN   \n",
       "1  {'offer id': '5a8bc65990b245e5a138643cd4eb9837'}     NaN   \n",
       "2                                 {'amount': 22.16}   22.16   \n",
       "3  {'offer id': '3f207df678b143eea3cee63160fa8bed'}     NaN   \n",
       "4  {'offer id': '3f207df678b143eea3cee63160fa8bed'}     NaN   \n",
       "\n",
       "                           offer_id                 channels  difficulty  \\\n",
       "0  5a8bc65990b245e5a138643cd4eb9837  [email, mobile, social]           0   \n",
       "1  5a8bc65990b245e5a138643cd4eb9837  [email, mobile, social]           0   \n",
       "2  5a8bc65990b245e5a138643cd4eb9837  [email, mobile, social]           0   \n",
       "3  3f207df678b143eea3cee63160fa8bed     [web, email, mobile]           0   \n",
       "4  3f207df678b143eea3cee63160fa8bed     [web, email, mobile]           0   \n",
       "\n",
       "      offer_type  reward  duration  \n",
       "0  informational       0       3.0  \n",
       "1  informational       0       3.0  \n",
       "2  informational       0       3.0  \n",
       "3  informational       0       4.0  \n",
       "4  informational       0       4.0  "
      ]
     },
     "execution_count": 36,
     "metadata": {},
     "output_type": "execute_result"
    }
   ],
   "source": [
    "transcript.head()"
   ]
  },
  {
   "cell_type": "markdown",
   "metadata": {},
   "source": [
    "### b. Flagging transactions and offers completed after offers viewed"
   ]
  },
  {
   "cell_type": "markdown",
   "metadata": {},
   "source": [
    "The next important step for preparing our data for modeling and analysis is to identify a completed offer and transactions occurring after an offer is viewed.\n",
    "\n",
    "Once we have assigned a transaction occurring after an offer is viewed, I can use that information to subset my data according to the groups defined above, and analyse within each group.\n",
    "\n",
    "Using our dataset with the offer_ids populated for transaction events, we can flag the converted transactions and completed offers. We have to first ensure that the offer id of the previous event is the same one. Since we have tagged the offer id for all viewed, transactions and completed offers, we can use the offer_id field to ensure that the previous offer consists of those events.\n",
    "\n",
    "This means that as long as the events offer viewed,transaction, and offer completed occur in the same event space and are in the corrrect sequence of time, we can be assured that it is a transaction and/or completed offer occurring only after an offer is viewed.\n",
    "\n",
    "To do this, I created a new column to flag the previous offer id using pandas' shift function."
   ]
  },
  {
   "cell_type": "code",
   "execution_count": 37,
   "metadata": {},
   "outputs": [],
   "source": [
    "#get sample space of events consisting of offer viewed, transactions and offer completed\n",
    "offers_viewed_transactions_completed=transcript[(transcript['event']=='offer viewed') | (transcript['event']=='transaction') | (transcript['event']=='offer completed')].copy()"
   ]
  },
  {
   "cell_type": "code",
   "execution_count": 38,
   "metadata": {},
   "outputs": [],
   "source": [
    "#add extra column to flag the previous offer id\n",
    "offers_viewed_transactions_completed['offer_id_previous'] = offers_viewed_transactions_completed.groupby(['person','offer_id'])['offer_id'].shift()"
   ]
  },
  {
   "cell_type": "code",
   "execution_count": 39,
   "metadata": {},
   "outputs": [],
   "source": [
    "#flag a completed transaction/offer completed as long as the previous offer id consists of events in the same sample space\n",
    "offers_viewed_transactions_completed['valid_completed']=np.where(offers_viewed_transactions_completed['offer_id_previous']==offers_viewed_transactions_completed['offer_id'],1,0)"
   ]
  },
  {
   "cell_type": "markdown",
   "metadata": {},
   "source": [
    "Since our dataset offers_viewed_transactions_completed consists of all other possible events, all we need to do is to append the all offers received events in the transactions_clean dataset to ensure we have our complete dataset again."
   ]
  },
  {
   "cell_type": "code",
   "execution_count": 40,
   "metadata": {},
   "outputs": [],
   "source": [
    "#get only offer received events\n",
    "offers_received=transcript[transcript['event']=='offer received'].copy()"
   ]
  },
  {
   "cell_type": "code",
   "execution_count": 41,
   "metadata": {},
   "outputs": [],
   "source": [
    "#ensure all columns are the same between datasets to be appended\n",
    "offers_received['offer_id_previous']=np.nan\n",
    "offers_received['valid_completed']=np.nan"
   ]
  },
  {
   "cell_type": "code",
   "execution_count": 42,
   "metadata": {},
   "outputs": [],
   "source": [
    "#append datasets to complete dataset of transactions\n",
    "transcript=offers_received.append(offers_viewed_transactions_completed)\n"
   ]
  },
  {
   "cell_type": "code",
   "execution_count": 43,
   "metadata": {},
   "outputs": [],
   "source": [
    "#sort values\n",
    "transcript=transcript.sort_values(['person','time'])"
   ]
  },
  {
   "cell_type": "markdown",
   "metadata": {},
   "source": [
    "Having assigned offer_ids for transactions for which an offer viewed event occurred prior, we can now revisit the four customer groups of unique person-offer_id pairs we are trying to analyse.\n",
    "\n",
    "Since we consider the conversion events of depending on offer type differently, we have to first separate the transcript into 3 different offer types, in order to accommodate for the different treatment in assigning the target variable."
   ]
  },
  {
   "cell_type": "code",
   "execution_count": 44,
   "metadata": {},
   "outputs": [],
   "source": [
    "def split(offer_type,grp_df):\n",
    "    '''\n",
    "    Splits dataframe to groups of specified offer type.\n",
    "    \n",
    "    inputs:\n",
    "    - offer_type: specify offer type name in string format \n",
    "    - grp_df: original transcript dataframe to split on offer type\n",
    "    \n",
    "    outputs:\n",
    "    - Returns dataframe containing data of just offer type.\n",
    "       \n",
    "    '''\n",
    "    df=grp_df[grp_df['offer_type']==offer_type].copy()\n",
    "    return df"
   ]
  },
  {
   "cell_type": "code",
   "execution_count": 45,
   "metadata": {},
   "outputs": [],
   "source": [
    "#split transcript into 3 different offer types\n",
    "transcript_bogo=split('bogo',transcript)\n",
    "transcript_discount=split('discount',transcript)\n",
    "transcript_info=split('informational',transcript)"
   ]
  },
  {
   "cell_type": "markdown",
   "metadata": {},
   "source": [
    "Within each offer type, we can already successfully separate every unique person-offer_id in group 1 from the others using our valid_completed column. Since we have flagged all conversion events (transaction or offer completed event depending on offer type) occurring after an offer viewed event, we can be assured that whichever conversion events are flagged with valid_completed=1 are at least within the first group (People who are influenced and successfully convert - effective offers).\n",
    "\n",
    "For BOGO and discount offers, we will only consider offer completed events as the conversion events, while we can consider transaction event as the conversion event for the informational offers."
   ]
  },
  {
   "cell_type": "code",
   "execution_count": 46,
   "metadata": {},
   "outputs": [],
   "source": [
    "#since will do this for both BOGO and discount, define function for repeated operation\n",
    "def grp1(df):\n",
    "    '''\n",
    "    Subsets dataframe to just group 1 members.\n",
    "    \n",
    "    inputs:\n",
    "    - df: original transcript dataframe \n",
    "\n",
    "    outputs:\n",
    "    - Returns dataframe containing transcript data of just group 1 users.\n",
    "       \n",
    "    '''\n",
    "    grp1=df[['person','offer_id']][(df['valid_completed']==1) & (df['event']=='offer completed')].groupby(['person','offer_id']).count().reset_index()\n",
    "    return grp1\n"
   ]
  },
  {
   "cell_type": "code",
   "execution_count": 47,
   "metadata": {},
   "outputs": [],
   "source": [
    "grp1_bogo=grp1(transcript_bogo)\n",
    "grp1_discount=grp1(transcript_discount)"
   ]
  },
  {
   "cell_type": "markdown",
   "metadata": {},
   "source": [
    "Meanwhile, for informational offers we will define group 1 later as there is an additional consideration we need to take into account for transactions - they need to occur within the validity period of an informational offer for us to consider them as effective offers.\n",
    "\n",
    "Now, we can look into separating group 2 and group 4 unique person-offer_ids for BOGO and discount offers as we just need to look at the subset of people with offer received, offer viewed, but no conversion events. We can also assume that every person who views an offer would have had an offer received event prior, so we can just take the whole group of people who received an offer and subset them later."
   ]
  },
  {
   "cell_type": "code",
   "execution_count": 48,
   "metadata": {},
   "outputs": [],
   "source": [
    "\n",
    "#again, we define a function as we will repeat this for 2 datasets - BOGO & discount\n",
    "def no_conv(df):\n",
    "    \n",
    "    '''\n",
    "    Takes in transcript dataframe of single offer type to check for people who converted vs people with just offer received events. \n",
    "    \n",
    "    inputs:\n",
    "    - df: original transcript dataframe of specific offer type \n",
    "    \n",
    "    outputs:\n",
    "    - Returns dataframe containing unqiue person-offer_id pairs with conversion events and offers received events, with indicator of each.\n",
    "    \n",
    "    Note: left_only indicator is just the offers received events, right_only is just conversion events\n",
    "       \n",
    "    '''\n",
    "    \n",
    "    #subset offer ids that have transactions or conversions by person and offer_id\n",
    "    conversion_ids=df[['person','offer_id']][(df['event']=='transaction') | (df['event']=='offer completed') ].groupby(['person','offer_id']).count().reset_index()\n",
    "\n",
    "    #check for unique person-offer_id pairs that consist of offers received \n",
    "    offers_received_only=df[['person','offer_id']][df['event']=='offer received'].groupby(['person','offer_id']).count().reset_index()\n",
    "\n",
    "    #create merged dataset to diffrentiate groups\n",
    "    check_merge=conversion_ids.merge(offers_received_only,how='right',on=['person','offer_id'],indicator=True)\n",
    "    return check_merge"
   ]
  },
  {
   "cell_type": "code",
   "execution_count": 49,
   "metadata": {},
   "outputs": [
    {
     "name": "stdout",
     "output_type": "stream",
     "text": [
      "For BOGO offers:\n",
      "            person  offer_id\n",
      "_merge                      \n",
      "left_only        0         0\n",
      "right_only    4729      4729\n",
      "both         20592     20592\n",
      "For Discount offers:\n",
      "            person  offer_id\n",
      "_merge                      \n",
      "left_only        0         0\n",
      "right_only    6415      6415\n",
      "both         18901     18901\n"
     ]
    }
   ],
   "source": [
    "#check how many are in either group\n",
    "check_merge_bogo=no_conv(transcript_bogo)\n",
    "print('For BOGO offers:')\n",
    "print(check_merge_bogo.groupby(['_merge']).count())\n",
    "\n",
    "check_merge_discount=no_conv(transcript_discount)\n",
    "print('For Discount offers:')\n",
    "print(check_merge_discount.groupby(['_merge']).count())"
   ]
  },
  {
   "cell_type": "markdown",
   "metadata": {},
   "source": [
    "We can see that there are definitely a fair number of unique person-offer_id pairs that have offer received events, but no conversion events. These would be considered offers in group 2 and 4 within each offer type, according to our definition above.\n",
    "\n",
    "People with an offer viewed event in this subset are definitely in group 2, as we can assume everyone with an offer viewed event has an offer received event prior."
   ]
  },
  {
   "cell_type": "code",
   "execution_count": 50,
   "metadata": {},
   "outputs": [],
   "source": [
    "#define group 2 & 4 function as will repeat this for BOGO and discount offers\n",
    "def grp_2_4(df):\n",
    "    \n",
    "    '''\n",
    "    Takes in output dataframe from no_conv function to split into group 2 and 4 customers.\n",
    "    \n",
    "    inputs:\n",
    "    - df: output dataframe from no_conv function\n",
    "    \n",
    "    outputs:\n",
    "    - Returns 2 dataframes containing unique person-offer_id pairs with dataframe containing only group2 customers first, followed by dataframe containing only group 4 customers. \n",
    "       \n",
    "    '''\n",
    "    \n",
    "    #subset to check group 2 and 4\n",
    "    grp_2_4=df[df['_merge']=='right_only']\n",
    "\n",
    "    #remerge with transcript to get events\n",
    "    grp_2_4=grp_2_4.merge(transcript,how='left',on=['person','offer_id'])\n",
    "\n",
    "    #within this subset, separate people with offer viewed event, and people with offer received but no offer viewed\n",
    "    grp2=grp_2_4[['person','offer_id']][grp_2_4['event']=='offer viewed'].groupby(['person','offer_id']).count().reset_index()\n",
    "    \n",
    "    #remerge with full dataset and get remaining to get grp4\n",
    "    drop_cols('_merge',grp_2_4,inplace=True)\n",
    "    grp4=grp_2_4.merge(grp2[['person','offer_id']],how='left',indicator=True)\n",
    "    grp4=grp4[grp4['_merge']=='left_only'].copy()\n",
    "    \n",
    "    return grp2,grp4\n"
   ]
  },
  {
   "cell_type": "code",
   "execution_count": 51,
   "metadata": {},
   "outputs": [],
   "source": [
    "grp2_bogo,grp4_bogo=grp_2_4(check_merge_bogo)\n",
    "grp2_discount,grp4_discount=grp_2_4(check_merge_discount)   \n",
    "\n"
   ]
  },
  {
   "cell_type": "markdown",
   "metadata": {},
   "source": [
    "Group 3 people are everyone in the converted ids who do not have an offer viewed prior - hence, they would be people with conversion events but no offer viewed event prior. For BOGO and discount offers, they would be people with offer completed events that have valid_completed != 1."
   ]
  },
  {
   "cell_type": "code",
   "execution_count": 52,
   "metadata": {},
   "outputs": [],
   "source": [
    "def grp3(df):\n",
    "    '''\n",
    "    Takes in transcript dataframe of single offer type to check for people who converted vs people with just offer received events. \n",
    "    \n",
    "    inputs:\n",
    "    - df: original transcript dataframe of specific offer type \n",
    "    \n",
    "    outputs:\n",
    "    - Returns dataframe containing unqiue person-offer_id pairs with conversion events and offers received events, with indicator of each.\n",
    "       \n",
    "    '''\n",
    "    \n",
    "    #check all conversion events with invalid conversions\n",
    "    grp3=df[['person','offer_id']][(df['event']=='offer completed') & (df['valid_completed']!=1)].groupby(['person','offer_id']).count().reset_index()\n",
    "    return grp3\n"
   ]
  },
  {
   "cell_type": "code",
   "execution_count": 53,
   "metadata": {},
   "outputs": [],
   "source": [
    "grp3_bogo=grp3(transcript_bogo)\n",
    "grp3_discount=grp3(transcript_discount)"
   ]
  },
  {
   "cell_type": "markdown",
   "metadata": {},
   "source": [
    "Now we have split our data into 4 different customer groups for the BOGO and discount offers. Next, we have to consider the effective and ineffective offers depending on the group type. As already elaborated above, any unique person-offer_id belonging to group 1 can be considered in our target variable effective_offer=1 group.\n",
    "\n",
    "Meanwhile, group 2 is in our target variable effective_offer=0 group. For customers in groups 3 and 4, I deprioritise them for model implementation, but will be doing some exploratory analysis on them later."
   ]
  },
  {
   "cell_type": "code",
   "execution_count": 54,
   "metadata": {},
   "outputs": [],
   "source": [
    "def offers(grp1,grp2):\n",
    "    '''\n",
    "    inputs:\n",
    "    - grp1: dataframe containing group1 customer data \n",
    "    - grp2: dataframe containing group2 customer data\n",
    "    \n",
    "    outputs:\n",
    "    - Returns dataframe with labeled effective offer column\n",
    "    '''\n",
    "    #assign effective offer flag column\n",
    "    grp1['effective_offer']=1\n",
    "    grp2['effective_offer']=0\n",
    "\n",
    "    #append datasets together\n",
    "    offers=grp1.append(grp2,sort=False)\n",
    "    return offers\n"
   ]
  },
  {
   "cell_type": "code",
   "execution_count": 55,
   "metadata": {},
   "outputs": [],
   "source": [
    "offers_bogo=offers(grp1_bogo,grp2_bogo)\n",
    "offers_discount=offers(grp1_discount,grp2_discount)"
   ]
  },
  {
   "cell_type": "markdown",
   "metadata": {},
   "source": [
    "Now we have successfully prepared the target variables for our BOGO and discount datasets.\n",
    "\n",
    "Meanwhile, for informational offers in particular, before we can tag the effective offers column, there is one more consideration - the validity of the offer.\n",
    "\n"
   ]
  },
  {
   "cell_type": "markdown",
   "metadata": {},
   "source": [
    "### c. Considering duration/validity of offers in converted transactions from informational offers"
   ]
  },
  {
   "cell_type": "markdown",
   "metadata": {},
   "source": [
    "There is an additional rule to consider when considering an effective/converted transaction and offer. This applies for offers that are of type 'informational'. As already elaborated above, the reason why informational offers get a different treatment is because the conversion event is not an offer completed event, but a transaction.\n",
    "\n",
    "For informational offers, the duration of the offer can be considered to be the duration of the influence. Hence, we can make the assumption that an offer should only be considered effective if it is within the duration of the offer.\n",
    "\n",
    "Meanwhile, for BOGO and discount offers, we can assume that if there is a conversion/ offer completed event, it should be within duration as it would not make sense for an offer to be completed if an offer is past its validity period.\n",
    "\n",
    "As we saw in our data dictionary, the time of an event in the transcript data is in terms of hours. In order to ensure it is on the same scale as the duration of the offer, we have to convert it into days."
   ]
  },
  {
   "cell_type": "code",
   "execution_count": 56,
   "metadata": {},
   "outputs": [],
   "source": [
    "#convert time into days\n",
    "transcript_info['day_offer']=transcript_info['time']/24"
   ]
  },
  {
   "cell_type": "code",
   "execution_count": 57,
   "metadata": {},
   "outputs": [],
   "source": [
    "#drop unnecessary columns\n",
    "drop_cols(['time','value','offer_id_previous'],transcript_info,inplace=True);"
   ]
  },
  {
   "cell_type": "code",
   "execution_count": 58,
   "metadata": {},
   "outputs": [],
   "source": [
    "#sort transactions to ensure all events occurring by person and offer\n",
    "transcript_info=transcript_info.sort_values(['person','day_offer','event','offer_id'])"
   ]
  },
  {
   "cell_type": "markdown",
   "metadata": {},
   "source": [
    "We can get the difference between two events using the diff function in pandas. We take the difference between the transaction and the offer received as the duration."
   ]
  },
  {
   "cell_type": "code",
   "execution_count": 59,
   "metadata": {},
   "outputs": [],
   "source": [
    "#get difference in time for informational offers\n",
    "transcript_info['diff_info']=transcript_info[(transcript_info['offer_type']=='informational') & ((transcript_info['event']=='offer received') | (transcript_info['event']=='transaction'))].groupby(['person','offer_id'])['day_offer'].diff()"
   ]
  },
  {
   "cell_type": "code",
   "execution_count": 60,
   "metadata": {},
   "outputs": [],
   "source": [
    "#create column for flagging valid events\n",
    "transcript_info['valid_completed_duration']=np.nan"
   ]
  },
  {
   "cell_type": "code",
   "execution_count": 61,
   "metadata": {},
   "outputs": [],
   "source": [
    "#flag valid events if within duration\n",
    "transcript_info.loc[transcript_info['diff_info']<=transcript_info['duration'],'valid_completed_duration']=1"
   ]
  },
  {
   "cell_type": "code",
   "execution_count": 62,
   "metadata": {},
   "outputs": [],
   "source": [
    "#fill any missing values with 0 flag\n",
    "transcript_info['valid_completed_duration']=transcript_info['valid_completed_duration'].fillna(value=0)"
   ]
  },
  {
   "cell_type": "markdown",
   "metadata": {},
   "source": [
    "We will need to separate those users in group 2 - those who may have received and viewed an offer, but no transactions after. We need to subset those where effective_offer!=1 into groups 2,3 and 4."
   ]
  },
  {
   "cell_type": "code",
   "execution_count": 63,
   "metadata": {},
   "outputs": [],
   "source": [
    "#flag effective_offers where valid_completed=1 and valid_completed_duration=1\n",
    "transcript_info['effective_offer']=np.where(((transcript_info['valid_completed']==1) & (transcript_info['valid_completed_duration']==1)),1,0)"
   ]
  },
  {
   "cell_type": "markdown",
   "metadata": {},
   "source": [
    "Now that we have flagged our effective offers, we can subset them into the 4 groups already outlined above. We can also filter this only for the effective offers=1 events, as we only want the effective transactions influenced by an offer, not other transactions."
   ]
  },
  {
   "cell_type": "code",
   "execution_count": 64,
   "metadata": {},
   "outputs": [],
   "source": [
    "#separate group 1 in transcript_into\n",
    "grp1_info=transcript_info[['person','offer_id']][transcript_info['effective_offer']==1].groupby(['person','offer_id']).sum().reset_index()"
   ]
  },
  {
   "cell_type": "markdown",
   "metadata": {},
   "source": [
    "From the remaining people, we have to separate it out into groups 2 and 4. We can use similar steps to what we did with BOGO and Discount offers, since we don't have the duration consideration."
   ]
  },
  {
   "cell_type": "code",
   "execution_count": 65,
   "metadata": {},
   "outputs": [
    {
     "name": "stdout",
     "output_type": "stream",
     "text": [
      "For informational offers:\n",
      "            person  offer_id\n",
      "_merge                      \n",
      "left_only        0         0\n",
      "right_only    5412      5412\n",
      "both          7239      7239\n"
     ]
    }
   ],
   "source": [
    "#separate out group 2 of customers\n",
    "check_merge_info=no_conv(transcript_info)\n",
    "print('For informational offers:')\n",
    "print(check_merge_info.groupby(['_merge']).count())"
   ]
  },
  {
   "cell_type": "code",
   "execution_count": 66,
   "metadata": {},
   "outputs": [],
   "source": [
    "grp2_info,grp4_info=grp_2_4(check_merge_info)"
   ]
  },
  {
   "cell_type": "markdown",
   "metadata": {},
   "source": [
    "For group 3, we have to consider those with conversions who do not have an offer viewed prior - hence, they would be people with conversion events but no offer viewed event prior. For informational offers, these would be transactions in Scenario 1 and 2 above."
   ]
  },
  {
   "cell_type": "code",
   "execution_count": 67,
   "metadata": {},
   "outputs": [],
   "source": [
    "#scenario 1\n",
    "grp3_1=transcript_info[['person','offer_id']][(transcript_info['event']=='transaction')&(transcript_info['valid_completed']!=1) & (transcript_info['valid_completed_duration']==1)].groupby(['person','offer_id']).count().reset_index()"
   ]
  },
  {
   "cell_type": "code",
   "execution_count": 68,
   "metadata": {},
   "outputs": [],
   "source": [
    "#scenario 2\n",
    "grp3_2=transcript_info[['person','offer_id']][(transcript_info['event']=='transaction')&(transcript_info['valid_completed']==1) & (transcript_info['valid_completed_duration']!=1)].groupby(['person','offer_id']).count().reset_index()\n",
    "grp3_info=grp3_1.append(grp3_2,sort=False)"
   ]
  },
  {
   "cell_type": "code",
   "execution_count": 69,
   "metadata": {},
   "outputs": [],
   "source": [
    "del grp3_1\n",
    "del grp3_2"
   ]
  },
  {
   "cell_type": "markdown",
   "metadata": {},
   "source": [
    "Now we can append the datasets together to make the offers_info dataset, ready for modeling."
   ]
  },
  {
   "cell_type": "code",
   "execution_count": 70,
   "metadata": {},
   "outputs": [],
   "source": [
    "offers_info=offers(grp1_info,grp2_info)"
   ]
  },
  {
   "cell_type": "markdown",
   "metadata": {},
   "source": [
    "Now that we have subset all our datasets into effective and ineffective offers depending on offer type, we can append the datasets accordingly into datasets for modeling."
   ]
  },
  {
   "cell_type": "markdown",
   "metadata": {},
   "source": [
    "### d. Feature engineering"
   ]
  },
  {
   "cell_type": "markdown",
   "metadata": {},
   "source": [
    "Now we have to look back had to look into the features and see how to be creative in creating new features."
   ]
  },
  {
   "cell_type": "markdown",
   "metadata": {},
   "source": [
    "#### d.i. became_member_on column to be engineered\n",
    "Recalling my preliminary data exploration steps, the became_member_on column were in date format. Hence in order to extract meaningful insights from that feature, we can convert it as a feature indicating tenure of membership. There could be some influence in how long someone has been a member, with whether he takes up an offer."
   ]
  },
  {
   "cell_type": "code",
   "execution_count": 71,
   "metadata": {},
   "outputs": [],
   "source": [
    "#rename column for merging\n",
    "profile.rename(columns={'id':'person'},inplace=True)\n"
   ]
  },
  {
   "cell_type": "code",
   "execution_count": 72,
   "metadata": {},
   "outputs": [],
   "source": [
    "#create function to reuse for 3 datasets\n",
    "def member(df):\n",
    "    '''\n",
    "    inputs:\n",
    "    - df: original dataframe to transform became_member_on column  \n",
    "    \n",
    "    outputs:\n",
    "    - Returns dataframe with became_member_on column transformed to be tenure in days\n",
    "    \n",
    "    '''\n",
    "    #merge to get user demographic profile\n",
    "    df=df.merge(profile,how='left',on='person')\n",
    "    \n",
    "    #convert became_member_on into member tenure\n",
    "    df['year']=pd.Series([int(str(x)[:4]) for x in df['became_member_on']])\n",
    "    df['month']=pd.Series([int(str(x)[-3]) for x in df['became_member_on']])\n",
    "    df['day']=pd.Series([int(str(x)[-2:]) for x in df['became_member_on']])\n",
    "    df=drop_cols('became_member_on',df)\n",
    "    df.loc[df['year'] == 2018, 'membership_tenure_days'] = (30*df['month'])+df['day']\n",
    "    df.loc[df['year'] != 2018, 'membership_tenure_days'] = ((2018-df['year'])*365)+(30*df['month'])+df['day']\n",
    "    df=drop_cols(['year','month','day'],df)\n",
    "    \n",
    "    return df\n"
   ]
  },
  {
   "cell_type": "code",
   "execution_count": 73,
   "metadata": {},
   "outputs": [],
   "source": [
    "offers_bogo=member(offers_bogo)\n",
    "offers_discount=member(offers_discount)\n",
    "offers_info=member(offers_info)"
   ]
  },
  {
   "cell_type": "markdown",
   "metadata": {},
   "source": [
    "#### d.ii. Count of offers received\n",
    "As part of some further data exploration, I discovered that there could be multiple offers received per person."
   ]
  },
  {
   "cell_type": "code",
   "execution_count": 74,
   "metadata": {},
   "outputs": [
    {
     "name": "stdout",
     "output_type": "stream",
     "text": [
      "person\n",
      "0009655768c64bdeb2e877511632db8f    5\n",
      "00116118485d4dfda04fdbaba9a87b5c    2\n",
      "0011e0d4e6b944f998e987f904e8c1e5    5\n",
      "0020c2b971eb4e9188eac86d93036a77    5\n",
      "0020ccbbb6d84e358d3414a3ff76cffd    4\n",
      "Name: event, dtype: int64\n"
     ]
    }
   ],
   "source": [
    "#group event=offer received per person in transactional records\n",
    "print(transcript[transcript['event']=='offer received'].groupby('person')['event'].count().head())\n"
   ]
  },
  {
   "cell_type": "code",
   "execution_count": 75,
   "metadata": {},
   "outputs": [
    {
     "data": {
      "text/plain": [
       "<matplotlib.axes._subplots.AxesSubplot at 0x7f6aed8c7e80>"
      ]
     },
     "execution_count": 75,
     "metadata": {},
     "output_type": "execute_result"
    },
    {
     "data": {
      "image/png": "[encoded data removed]",
      "text/plain": [
       "<matplotlib.figure.Figure at 0x7f6aecbdecc0>"
      ]
     },
     "metadata": {
      "needs_background": "light"
     },
     "output_type": "display_data"
    }
   ],
   "source": [
    "#visualise offers received per person\n",
    "transcript[transcript['event']=='offer received'].groupby('person')['event'].count().hist(color=\"red\")"
   ]
  },
  {
   "cell_type": "markdown",
   "metadata": {},
   "source": [
    "We can see above that the offer received per person in the transactional data could range from 1 to 6 offers received. I had the hypothesis that the frequency of offers received per person might result in more effective offers, so decided to engineer a feature offer_received_cnt to account for this frequency."
   ]
  },
  {
   "cell_type": "code",
   "execution_count": 76,
   "metadata": {},
   "outputs": [],
   "source": [
    "#get count of offers received per person, put into separate dataset\n",
    "df_offer_received_cnt=transcript[transcript['event']=='offer received'].groupby(['person','offer_id','time']).count()['event'].reset_index()"
   ]
  },
  {
   "cell_type": "code",
   "execution_count": 77,
   "metadata": {},
   "outputs": [],
   "source": [
    "#rename columns\n",
    "df_offer_received_cnt.rename(columns={'event':'offer_received_cnt'},inplace=True)\n"
   ]
  },
  {
   "cell_type": "code",
   "execution_count": 78,
   "metadata": {},
   "outputs": [],
   "source": [
    "#drop unnecessary columns\n",
    "drop_cols('time',df_offer_received_cnt,inplace=True)"
   ]
  },
  {
   "cell_type": "code",
   "execution_count": 79,
   "metadata": {},
   "outputs": [],
   "source": [
    "#ensure only unique person-offer_id pairs\n",
    "df_offer_received_cnt=df_offer_received_cnt.groupby(['person','offer_id']).sum().reset_index()"
   ]
  },
  {
   "cell_type": "markdown",
   "metadata": {},
   "source": [
    "#### d.ii. Separating user behaviours by transactions\n",
    "I also wondered how many transactions were considered 'invalid' by my definition. Ordinarily, these would be the sum of transactions done by people not in group 1. The objective of offers are to drive purchases, so it would already be the case that users with high spend in their transactions would be flagged as effective_offers.\n",
    "\n",
    "We've already defined that there are people in groups 3 and 4, where they are separate pools of users who are loyal spenders, and already tend to purchase more, isolated from the the effect of offers.\n",
    "\n",
    "But for users in group 1 have a high amount of 'invalid spend' outside of the effect of offers, there might be some predictive power onto the effectiveness of offers; since a loyal user might have a higher tendency of taking up an offer.\n",
    "\n",
    "In my datasets, I had already separated the transactions who are conversions versus transactions who are just the users' normal purchasing behaviour. This is through the valid_completed column, where I checked if a transaction had an offer viewed event prior.\n",
    "\n",
    "In the cases where valid_completed=1, I had already included them in my effective offers flag for BOGO and Discount offers. However, for those transctions where valid_completed=0, I have not considered them, and this could be a potential feature to include, as a proxy for the 'baseline' level of spending for a user.\n",
    "\n",
    "The logic is to wonder if there is some baseline level of spending for users who are highly influenced by certain offers (in group 1), and group 2, and if there is some predictive power in this baseline level of 'invalid transactions' that can predict the propensity of a user to take up an offer."
   ]
  },
  {
   "cell_type": "code",
   "execution_count": 80,
   "metadata": {},
   "outputs": [],
   "source": [
    "#filter dataset by invalid transactions\n",
    "\n",
    "df_transactions_invalid=transcript[(transcript['event']=='transaction') & (transcript['valid_completed']==0)].groupby(['person','offer_id'])['amount'].sum().reset_index()"
   ]
  },
  {
   "cell_type": "code",
   "execution_count": 81,
   "metadata": {},
   "outputs": [],
   "source": [
    "df_transactions_invalid.rename(columns={'amount':'amount_invalid'},inplace=True)"
   ]
  },
  {
   "cell_type": "markdown",
   "metadata": {},
   "source": [
    "#### d. iii. Time elapsed between offers received\n",
    "I also wanted to include time as a potential feature into my dataset, but since the transactional data starts from time=0, I suspected it would not have been of much predictive power without some feature engineering. I had the hypothesis that if there were multiple offers received per person within a certain time period, there might be some predictive power in the time elapsed between offers received."
   ]
  },
  {
   "cell_type": "code",
   "execution_count": 82,
   "metadata": {},
   "outputs": [],
   "source": [
    "#convert time into days\n",
    "transcript['day_offer']=transcript['time']/24"
   ]
  },
  {
   "cell_type": "code",
   "execution_count": 83,
   "metadata": {},
   "outputs": [],
   "source": [
    "#drop unnecessary columns\n",
    "drop_cols(['time'],transcript,inplace=True);\n"
   ]
  },
  {
   "cell_type": "code",
   "execution_count": 84,
   "metadata": {},
   "outputs": [],
   "source": [
    "#find time elapsed between offers received\n",
    "transcript['time_elapsed_offers']=transcript[transcript['event']=='offer received'].groupby(['person','offer_id'])['day_offer'].diff()\n"
   ]
  },
  {
   "cell_type": "code",
   "execution_count": 85,
   "metadata": {},
   "outputs": [],
   "source": [
    "#fill missing values with 0, as if someone does not receive an offer or is receiving an offer for the first time, there is no time elapsed\n",
    "transcript['time_elapsed_offers']=transcript['time_elapsed_offers'].fillna(value=0)\n"
   ]
  },
  {
   "cell_type": "code",
   "execution_count": 86,
   "metadata": {},
   "outputs": [],
   "source": [
    "#create temporary dataset\n",
    "df_time_elapsed=transcript.groupby(['person','offer_id'])['time_elapsed_offers'].sum().reset_index()"
   ]
  },
  {
   "cell_type": "markdown",
   "metadata": {},
   "source": [
    "#### f. Preparing data for implementation\n",
    "Now we can finally begin with preparing the data for modeling.\n",
    "\n",
    "To do this, there are some additional preparation steps for each dataset. Recalling our initial preliminary data exploration, there are some steps to prepare the data:\n",
    "\n",
    "a. Merge with temporary datasets created above to include engineered features\n",
    "\n",
    "b. Drop missing values in gender column for demographic data; convert gender into dummy variables\n",
    "\n",
    "c. Separate the channel column into categorical variables\n",
    "\n",
    "d. Treatment of duplicate records"
   ]
  },
  {
   "cell_type": "markdown",
   "metadata": {},
   "source": [
    "#### f. ii.a. Merge with temporary datasets created above to include engineered features"
   ]
  },
  {
   "cell_type": "code",
   "execution_count": 87,
   "metadata": {},
   "outputs": [],
   "source": [
    "#merge to get offers received count and invalid amount transacted \n",
    "offers_bogo=offers_bogo.merge(df_offer_received_cnt[['person','offer_id','offer_received_cnt']],how='left',on=['person','offer_id'])"
   ]
  },
  {
   "cell_type": "code",
   "execution_count": 88,
   "metadata": {},
   "outputs": [],
   "source": [
    "offers_bogo=offers_bogo.merge(df_transactions_invalid[['person','offer_id','amount_invalid']],how='left',on=['person','offer_id'])"
   ]
  },
  {
   "cell_type": "markdown",
   "metadata": {},
   "source": [
    "#### f.ii.b. Drop missing values in gender column for demographic data\n",
    "Now, we need to check whether dropping the missing values will result in a significant loss in data."
   ]
  },
  {
   "cell_type": "code",
   "execution_count": 89,
   "metadata": {},
   "outputs": [
    {
     "data": {
      "text/plain": [
       "amount_invalid            96.323752\n",
       "income                     7.057489\n",
       "gender                     7.057489\n",
       "offer_received_cnt         0.000000\n",
       "membership_tenure_days     0.000000\n",
       "dtype: float64"
      ]
     },
     "execution_count": 89,
     "metadata": {},
     "output_type": "execute_result"
    }
   ],
   "source": [
    "#check % of missing values in dataset\n",
    "(offers_bogo.isnull().sum()/len(offers_bogo)*100).sort_values(ascending=False).head()"
   ]
  },
  {
   "cell_type": "markdown",
   "metadata": {},
   "source": [
    "We can see that the missing values are quite extensive especially for the amount_invalid column. It is debatable whether this column amount_invalid would be useful to include in the model. Since it is so 'sparse' for BOGO offers, it might not have much information after all. I plan to assess this feature again later during the model implementation phase. For now, I decided to fill the missing amount_invalid column with 0 as it could represent that only 3% of the overall users tend to purchase without offers; the other 97% would only purchase with awareness of an ongoing offer.\n",
    "\n",
    "Meanwhile, we had already conducted the analysis above on the income and gender columns, which I choose to drop as they are not useful when they are null."
   ]
  },
  {
   "cell_type": "code",
   "execution_count": 90,
   "metadata": {},
   "outputs": [],
   "source": [
    "#fill missing values for amount_invalid with 0\n",
    "offers_bogo['amount_invalid']=offers_bogo['amount_invalid'].fillna(value=0)"
   ]
  },
  {
   "cell_type": "code",
   "execution_count": 91,
   "metadata": {},
   "outputs": [],
   "source": [
    "#drop income and gender null rows\n",
    "offers_bogo.dropna(inplace=True);"
   ]
  },
  {
   "cell_type": "markdown",
   "metadata": {},
   "source": [
    "#### f.ii.c. Separate the channel column into categorical variables"
   ]
  },
  {
   "cell_type": "code",
   "execution_count": 92,
   "metadata": {},
   "outputs": [],
   "source": [
    "#foresee need to reuse function so create rename function\n",
    "def rename(col_name,df):\n",
    "    df[col_name]=np.where(df[col_name]==col_name,1,0)\n",
    "    return df"
   ]
  },
  {
   "cell_type": "code",
   "execution_count": 93,
   "metadata": {},
   "outputs": [],
   "source": [
    "#foresee need to reuse dummy variable encoding function\n",
    "def dummy(df,col):\n",
    "    df=pd.concat([df[:],pd.get_dummies(df[col],prefix=col)],axis=1)\n",
    "    df=drop_cols(col,df)\n",
    "    return df"
   ]
  },
  {
   "cell_type": "code",
   "execution_count": 94,
   "metadata": {},
   "outputs": [],
   "source": [
    "#merge with portfolio to get offer details\n",
    "offers_bogo=offers_bogo.merge(portfolio,how='left',on='offer_id')"
   ]
  },
  {
   "cell_type": "code",
   "execution_count": 95,
   "metadata": {},
   "outputs": [],
   "source": [
    "# convert channels into categorical variables\n",
    "channels = offers_bogo['channels'].apply(pd.Series)\n",
    "channels = channels.rename(columns={0:'web',1:'email',2:'mobile',3:'social'})\n",
    "offers_bogo=pd.concat([offers_bogo[:], channels[:]], axis=1)\n",
    "rename('web',offers_bogo)\n",
    "rename('email',offers_bogo)\n",
    "rename('mobile',offers_bogo)\n",
    "rename('social',offers_bogo)\n",
    "offers_bogo=drop_cols('channels',offers_bogo)\n"
   ]
  },
  {
   "cell_type": "code",
   "execution_count": 96,
   "metadata": {},
   "outputs": [],
   "source": [
    "#convert gender into categorical variables\n",
    "offers_bogo=dummy(offers_bogo,'gender')"
   ]
  },
  {
   "cell_type": "markdown",
   "metadata": {},
   "source": [
    "Since we need to repeat these steps for offers_discount, I created a function containing all the steps above."
   ]
  },
  {
   "cell_type": "code",
   "execution_count": 97,
   "metadata": {},
   "outputs": [],
   "source": [
    "def prep_offers_df(df):\n",
    "    \n",
    "    '''\n",
    "    inputs:\n",
    "    - df: original dataframe for modeling \n",
    "    \n",
    "    outputs:\n",
    "    - Returns dataframe containing engineered features, filled missing values and cleaned and transformed variables (channel and gender)\n",
    "       \n",
    "    '''\n",
    "    #merge to get engineered features \n",
    "    df=df.merge(df_offer_received_cnt[['person','offer_id','offer_received_cnt']],how='left',on=['person','offer_id'])\n",
    "    df=df.merge(df_transactions_invalid[['person','offer_id','amount_invalid']],how='left',on=['person','offer_id'])\n",
    "    \n",
    "    #fill missing values for amount_invalid with 0\n",
    "    df['amount_invalid']=df['amount_invalid'].fillna(value=0)\n",
    "    \n",
    "    #drop income and gender null rows\n",
    "    df.dropna(inplace=True);\n",
    "    \n",
    "    #merge with portfolio to get offer details\n",
    "    df=df.merge(portfolio,how='left',on='offer_id')\n",
    "\n",
    "    #convert channels into categorical variables\n",
    "    channels = df['channels'].apply(pd.Series)\n",
    "    channels = channels.rename(columns={0:'web',1:'email',2:'mobile',3:'social'})\n",
    "    df=pd.concat([df[:], channels[:]], axis=1)\n",
    "    rename('web',df)\n",
    "    rename('email',df)\n",
    "    rename('mobile',df)\n",
    "    rename('social',df)\n",
    "    df=drop_cols('channels',df)\n",
    "    \n",
    "    #convert gender column into dummy variables\n",
    "    df=dummy(df,'gender')\n",
    "\n",
    "    return df"
   ]
  },
  {
   "cell_type": "code",
   "execution_count": 98,
   "metadata": {},
   "outputs": [],
   "source": [
    "#prepare data for offer_discounts\n",
    "offers_discount=prep_offers_df(offers_discount)"
   ]
  },
  {
   "cell_type": "markdown",
   "metadata": {},
   "source": [
    "For offers_info dataset, a slightly different treatment needs to be done as the channels column contains a different order of values."
   ]
  },
  {
   "cell_type": "code",
   "execution_count": 99,
   "metadata": {},
   "outputs": [],
   "source": [
    "#merge with portfolio to get offer details\n",
    "offers_info=offers_info.merge(portfolio,how='left',on='offer_id')"
   ]
  },
  {
   "cell_type": "code",
   "execution_count": 100,
   "metadata": {},
   "outputs": [],
   "source": [
    "#reset index for offers_info\n",
    "offers_info=drop_cols('index',offers_info.reset_index())\n"
   ]
  },
  {
   "cell_type": "code",
   "execution_count": 101,
   "metadata": {},
   "outputs": [],
   "source": [
    "#expand channel column into categorical variables\n",
    "def channel_col(name,df=offers_info):\n",
    "    '''\n",
    "    inputs:\n",
    "    - name: name of channel column to be transformed \n",
    "    - df: dataframe \n",
    "    \n",
    "    outputs:\n",
    "    - offer_info dataframe with channel column transformed\n",
    "    \n",
    "    '''\n",
    "    df[name]= np.nan\n",
    "    df.loc[pd.Series([name in df['channels'][x] for x in range(len(df['channels']))]),name]=1\n",
    "    df[name]=df[name].fillna(value=0)\n",
    "    return df"
   ]
  },
  {
   "cell_type": "code",
   "execution_count": 102,
   "metadata": {},
   "outputs": [],
   "source": [
    "channel_col('web')\n",
    "channel_col('email')\n",
    "channel_col('mobile')\n",
    "channel_col('social');\n",
    "\n",
    "drop_cols('channels',offers_info,inplace=True);"
   ]
  },
  {
   "cell_type": "code",
   "execution_count": 103,
   "metadata": {},
   "outputs": [],
   "source": [
    "#repurpose function for offers_info\n",
    "def prep_offers_df(df):\n",
    "    '''\n",
    "    inputs:\n",
    "    - df: dataframe to be transformed \n",
    "    \n",
    "    outputs:\n",
    "    - Returns dataframe with engineered features and filled missing values, with transformed gender column.\n",
    "       \n",
    "    '''\n",
    "    #merge to get engineered features \n",
    "    df=df.merge(df_offer_received_cnt[['person','offer_id','offer_received_cnt']],how='left',on=['person','offer_id'])\n",
    "    df=df.merge(df_transactions_invalid[['person','offer_id','amount_invalid']],how='left',on=['person','offer_id'])\n",
    "\n",
    "    #fill missing values for amount_invalid and offer_received_cnt with 0\n",
    "    df['amount_invalid']=df['amount_invalid'].fillna(value=0)\n",
    "\n",
    "    #drop income and gender null rows\n",
    "    df.dropna(inplace=True);\n",
    "    \n",
    "    #convert gender column into dummy variables\n",
    "    df=dummy(df,'gender')\n",
    "    return df"
   ]
  },
  {
   "cell_type": "code",
   "execution_count": 104,
   "metadata": {},
   "outputs": [],
   "source": [
    "offers_info=prep_offers_df(offers_info)"
   ]
  },
  {
   "cell_type": "code",
   "execution_count": 105,
   "metadata": {},
   "outputs": [
    {
     "data": {
      "text/html": [
       "<div>\n",
       "<style scoped>\n",
       "    .dataframe tbody tr th:only-of-type {\n",
       "        vertical-align: middle;\n",
       "    }\n",
       "\n",
       "    .dataframe tbody tr th {\n",
       "        vertical-align: top;\n",
       "    }\n",
       "\n",
       "    .dataframe thead th {\n",
       "        text-align: right;\n",
       "    }\n",
       "</style>\n",
       "<table border=\"1\" class=\"dataframe\">\n",
       "  <thead>\n",
       "    <tr style=\"text-align: right;\">\n",
       "      <th></th>\n",
       "      <th>person</th>\n",
       "      <th>offer_id</th>\n",
       "      <th>effective_offer</th>\n",
       "      <th>age</th>\n",
       "      <th>income</th>\n",
       "      <th>membership_tenure_days</th>\n",
       "      <th>difficulty</th>\n",
       "      <th>duration</th>\n",
       "      <th>offer_type</th>\n",
       "      <th>reward</th>\n",
       "      <th>web</th>\n",
       "      <th>email</th>\n",
       "      <th>mobile</th>\n",
       "      <th>social</th>\n",
       "      <th>offer_received_cnt</th>\n",
       "      <th>amount_invalid</th>\n",
       "      <th>gender_F</th>\n",
       "      <th>gender_M</th>\n",
       "      <th>gender_O</th>\n",
       "    </tr>\n",
       "  </thead>\n",
       "  <tbody>\n",
       "    <tr>\n",
       "      <th>0</th>\n",
       "      <td>0009655768c64bdeb2e877511632db8f</td>\n",
       "      <td>3f207df678b143eea3cee63160fa8bed</td>\n",
       "      <td>1</td>\n",
       "      <td>33</td>\n",
       "      <td>72000.0</td>\n",
       "      <td>506.0</td>\n",
       "      <td>0</td>\n",
       "      <td>4</td>\n",
       "      <td>informational</td>\n",
       "      <td>0</td>\n",
       "      <td>1.0</td>\n",
       "      <td>1.0</td>\n",
       "      <td>1.0</td>\n",
       "      <td>0.0</td>\n",
       "      <td>1.0</td>\n",
       "      <td>0.00</td>\n",
       "      <td>0</td>\n",
       "      <td>1</td>\n",
       "      <td>0</td>\n",
       "    </tr>\n",
       "    <tr>\n",
       "      <th>1</th>\n",
       "      <td>0009655768c64bdeb2e877511632db8f</td>\n",
       "      <td>5a8bc65990b245e5a138643cd4eb9837</td>\n",
       "      <td>1</td>\n",
       "      <td>33</td>\n",
       "      <td>72000.0</td>\n",
       "      <td>506.0</td>\n",
       "      <td>0</td>\n",
       "      <td>3</td>\n",
       "      <td>informational</td>\n",
       "      <td>0</td>\n",
       "      <td>0.0</td>\n",
       "      <td>1.0</td>\n",
       "      <td>1.0</td>\n",
       "      <td>1.0</td>\n",
       "      <td>1.0</td>\n",
       "      <td>0.00</td>\n",
       "      <td>0</td>\n",
       "      <td>1</td>\n",
       "      <td>0</td>\n",
       "    </tr>\n",
       "    <tr>\n",
       "      <th>2</th>\n",
       "      <td>0020c2b971eb4e9188eac86d93036a77</td>\n",
       "      <td>5a8bc65990b245e5a138643cd4eb9837</td>\n",
       "      <td>1</td>\n",
       "      <td>59</td>\n",
       "      <td>90000.0</td>\n",
       "      <td>824.0</td>\n",
       "      <td>0</td>\n",
       "      <td>3</td>\n",
       "      <td>informational</td>\n",
       "      <td>0</td>\n",
       "      <td>0.0</td>\n",
       "      <td>1.0</td>\n",
       "      <td>1.0</td>\n",
       "      <td>1.0</td>\n",
       "      <td>1.0</td>\n",
       "      <td>0.00</td>\n",
       "      <td>1</td>\n",
       "      <td>0</td>\n",
       "      <td>0</td>\n",
       "    </tr>\n",
       "    <tr>\n",
       "      <th>3</th>\n",
       "      <td>0020ccbbb6d84e358d3414a3ff76cffd</td>\n",
       "      <td>5a8bc65990b245e5a138643cd4eb9837</td>\n",
       "      <td>1</td>\n",
       "      <td>24</td>\n",
       "      <td>60000.0</td>\n",
       "      <td>771.0</td>\n",
       "      <td>0</td>\n",
       "      <td>3</td>\n",
       "      <td>informational</td>\n",
       "      <td>0</td>\n",
       "      <td>0.0</td>\n",
       "      <td>1.0</td>\n",
       "      <td>1.0</td>\n",
       "      <td>1.0</td>\n",
       "      <td>1.0</td>\n",
       "      <td>16.27</td>\n",
       "      <td>1</td>\n",
       "      <td>0</td>\n",
       "      <td>0</td>\n",
       "    </tr>\n",
       "    <tr>\n",
       "      <th>4</th>\n",
       "      <td>003d66b6608740288d6cc97a6903f4f0</td>\n",
       "      <td>3f207df678b143eea3cee63160fa8bed</td>\n",
       "      <td>1</td>\n",
       "      <td>26</td>\n",
       "      <td>73000.0</td>\n",
       "      <td>566.0</td>\n",
       "      <td>0</td>\n",
       "      <td>4</td>\n",
       "      <td>informational</td>\n",
       "      <td>0</td>\n",
       "      <td>1.0</td>\n",
       "      <td>1.0</td>\n",
       "      <td>1.0</td>\n",
       "      <td>0.0</td>\n",
       "      <td>1.0</td>\n",
       "      <td>0.00</td>\n",
       "      <td>1</td>\n",
       "      <td>0</td>\n",
       "      <td>0</td>\n",
       "    </tr>\n",
       "  </tbody>\n",
       "</table>\n",
       "</div>"
      ],
      "text/plain": [
       "                             person                          offer_id  \\\n",
       "0  0009655768c64bdeb2e877511632db8f  3f207df678b143eea3cee63160fa8bed   \n",
       "1  0009655768c64bdeb2e877511632db8f  5a8bc65990b245e5a138643cd4eb9837   \n",
       "2  0020c2b971eb4e9188eac86d93036a77  5a8bc65990b245e5a138643cd4eb9837   \n",
       "3  0020ccbbb6d84e358d3414a3ff76cffd  5a8bc65990b245e5a138643cd4eb9837   \n",
       "4  003d66b6608740288d6cc97a6903f4f0  3f207df678b143eea3cee63160fa8bed   \n",
       "\n",
       "   effective_offer  age   income  membership_tenure_days  difficulty  \\\n",
       "0                1   33  72000.0                   506.0           0   \n",
       "1                1   33  72000.0                   506.0           0   \n",
       "2                1   59  90000.0                   824.0           0   \n",
       "3                1   24  60000.0                   771.0           0   \n",
       "4                1   26  73000.0                   566.0           0   \n",
       "\n",
       "   duration     offer_type  reward  web  email  mobile  social  \\\n",
       "0         4  informational       0  1.0    1.0     1.0     0.0   \n",
       "1         3  informational       0  0.0    1.0     1.0     1.0   \n",
       "2         3  informational       0  0.0    1.0     1.0     1.0   \n",
       "3         3  informational       0  0.0    1.0     1.0     1.0   \n",
       "4         4  informational       0  1.0    1.0     1.0     0.0   \n",
       "\n",
       "   offer_received_cnt  amount_invalid  gender_F  gender_M  gender_O  \n",
       "0                 1.0            0.00         0         1         0  \n",
       "1                 1.0            0.00         0         1         0  \n",
       "2                 1.0            0.00         1         0         0  \n",
       "3                 1.0           16.27         1         0         0  \n",
       "4                 1.0            0.00         1         0         0  "
      ]
     },
     "execution_count": 105,
     "metadata": {},
     "output_type": "execute_result"
    }
   ],
   "source": [
    "offers_info.head()"
   ]
  },
  {
   "cell_type": "markdown",
   "metadata": {},
   "source": [
    "#### f.i. Treatment of duplicate records\n",
    "Since we have subset the data cleanly according to unique person-offer_id pairs by group, we should not have any duplicate records. But just in case, we check to make sure we have no duplicate records."
   ]
  },
  {
   "cell_type": "code",
   "execution_count": 106,
   "metadata": {},
   "outputs": [
    {
     "name": "stdout",
     "output_type": "stream",
     "text": [
      "0\n",
      "0\n",
      "0\n"
     ]
    }
   ],
   "source": [
    "#check multiple records for each person and offer ids for the target variable\n",
    "print((offers_bogo.groupby(['person','offer_id','effective_offer']).size()>1).sum())\n",
    "print((offers_discount.groupby(['person','offer_id','effective_offer']).size()>1).sum())\n",
    "print((offers_info.groupby(['person','offer_id','effective_offer']).size()>1).sum())"
   ]
  },
  {
   "cell_type": "markdown",
   "metadata": {},
   "source": [
    "## Implementation\n",
    "Now that the datasets are ready, we can proceed to implementing the model. Revisiting our objective, we wanted to analyse the drivers of an effective offer, with the target variable being effective_offer.\n",
    "\n",
    "Since we have 3 offer types, there are thus 3 different models to be built. Since we are predicting whether an offer would be effective or not, this is effectively a binary classification supervised learning model.\n",
    "\n",
    "I decided to compare the performance of a simple decision tree classifier model as a baseline model, with an ensemble random forest classifier model. Reason why I selected a decision tree as the baseline model is because I wanted to prioritise the interpretability of the model. Going back to the objective, since we intend to analyse the feature importance to determine the drivers of an effective offer, a decision tree would provide good interpretability for us to analyse.\n",
    "\n",
    "Meanwhile, I also selected random forest as an alternate model to compare the baseline model is as an improvement over simple ensemble bagging of decision trees, in order to drive towards a high accuracy in training the model.\n",
    "\n",
    "Before we can proceed, we have to make sure that the classes we are predicting for are balanced in each dataset."
   ]
  },
  {
   "cell_type": "code",
   "execution_count": 107,
   "metadata": {},
   "outputs": [
    {
     "name": "stdout",
     "output_type": "stream",
     "text": [
      "                  person\n",
      "effective_offer         \n",
      "0                0.17783\n",
      "1                0.82217\n",
      "                   person\n",
      "effective_offer          \n",
      "0                0.135256\n",
      "1                0.864744\n",
      "                 person\n",
      "effective_offer        \n",
      "0                0.2611\n",
      "1                0.7389\n"
     ]
    }
   ],
   "source": [
    "#check for class balance in datasets\n",
    "print(offers_bogo[['person','effective_offer']].groupby('effective_offer').count()/len(offers_bogo))\n",
    "print(offers_discount[['person','effective_offer']].groupby('effective_offer').count()/len(offers_discount))\n",
    "print((offers_info[['person','effective_offer']].groupby('effective_offer').count()/len(offers_info)))"
   ]
  },
  {
   "cell_type": "markdown",
   "metadata": {},
   "source": [
    "We can see that the classes are quite uneven for all three offer types, but not too imbalanced such that it would pose a problem. Hence, we can proceed to implement the models.\n",
    "\n",
    "A note on model evaluation and validation; since the classes for the all 3 models are imbalanced, I decided to implement both accuracy and f1 score as the model evaluation metric. F1 score provides a better sense of model performance compared to purely accuracy as takes both false positives and false negatives in the calculation. With an uneven class distribution, F1 may usually be more useful than accuracy.\n",
    "\n",
    "It is worth noting in this case that the F1 score is based on the harmonic mean of precision and recall, and focuses on positive cases. For the Starbucks app here, it would be fine as we would prioritise more on whether offers are effective, and less focus on why offers are ineffective."
   ]
  },
  {
   "cell_type": "markdown",
   "metadata": {},
   "source": [
    "### a. Model Implementation\n",
    "Revisiting our objective, we are creating 3 models to predict the effectiveness of an offer within each type, depending on offer attributes and user demographics.\n",
    "\n",
    "First, we have to define our target and features variables."
   ]
  },
  {
   "cell_type": "code",
   "execution_count": 108,
   "metadata": {},
   "outputs": [],
   "source": [
    "def data_prep(df,drop_cols_prep):\n",
    "    '''\n",
    "    inputs:\n",
    "    - df: prepared dataframe for modeling \n",
    "    \n",
    "    outputs:\n",
    "    - Returns 2 dataframes - features and target dataframes\n",
    "    '''\n",
    "    # Split the data into features and target label\n",
    "    target = df['effective_offer']\n",
    "    features = drop_cols(drop_cols_prep,df)\n",
    "    return features,target"
   ]
  },
  {
   "cell_type": "markdown",
   "metadata": {},
   "source": [
    "Next, I split the data into training and test sets. Since the features of my data are all on different scales, I also apply a scaler to ensure my data will all be on the same scale for training."
   ]
  },
  {
   "cell_type": "code",
   "execution_count": 109,
   "metadata": {},
   "outputs": [],
   "source": [
    "def model_pipeline(features,target):\n",
    "    '''\n",
    "    inputs:\n",
    "    - features & target dataframe \n",
    "    \n",
    "    outputs:\n",
    "    - Splits features and target dataframe to train and test sets, performs feature scaling on both datasets.\n",
    "    - Outputs X_train, X_test, y_train and y_test dataframes\n",
    "    '''\n",
    "    \n",
    "    #split into training and test sets\n",
    "    X_train, X_test, y_train, y_test = train_test_split(features,target, \n",
    "                                                        test_size=0.20, \n",
    "                                                        random_state=42)\n",
    "\n",
    "    #fit and transform scaling on training data\n",
    "    scaler=StandardScaler()\n",
    "    X_train=scaler.fit_transform(X_train)\n",
    "\n",
    "    #scale test data\n",
    "    X_test=scaler.transform(X_test)\n",
    "    return X_train,X_test,y_train, y_test"
   ]
  },
  {
   "cell_type": "markdown",
   "metadata": {},
   "source": [
    "I am defining the functions here to run my model as I plan to implement 3 different models; hence it would be easier to implement repeatedly. In this function, I define the model scores - F1 score and accuracy, as well as the error (mean squared error). As elaborated above, I plan to compare the F1 score with the accuracy score as a better indication of model performance, especially since the classes for the BOGO and discount offers are uneven."
   ]
  },
  {
   "cell_type": "code",
   "execution_count": 110,
   "metadata": {},
   "outputs": [],
   "source": [
    "def train_predict(learner, X_train, y_train, X_test, y_test): \n",
    "    '''\n",
    "    inputs:\n",
    "       - learner: the learning algorithm to be trained and predicted on\n",
    "       - sample_size: the size of samples (number) to be drawn from training set\n",
    "       - X_train: features training set\n",
    "       - y_train: review_scores_rating training set\n",
    "       - X_test: features testing set\n",
    "       - y_test: review_scores_rating testing set\n",
    "    '''\n",
    "    results = {}\n",
    "    \n",
    "    #Fit the learner to the training data and get training time\n",
    "    start = time() \n",
    "    learner = learner.fit(X_train, y_train)\n",
    "    end = time() \n",
    "    results['train_time'] = end-start\n",
    "    \n",
    "    # Get predictions on the test set(X_test), then get predictions on first 300 training samples\n",
    "    start = time() \n",
    "    predictions_test = learner.predict(X_test)\n",
    "    predictions_train = learner.predict(X_train)\n",
    "    end = time() \n",
    "    \n",
    "    # Calculate the total prediction time\n",
    "    results['pred_time'] = end-start\n",
    "    \n",
    "    #add training accuracy to results\n",
    "    results['training_score']=learner.score(X_train,y_train)\n",
    "    \n",
    "    #add testing accuracy to results\n",
    "    results['testing_score']=learner.score(X_test,y_test)\n",
    "     \n",
    "    print(\"{} trained on {} samples.\".format(learner.__class__.__name__, len(y_train)))\n",
    "    print(\"MSE_train: %.4f\" % mean_squared_error(y_train,predictions_train))\n",
    "    print(\"MSE_test: %.4f\" % mean_squared_error(y_test,predictions_test))\n",
    "    print(\"Training accuracy:%.4f\" % results['training_score'])\n",
    "    print(\"Test accuracy:%.4f\" % results['testing_score'])\n",
    "    print(classification_report(y_test, predictions_test,digits=4))\n",
    "    return results"
   ]
  },
  {
   "cell_type": "code",
   "execution_count": 111,
   "metadata": {},
   "outputs": [],
   "source": [
    "def run_model(clf1,clf2,name):\n",
    "    '''\n",
    "    inputs:\n",
    "    - clf1: first classifier model\n",
    "    - clf2: 2nd classifier model for comparison\n",
    "    - name: name of models for comparison\n",
    "    \n",
    "    outputs:\n",
    "    - Dataframe of results from model training and prediction\n",
    "    '''\n",
    "    \n",
    "    # Collect results on the learners\n",
    "    results = {}\n",
    "    for clf in [clf1, clf2]:\n",
    "        clf_name = clf.__class__.__name__ + '_' +name\n",
    "        results[clf_name] = {}\n",
    "        results[clf_name]= train_predict(clf, X_train, y_train, X_test, y_test)\n",
    "    return pd.DataFrame(results)"
   ]
  },
  {
   "cell_type": "markdown",
   "metadata": {},
   "source": [
    "#### a.i. BOGO offers model\n",
    "First we try to build the BOGO offers model. I initialize the models with some randomly chosen parameters to check the initial performance. If performance needs to be improved further, I will attempt Grid Search to find the optimal parameters."
   ]
  },
  {
   "cell_type": "code",
   "execution_count": 112,
   "metadata": {},
   "outputs": [],
   "source": [
    "drop_cols_prep=['person','offer_id','effective_offer','offer_type']\n",
    "features,target=data_prep(offers_bogo,drop_cols_prep)\n",
    "X_train, X_test, y_train, y_test=model_pipeline(features,target)\n"
   ]
  },
  {
   "cell_type": "code",
   "execution_count": 113,
   "metadata": {},
   "outputs": [
    {
     "name": "stdout",
     "output_type": "stream",
     "text": [
      "DecisionTreeClassifier trained on 9829 samples.\n",
      "MSE_train: 0.1770\n",
      "MSE_test: 0.1823\n",
      "Training accuracy:0.8230\n",
      "Test accuracy:0.8177\n",
      "             precision    recall  f1-score   support\n",
      "\n",
      "          0     0.4797    0.2694    0.3450       438\n",
      "          1     0.8553    0.9366    0.8941      2020\n",
      "\n",
      "avg / total     0.7884    0.8177    0.7963      2458\n",
      "\n",
      "RandomForestClassifier trained on 9829 samples.\n",
      "MSE_train: 0.1670\n",
      "MSE_test: 0.1786\n",
      "Training accuracy:0.8330\n",
      "Test accuracy:0.8214\n",
      "             precision    recall  f1-score   support\n",
      "\n",
      "          0     0.4906    0.0594    0.1059       438\n",
      "          1     0.8287    0.9866    0.9008      2020\n",
      "\n",
      "avg / total     0.7684    0.8214    0.7591      2458\n",
      "\n"
     ]
    }
   ],
   "source": [
    "#Initialize the model - baseline is DT model, bogo_1 model is RF model\n",
    "baseline = DecisionTreeClassifier(criterion='entropy',max_depth=5,random_state=2,min_samples_split=90,min_samples_leaf=50)\n",
    "bogo_1 = RandomForestClassifier(random_state=2,max_depth= 11, max_features= 'auto',min_samples_split= 10,n_estimators=20,min_samples_leaf=20)\n",
    "\n",
    "results=run_model(baseline,bogo_1,'bogo_1')"
   ]
  },
  {
   "cell_type": "markdown",
   "metadata": {},
   "source": [
    "The accuracy for Random Forest Classifier (RF) model actually ends up outperforming the Decision Tree Classifier (DT) model slightly, but overall the performance for both models is about the same (82.14% vs 81.77% respectively in terms of accuracy). Accuracy for a first attempt is quite good, more than 80%. I will try to tune the model further to get a better accuracy.\n",
    "\n",
    "However, in terms of the F1 score, both models are below 80%, with the Random Forest model performing worse compared to the Decision Tree Classifier, with 75.91% vs. 79.63%. To analyse this, we have to refer to the formula for Precision, Recall and F1 score:"
   ]
  },
  {
   "cell_type": "markdown",
   "metadata": {},
   "source": [
    "#### Recall or Sensitivity or TPR (True Positive Rate):\n",
    "\n",
    "According to sklearn documentation, the recall is intuitively the ability of the classifier to find all the positive samples.\n",
    "\n",
    "Number of items correctly identified as positive out of total true positives: True Positives /(True Positives +False Negatives)"
   ]
  },
  {
   "cell_type": "markdown",
   "metadata": {},
   "source": [
    "#### Precision:\n",
    "\n",
    "According to the sklearn documentation, it is intuitively the ability of the classifier not to label as positive a sample that is negative.\n",
    "\n",
    "Number of items correctly identified as positive out of total items identified as positive: True Positives /(True Positives + False Positives)\n",
    "\n",
    "F1 Score:"
   ]
  },
  {
   "cell_type": "markdown",
   "metadata": {},
   "source": [
    "#### F1 Score:\n",
    "\n",
    "Since my F-beta score is F1 with beta=1, I am weighting recall and precision as equally important.\n",
    "\n",
    "The formula is given by the harmonic mean of precision and recall: F1 = 2PrecisionRecall/(Precision + Recall)\n",
    "\n",
    "We can see that the F1 scores for DT outperformed RF slightly, but both are lower than the accuracy. This would indicate that DT model is doing slightly better compared to RF at not misclassifying negative events as positive (meaning, misclassifying people on which offers are ineffective, as people on which offers would be effective).\n",
    "\n",
    "The difference in F1 score vs accuracy indicate that there could are instances where both models are falsely classifying negatives as positives, likely due to the imbalance of classes. But the overall higher recall/accuracy compared to F1 score indicates that the model is predicting the positive case (i.e. where an offer is effective) more accurately compared to predicting the negative cases (i.e. where an offer is ineffective), which is expected given the uneven classes..\n",
    "\n",
    "However, revisiting our use case, we are perhaps not as concerned with these misclassification since we don't mind sending people more offers than they would have liked; we would rather not miss anyone on which an offer would have been effective.\n",
    "\n",
    "Given this case, I will still go with the RF model.\n",
    "\n",
    "Since I aim to analyse the drivers of an effective offer, I will check the feature importances for the models after I have selected the best model from refinement."
   ]
  },
  {
   "cell_type": "markdown",
   "metadata": {},
   "source": [
    "#### a.ii. Discount offers model\n",
    "I repeat the same steps above but with my offer_discounts dataset."
   ]
  },
  {
   "cell_type": "code",
   "execution_count": 114,
   "metadata": {},
   "outputs": [],
   "source": [
    "drop_cols_prep=['person','offer_id','effective_offer','offer_type']\n",
    "features,target=data_prep(offers_discount,drop_cols_prep)\n",
    "X_train, X_test, y_train, y_test=model_pipeline(features,target)\n"
   ]
  },
  {
   "cell_type": "code",
   "execution_count": 115,
   "metadata": {},
   "outputs": [
    {
     "name": "stdout",
     "output_type": "stream",
     "text": [
      "DecisionTreeClassifier trained on 10179 samples.\n",
      "MSE_train: 0.1371\n",
      "MSE_test: 0.1277\n",
      "Training accuracy:0.8629\n",
      "Test accuracy:0.8723\n",
      "             precision    recall  f1-score   support\n",
      "\n",
      "          0     0.0000    0.0000    0.0000       325\n",
      "          1     0.8723    1.0000    0.9318      2220\n",
      "\n",
      "avg / total     0.7609    0.8723    0.8128      2545\n",
      "\n"
     ]
    },
    {
     "name": "stderr",
     "output_type": "stream",
     "text": [
      "/opt/conda/lib/python3.6/site-packages/sklearn/metrics/classification.py:1135: UndefinedMetricWarning: Precision and F-score are ill-defined and being set to 0.0 in labels with no predicted samples.\n",
      "  'precision', 'predicted', average, warn_for)\n"
     ]
    },
    {
     "name": "stdout",
     "output_type": "stream",
     "text": [
      "RandomForestClassifier trained on 10179 samples.\n",
      "MSE_train: 0.1313\n",
      "MSE_test: 0.1277\n",
      "Training accuracy:0.8687\n",
      "Test accuracy:0.8723\n",
      "             precision    recall  f1-score   support\n",
      "\n",
      "          0     0.5000    0.0062    0.0122       325\n",
      "          1     0.8729    0.9991    0.9317      2220\n",
      "\n",
      "avg / total     0.8253    0.8723    0.8143      2545\n",
      "\n"
     ]
    }
   ],
   "source": [
    "#Initialize the model\n",
    "discount_1 = RandomForestClassifier(random_state=2,max_depth= 20, max_features= 'auto',min_samples_split= 10,n_estimators=20,min_samples_leaf=10)\n",
    "results=pd.concat([results[:],run_model(baseline,discount_1,'discount_1')],axis=1)"
   ]
  },
  {
   "cell_type": "markdown",
   "metadata": {},
   "source": [
    "This time, the Random Forest Classifier model also has a better performance compared to the Decision Tree Classifier in terms of accuracy (87.23% vs 86.72%), and the F1 score is also lower (81.43% vs 82.87%).\n",
    "\n",
    "The F1 score for these models are lower overall compared to the Accuracy score. This could be an indication that there are some instances where both models are classifying the negative cases (effective_offer = 0) falsely. Again, I am not too bothered by this as I am more concerned with the model predicting positive cases accurately, so would rather go with a higher accuracy model where F1 score for cases effective_offer=1 is higher, for which our RF classifier has better performance (0.9317 vs 0.9280).\n",
    "\n"
   ]
  },
  {
   "cell_type": "markdown",
   "metadata": {},
   "source": [
    "#### a.iii. Informational offers model"
   ]
  },
  {
   "cell_type": "code",
   "execution_count": 116,
   "metadata": {},
   "outputs": [],
   "source": [
    "features,target=data_prep(offers_info,drop_cols_prep)\n",
    "X_train, X_test, y_train, y_test=model_pipeline(features,target)"
   ]
  },
  {
   "cell_type": "code",
   "execution_count": 117,
   "metadata": {},
   "outputs": [
    {
     "name": "stdout",
     "output_type": "stream",
     "text": [
      "DecisionTreeClassifier trained on 5585 samples.\n",
      "MSE_train: 0.2462\n",
      "MSE_test: 0.2541\n",
      "Training accuracy:0.7538\n",
      "Test accuracy:0.7459\n",
      "             precision    recall  f1-score   support\n",
      "\n",
      "          0     0.5000    0.1127    0.1839       355\n",
      "          1     0.7608    0.9616    0.8495      1042\n",
      "\n",
      "avg / total     0.6945    0.7459    0.6804      1397\n",
      "\n",
      "RandomForestClassifier trained on 5585 samples.\n",
      "MSE_train: 0.2367\n",
      "MSE_test: 0.2491\n",
      "Training accuracy:0.7633\n",
      "Test accuracy:0.7509\n",
      "             precision    recall  f1-score   support\n",
      "\n",
      "          0     0.5636    0.0873    0.1512       355\n",
      "          1     0.7586    0.9770    0.8540      1042\n",
      "\n",
      "avg / total     0.7090    0.7509    0.6754      1397\n",
      "\n"
     ]
    }
   ],
   "source": [
    "#Initialize the model\n",
    "info_1 = RandomForestClassifier(random_state=5,criterion='gini',max_depth= 20, max_features= 'auto',min_samples_split= 10,n_estimators=20,min_samples_leaf=10)\n",
    "\n",
    "results=pd.concat([results[:],run_model(baseline,info_1,'info_1')],axis=1)"
   ]
  },
  {
   "cell_type": "markdown",
   "metadata": {},
   "source": [
    "The performance for these models are worse compared to the other 2 datasets, with accuracy below 80% for both models, but RF model still performing better. The F1 score is also worse, at 67.54% RF Classifier, worse than the DT model at 68.66%.\n",
    "\n",
    "One potential reason for the worse performance is perhaps due to the fact that I had the key assumption to assign the conversion events to be transactions that only occur after an offer is viewed and within the specified duration; I might have missed out on some valuable information by removing those transactions that occur regardless. We can see this from how the overall sample dataset is smaller (about half) the datasets for the other 2 offers, with only about 5K samples compared to about 10K for both BOGO and discount respectively."
   ]
  },
  {
   "cell_type": "markdown",
   "metadata": {},
   "source": [
    "### b. Refinement\n",
    "In refining the model, I will first try parameter tuning for the 3 RF models, before expreimenting with removing or adding features to improve model performance.\n",
    "\n",
    "Since I will be comparing the models based on testing score repeatedly, I built a function to find the best RF model results based on refinement depending on offer type."
   ]
  },
  {
   "cell_type": "code",
   "execution_count": 118,
   "metadata": {},
   "outputs": [],
   "source": [
    "#define function to find best model results for each offer type\n",
    "def best_model(offer_type):\n",
    "    '''\n",
    "    input:\n",
    "    - offer_type: string of offer type name\n",
    "    output:\n",
    "    - dataframe containing results of best model so far\n",
    "    \n",
    "    '''\n",
    "    print('For ' + offer_type + ' RF model:')\n",
    "    return results.transpose()[results.transpose()['testing_score']==results.transpose()[results.transpose().index.str.contains(\"RandomForestClassifier_\"+offer_type)]['testing_score'].max()]"
   ]
  },
  {
   "cell_type": "markdown",
   "metadata": {},
   "source": [
    "#### b. i. Grid Search to discover optimal parameters\n",
    "I decided to do GridSearch to determine what would be the optimal parameters for the model.\n",
    "\n",
    "For all three offers, the Random Forest model had relatively good performance, so I used Grid Search on this to determine the best parameters."
   ]
  },
  {
   "cell_type": "code",
   "execution_count": 119,
   "metadata": {},
   "outputs": [],
   "source": [
    "#define Grid Search function\n",
    "def rand_forest_param_selection(X,y):\n",
    "    '''\n",
    "    input:\n",
    "    - X,y: training datasets for X and y\n",
    "    output:\n",
    "    - dictionary with best parameters for random forest model\n",
    "    '''\n",
    "    \n",
    "    param_grid={'max_features': ['auto', 'sqrt'],\n",
    "                'max_depth' : [5,10,15,20],\n",
    "                'n_estimators': [10,20,25,30,40,50],\n",
    "                'min_samples_split': [2, 10, 20],\n",
    "                'min_samples_leaf': [2, 10,15, 20],\n",
    "                }\n",
    "    grid_search = GridSearchCV(RandomForestClassifier(random_state=2), param_grid)\n",
    "    grid_search.fit(X, y)\n",
    "    grid_search.best_params_\n",
    "    return grid_search.best_params_"
   ]
  },
  {
   "cell_type": "code",
   "execution_count": 120,
   "metadata": {},
   "outputs": [],
   "source": [
    "#define BOGO dataset\n",
    "features,target=data_prep(offers_bogo,drop_cols_prep)\n",
    "X_train, X_test, y_train, y_test=model_pipeline(features,target)\n",
    "\n",
    "#run Grid Search - commented out because takes to long to run, but have put in selected params in model\n",
    "# rand_forest_param_selection(X_train, y_train)"
   ]
  },
  {
   "cell_type": "markdown",
   "metadata": {},
   "source": [
    "Now that we have the optimal parameters for the BOGO model, I run my model again with the new parameters, keeping the DecisionTree baseline model with the same parameters as comparison."
   ]
  },
  {
   "cell_type": "code",
   "execution_count": 121,
   "metadata": {},
   "outputs": [],
   "source": [
    "features,target=data_prep(offers_bogo,drop_cols_prep)\n",
    "X_train, X_test, y_train, y_test=model_pipeline(features,target)\n"
   ]
  },
  {
   "cell_type": "code",
   "execution_count": 122,
   "metadata": {},
   "outputs": [
    {
     "name": "stdout",
     "output_type": "stream",
     "text": [
      "DecisionTreeClassifier trained on 9829 samples.\n",
      "MSE_train: 0.1770\n",
      "MSE_test: 0.1823\n",
      "Training accuracy:0.8230\n",
      "Test accuracy:0.8177\n",
      "             precision    recall  f1-score   support\n",
      "\n",
      "          0     0.4797    0.2694    0.3450       438\n",
      "          1     0.8553    0.9366    0.8941      2020\n",
      "\n",
      "avg / total     0.7884    0.8177    0.7963      2458\n",
      "\n",
      "RandomForestClassifier trained on 9829 samples.\n",
      "MSE_train: 0.1562\n",
      "MSE_test: 0.1749\n",
      "Training accuracy:0.8438\n",
      "Test accuracy:0.8251\n",
      "             precision    recall  f1-score   support\n",
      "\n",
      "          0     0.5408    0.1210    0.1978       438\n",
      "          1     0.8369    0.9777    0.9018      2020\n",
      "\n",
      "avg / total     0.7841    0.8251    0.7764      2458\n",
      "\n"
     ]
    }
   ],
   "source": [
    "#Initialize the model\n",
    "bogo_2 = RandomForestClassifier(random_state=2,max_depth= 10, max_features= 'auto',min_samples_split= 20,n_estimators=30,min_samples_leaf=2)\n",
    "\n",
    "results=pd.concat([results[:],run_model(baseline,bogo_2,'bogo_2')],axis=1)"
   ]
  },
  {
   "cell_type": "code",
   "execution_count": 123,
   "metadata": {},
   "outputs": [
    {
     "data": {
      "text/html": [
       "<div>\n",
       "<style scoped>\n",
       "    .dataframe tbody tr th:only-of-type {\n",
       "        vertical-align: middle;\n",
       "    }\n",
       "\n",
       "    .dataframe tbody tr th {\n",
       "        vertical-align: top;\n",
       "    }\n",
       "\n",
       "    .dataframe thead th {\n",
       "        text-align: right;\n",
       "    }\n",
       "</style>\n",
       "<table border=\"1\" class=\"dataframe\">\n",
       "  <thead>\n",
       "    <tr style=\"text-align: right;\">\n",
       "      <th></th>\n",
       "      <th>RandomForestClassifier_bogo_1</th>\n",
       "      <th>RandomForestClassifier_bogo_2</th>\n",
       "    </tr>\n",
       "  </thead>\n",
       "  <tbody>\n",
       "    <tr>\n",
       "      <th>pred_time</th>\n",
       "      <td>0.030640</td>\n",
       "      <td>0.050525</td>\n",
       "    </tr>\n",
       "    <tr>\n",
       "      <th>testing_score</th>\n",
       "      <td>0.821400</td>\n",
       "      <td>0.825061</td>\n",
       "    </tr>\n",
       "    <tr>\n",
       "      <th>train_time</th>\n",
       "      <td>0.153927</td>\n",
       "      <td>0.251995</td>\n",
       "    </tr>\n",
       "    <tr>\n",
       "      <th>training_score</th>\n",
       "      <td>0.833045</td>\n",
       "      <td>0.843829</td>\n",
       "    </tr>\n",
       "  </tbody>\n",
       "</table>\n",
       "</div>"
      ],
      "text/plain": [
       "                RandomForestClassifier_bogo_1  RandomForestClassifier_bogo_2\n",
       "pred_time                            0.030640                       0.050525\n",
       "testing_score                        0.821400                       0.825061\n",
       "train_time                           0.153927                       0.251995\n",
       "training_score                       0.833045                       0.843829"
      ]
     },
     "execution_count": 123,
     "metadata": {},
     "output_type": "execute_result"
    }
   ],
   "source": [
    "results[['RandomForestClassifier_bogo_1','RandomForestClassifier_bogo_2']]"
   ]
  },
  {
   "cell_type": "code",
   "execution_count": 124,
   "metadata": {},
   "outputs": [
    {
     "name": "stdout",
     "output_type": "stream",
     "text": [
      "For bogo RF model:\n"
     ]
    },
    {
     "data": {
      "text/html": [
       "<div>\n",
       "<style scoped>\n",
       "    .dataframe tbody tr th:only-of-type {\n",
       "        vertical-align: middle;\n",
       "    }\n",
       "\n",
       "    .dataframe tbody tr th {\n",
       "        vertical-align: top;\n",
       "    }\n",
       "\n",
       "    .dataframe thead th {\n",
       "        text-align: right;\n",
       "    }\n",
       "</style>\n",
       "<table border=\"1\" class=\"dataframe\">\n",
       "  <thead>\n",
       "    <tr style=\"text-align: right;\">\n",
       "      <th></th>\n",
       "      <th>pred_time</th>\n",
       "      <th>testing_score</th>\n",
       "      <th>train_time</th>\n",
       "      <th>training_score</th>\n",
       "    </tr>\n",
       "  </thead>\n",
       "  <tbody>\n",
       "    <tr>\n",
       "      <th>RandomForestClassifier_bogo_2</th>\n",
       "      <td>0.050525</td>\n",
       "      <td>0.825061</td>\n",
       "      <td>0.251995</td>\n",
       "      <td>0.843829</td>\n",
       "    </tr>\n",
       "  </tbody>\n",
       "</table>\n",
       "</div>"
      ],
      "text/plain": [
       "                               pred_time  testing_score  train_time  \\\n",
       "RandomForestClassifier_bogo_2   0.050525       0.825061    0.251995   \n",
       "\n",
       "                               training_score  \n",
       "RandomForestClassifier_bogo_2        0.843829  "
      ]
     },
     "execution_count": 124,
     "metadata": {},
     "output_type": "execute_result"
    }
   ],
   "source": [
    "#find best model so far for BOGO offer type\n",
    "best_model('bogo')"
   ]
  },
  {
   "cell_type": "markdown",
   "metadata": {},
   "source": [
    "The accuracy for the RF model increased slightly - from 82.14% to 82.51%, and the F1 score increased from 75.91% to 77.64%. This is a good performance increase but minimal, which indicates that perhaps there's not much that can be done to improve the performance of the model with parameter tuning.\n",
    "\n",
    "So I will have to explore other avenues with the features to improve the performance of the model further."
   ]
  },
  {
   "cell_type": "code",
   "execution_count": 125,
   "metadata": {},
   "outputs": [],
   "source": [
    "#define discount dataset\n",
    "features,target=data_prep(offers_discount,drop_cols_prep)\n",
    "X_train, X_test, y_train, y_test=model_pipeline(features,target)\n",
    "\n",
    "# run Grid Search - commented out because takes to long to run, but have put in selected params in model\n",
    "# rand_forest_param_selection(X_train, y_train)"
   ]
  },
  {
   "cell_type": "code",
   "execution_count": 126,
   "metadata": {},
   "outputs": [
    {
     "name": "stdout",
     "output_type": "stream",
     "text": [
      "DecisionTreeClassifier trained on 10179 samples.\n",
      "MSE_train: 0.1371\n",
      "MSE_test: 0.1277\n",
      "Training accuracy:0.8629\n",
      "Test accuracy:0.8723\n",
      "             precision    recall  f1-score   support\n",
      "\n",
      "          0     0.0000    0.0000    0.0000       325\n",
      "          1     0.8723    1.0000    0.9318      2220\n",
      "\n",
      "avg / total     0.7609    0.8723    0.8128      2545\n",
      "\n"
     ]
    },
    {
     "name": "stderr",
     "output_type": "stream",
     "text": [
      "/opt/conda/lib/python3.6/site-packages/sklearn/metrics/classification.py:1135: UndefinedMetricWarning: Precision and F-score are ill-defined and being set to 0.0 in labels with no predicted samples.\n",
      "  'precision', 'predicted', average, warn_for)\n"
     ]
    },
    {
     "name": "stdout",
     "output_type": "stream",
     "text": [
      "RandomForestClassifier trained on 10179 samples.\n",
      "MSE_train: 0.1324\n",
      "MSE_test: 0.1253\n",
      "Training accuracy:0.8676\n",
      "Test accuracy:0.8747\n",
      "             precision    recall  f1-score   support\n",
      "\n",
      "          0     0.7500    0.0277    0.0534       325\n",
      "          1     0.8752    0.9986    0.9329      2220\n",
      "\n",
      "avg / total     0.8593    0.8747    0.8206      2545\n",
      "\n"
     ]
    }
   ],
   "source": [
    "X_train, X_test, y_train, y_test=model_pipeline(features,target)\n",
    "\n",
    "#Initialize the model\n",
    "discount_2 = RandomForestClassifier(random_state=2,max_depth= 10, max_features= 'auto',min_samples_split= 20,n_estimators=30,min_samples_leaf=2)\n",
    "\n",
    "results=pd.concat([results[:],run_model(baseline,discount_2,'discount_2')],axis=1)"
   ]
  },
  {
   "cell_type": "code",
   "execution_count": 127,
   "metadata": {},
   "outputs": [
    {
     "data": {
      "text/html": [
       "<div>\n",
       "<style scoped>\n",
       "    .dataframe tbody tr th:only-of-type {\n",
       "        vertical-align: middle;\n",
       "    }\n",
       "\n",
       "    .dataframe tbody tr th {\n",
       "        vertical-align: top;\n",
       "    }\n",
       "\n",
       "    .dataframe thead th {\n",
       "        text-align: right;\n",
       "    }\n",
       "</style>\n",
       "<table border=\"1\" class=\"dataframe\">\n",
       "  <thead>\n",
       "    <tr style=\"text-align: right;\">\n",
       "      <th></th>\n",
       "      <th>RandomForestClassifier_discount_1</th>\n",
       "      <th>RandomForestClassifier_discount_2</th>\n",
       "    </tr>\n",
       "  </thead>\n",
       "  <tbody>\n",
       "    <tr>\n",
       "      <th>pred_time</th>\n",
       "      <td>0.044663</td>\n",
       "      <td>0.053962</td>\n",
       "    </tr>\n",
       "    <tr>\n",
       "      <th>testing_score</th>\n",
       "      <td>0.872299</td>\n",
       "      <td>0.874656</td>\n",
       "    </tr>\n",
       "    <tr>\n",
       "      <th>train_time</th>\n",
       "      <td>0.177788</td>\n",
       "      <td>0.255692</td>\n",
       "    </tr>\n",
       "    <tr>\n",
       "      <th>training_score</th>\n",
       "      <td>0.868749</td>\n",
       "      <td>0.867570</td>\n",
       "    </tr>\n",
       "  </tbody>\n",
       "</table>\n",
       "</div>"
      ],
      "text/plain": [
       "                RandomForestClassifier_discount_1  \\\n",
       "pred_time                                0.044663   \n",
       "testing_score                            0.872299   \n",
       "train_time                               0.177788   \n",
       "training_score                           0.868749   \n",
       "\n",
       "                RandomForestClassifier_discount_2  \n",
       "pred_time                                0.053962  \n",
       "testing_score                            0.874656  \n",
       "train_time                               0.255692  \n",
       "training_score                           0.867570  "
      ]
     },
     "execution_count": 127,
     "metadata": {},
     "output_type": "execute_result"
    }
   ],
   "source": [
    "results[['RandomForestClassifier_discount_1','RandomForestClassifier_discount_2']]"
   ]
  },
  {
   "cell_type": "code",
   "execution_count": 128,
   "metadata": {},
   "outputs": [
    {
     "name": "stdout",
     "output_type": "stream",
     "text": [
      "For discount RF model:\n"
     ]
    },
    {
     "data": {
      "text/html": [
       "<div>\n",
       "<style scoped>\n",
       "    .dataframe tbody tr th:only-of-type {\n",
       "        vertical-align: middle;\n",
       "    }\n",
       "\n",
       "    .dataframe tbody tr th {\n",
       "        vertical-align: top;\n",
       "    }\n",
       "\n",
       "    .dataframe thead th {\n",
       "        text-align: right;\n",
       "    }\n",
       "</style>\n",
       "<table border=\"1\" class=\"dataframe\">\n",
       "  <thead>\n",
       "    <tr style=\"text-align: right;\">\n",
       "      <th></th>\n",
       "      <th>pred_time</th>\n",
       "      <th>testing_score</th>\n",
       "      <th>train_time</th>\n",
       "      <th>training_score</th>\n",
       "    </tr>\n",
       "  </thead>\n",
       "  <tbody>\n",
       "    <tr>\n",
       "      <th>RandomForestClassifier_discount_2</th>\n",
       "      <td>0.053962</td>\n",
       "      <td>0.874656</td>\n",
       "      <td>0.255692</td>\n",
       "      <td>0.86757</td>\n",
       "    </tr>\n",
       "  </tbody>\n",
       "</table>\n",
       "</div>"
      ],
      "text/plain": [
       "                                   pred_time  testing_score  train_time  \\\n",
       "RandomForestClassifier_discount_2   0.053962       0.874656    0.255692   \n",
       "\n",
       "                                   training_score  \n",
       "RandomForestClassifier_discount_2         0.86757  "
      ]
     },
     "execution_count": 128,
     "metadata": {},
     "output_type": "execute_result"
    }
   ],
   "source": [
    "#find best model so far for discount offer type\n",
    "best_model('discount')"
   ]
  },
  {
   "cell_type": "markdown",
   "metadata": {},
   "source": [
    "The accuracy of the model increaased slightly, from 87.23% to 87.47%, and the F1 score improved from 81.43% to 82.06%. The good thing is that now both the accuracy and the F1 score for the RF model is better than the DT model.\n",
    "\n",
    "But because the increase was minimal, again we can conclude that tuning the parameters won't really improve the performance of the model significantly."
   ]
  },
  {
   "cell_type": "code",
   "execution_count": 129,
   "metadata": {},
   "outputs": [],
   "source": [
    "#define info dataset\n",
    "features,target=data_prep(offers_info,drop_cols_prep)\n",
    "X_train, X_test, y_train, y_test=model_pipeline(features,target)\n",
    "\n",
    "#run Grid Search - commented out because takes to long to run, but have put in selected params in model\n",
    "# rand_forest_param_selection(X_train, y_train)\n"
   ]
  },
  {
   "cell_type": "code",
   "execution_count": 130,
   "metadata": {},
   "outputs": [
    {
     "name": "stdout",
     "output_type": "stream",
     "text": [
      "DecisionTreeClassifier trained on 5585 samples.\n",
      "MSE_train: 0.2462\n",
      "MSE_test: 0.2541\n",
      "Training accuracy:0.7538\n",
      "Test accuracy:0.7459\n",
      "             precision    recall  f1-score   support\n",
      "\n",
      "          0     0.5000    0.1127    0.1839       355\n",
      "          1     0.7608    0.9616    0.8495      1042\n",
      "\n",
      "avg / total     0.6945    0.7459    0.6804      1397\n",
      "\n",
      "RandomForestClassifier trained on 5585 samples.\n",
      "MSE_train: 0.2405\n",
      "MSE_test: 0.2470\n",
      "Training accuracy:0.7595\n",
      "Test accuracy:0.7530\n",
      "             precision    recall  f1-score   support\n",
      "\n",
      "          0     0.5926    0.0901    0.1565       355\n",
      "          1     0.7595    0.9789    0.8553      1042\n",
      "\n",
      "avg / total     0.7171    0.7530    0.6778      1397\n",
      "\n"
     ]
    }
   ],
   "source": [
    "features,target=data_prep(offers_info,drop_cols_prep)\n",
    "X_train, X_test, y_train, y_test=model_pipeline(features,target)\n",
    "\n",
    "#Initialize the model\n",
    "info_2 = RandomForestClassifier(random_state=2,max_depth= 15, max_features= 'auto',min_samples_split= 2,n_estimators=20,min_samples_leaf=15)\n",
    "\n",
    "results=pd.concat([results[:],run_model(baseline,info_2,'info_2')],axis=1)"
   ]
  },
  {
   "cell_type": "code",
   "execution_count": 131,
   "metadata": {},
   "outputs": [
    {
     "data": {
      "text/html": [
       "<div>\n",
       "<style scoped>\n",
       "    .dataframe tbody tr th:only-of-type {\n",
       "        vertical-align: middle;\n",
       "    }\n",
       "\n",
       "    .dataframe tbody tr th {\n",
       "        vertical-align: top;\n",
       "    }\n",
       "\n",
       "    .dataframe thead th {\n",
       "        text-align: right;\n",
       "    }\n",
       "</style>\n",
       "<table border=\"1\" class=\"dataframe\">\n",
       "  <thead>\n",
       "    <tr style=\"text-align: right;\">\n",
       "      <th></th>\n",
       "      <th>RandomForestClassifier_info_1</th>\n",
       "      <th>RandomForestClassifier_info_2</th>\n",
       "    </tr>\n",
       "  </thead>\n",
       "  <tbody>\n",
       "    <tr>\n",
       "      <th>pred_time</th>\n",
       "      <td>0.021238</td>\n",
       "      <td>0.019306</td>\n",
       "    </tr>\n",
       "    <tr>\n",
       "      <th>testing_score</th>\n",
       "      <td>0.750895</td>\n",
       "      <td>0.753042</td>\n",
       "    </tr>\n",
       "    <tr>\n",
       "      <th>train_time</th>\n",
       "      <td>0.109071</td>\n",
       "      <td>0.096302</td>\n",
       "    </tr>\n",
       "    <tr>\n",
       "      <th>training_score</th>\n",
       "      <td>0.763295</td>\n",
       "      <td>0.759534</td>\n",
       "    </tr>\n",
       "  </tbody>\n",
       "</table>\n",
       "</div>"
      ],
      "text/plain": [
       "                RandomForestClassifier_info_1  RandomForestClassifier_info_2\n",
       "pred_time                            0.021238                       0.019306\n",
       "testing_score                        0.750895                       0.753042\n",
       "train_time                           0.109071                       0.096302\n",
       "training_score                       0.763295                       0.759534"
      ]
     },
     "execution_count": 131,
     "metadata": {},
     "output_type": "execute_result"
    }
   ],
   "source": [
    "results[['RandomForestClassifier_info_1','RandomForestClassifier_info_2']]"
   ]
  },
  {
   "cell_type": "code",
   "execution_count": 132,
   "metadata": {},
   "outputs": [
    {
     "name": "stdout",
     "output_type": "stream",
     "text": [
      "For info RF model:\n"
     ]
    },
    {
     "data": {
      "text/html": [
       "<div>\n",
       "<style scoped>\n",
       "    .dataframe tbody tr th:only-of-type {\n",
       "        vertical-align: middle;\n",
       "    }\n",
       "\n",
       "    .dataframe tbody tr th {\n",
       "        vertical-align: top;\n",
       "    }\n",
       "\n",
       "    .dataframe thead th {\n",
       "        text-align: right;\n",
       "    }\n",
       "</style>\n",
       "<table border=\"1\" class=\"dataframe\">\n",
       "  <thead>\n",
       "    <tr style=\"text-align: right;\">\n",
       "      <th></th>\n",
       "      <th>pred_time</th>\n",
       "      <th>testing_score</th>\n",
       "      <th>train_time</th>\n",
       "      <th>training_score</th>\n",
       "    </tr>\n",
       "  </thead>\n",
       "  <tbody>\n",
       "    <tr>\n",
       "      <th>RandomForestClassifier_info_2</th>\n",
       "      <td>0.019306</td>\n",
       "      <td>0.753042</td>\n",
       "      <td>0.096302</td>\n",
       "      <td>0.759534</td>\n",
       "    </tr>\n",
       "  </tbody>\n",
       "</table>\n",
       "</div>"
      ],
      "text/plain": [
       "                               pred_time  testing_score  train_time  \\\n",
       "RandomForestClassifier_info_2   0.019306       0.753042    0.096302   \n",
       "\n",
       "                               training_score  \n",
       "RandomForestClassifier_info_2        0.759534  "
      ]
     },
     "execution_count": 132,
     "metadata": {},
     "output_type": "execute_result"
    }
   ],
   "source": [
    "#find best model so far for info offer type\n",
    "best_model('info')"
   ]
  },
  {
   "cell_type": "markdown",
   "metadata": {},
   "source": [
    "Again we see some improvement in accuracy for RF model, from 75.09% to 75.30%, and slight increase in F1 score from 67.54% to 67.78%. This improvement is minimal,so we look into improving the feature selection of the model."
   ]
  },
  {
   "cell_type": "markdown",
   "metadata": {},
   "source": [
    "#### b.ii Removing sparse features e.g. amount_invalid\n",
    "In terms of feature selection, I wanted to try and see if removing the amount_invalid variable, which we had noted as being sparse, hence may not be useful in predicting the effectiveness of offers, would help.\n",
    "\n",
    "I removed the feature from my data prep and retrained the model using the same optimal parameters found via GridSearch, with the DT model as a baseline."
   ]
  },
  {
   "cell_type": "code",
   "execution_count": 133,
   "metadata": {},
   "outputs": [],
   "source": [
    "#add amount_invalid variable to drop_cols_prep list\n",
    "drop_cols_prep=['person','offer_id','effective_offer','offer_type','amount_invalid']\n"
   ]
  },
  {
   "cell_type": "code",
   "execution_count": 134,
   "metadata": {},
   "outputs": [],
   "source": [
    "#train BOGO model\n",
    "features,target=data_prep(offers_bogo,drop_cols_prep)\n",
    "X_train, X_test, y_train, y_test=model_pipeline(features,target)"
   ]
  },
  {
   "cell_type": "code",
   "execution_count": 135,
   "metadata": {},
   "outputs": [],
   "source": [
    "#Initialize the model\n",
    "bogo_3 = RandomForestClassifier(random_state=2,max_depth= 10, max_features= 'auto',min_samples_split= 20,n_estimators=30,min_samples_leaf=2)\n"
   ]
  },
  {
   "cell_type": "code",
   "execution_count": 136,
   "metadata": {},
   "outputs": [
    {
     "name": "stdout",
     "output_type": "stream",
     "text": [
      "DecisionTreeClassifier trained on 9829 samples.\n",
      "MSE_train: 0.1743\n",
      "MSE_test: 0.1810\n",
      "Training accuracy:0.8257\n",
      "Test accuracy:0.8190\n",
      "             precision    recall  f1-score   support\n",
      "\n",
      "          0     0.4759    0.1575    0.2367       438\n",
      "          1     0.8405    0.9624    0.8973      2020\n",
      "\n",
      "avg / total     0.7755    0.8190    0.7796      2458\n",
      "\n",
      "RandomForestClassifier trained on 9829 samples.\n",
      "MSE_train: 0.1531\n",
      "MSE_test: 0.1717\n",
      "Training accuracy:0.8469\n",
      "Test accuracy:0.8283\n",
      "             precision    recall  f1-score   support\n",
      "\n",
      "          0     0.5889    0.1210    0.2008       438\n",
      "          1     0.8374    0.9817    0.9038      2020\n",
      "\n",
      "avg / total     0.7931    0.8283    0.7785      2458\n",
      "\n"
     ]
    }
   ],
   "source": [
    "results=pd.concat([results[:],run_model(baseline,bogo_3,'bogo_3')],axis=1)"
   ]
  },
  {
   "cell_type": "code",
   "execution_count": 137,
   "metadata": {},
   "outputs": [
    {
     "data": {
      "text/html": [
       "<div>\n",
       "<style scoped>\n",
       "    .dataframe tbody tr th:only-of-type {\n",
       "        vertical-align: middle;\n",
       "    }\n",
       "\n",
       "    .dataframe tbody tr th {\n",
       "        vertical-align: top;\n",
       "    }\n",
       "\n",
       "    .dataframe thead th {\n",
       "        text-align: right;\n",
       "    }\n",
       "</style>\n",
       "<table border=\"1\" class=\"dataframe\">\n",
       "  <thead>\n",
       "    <tr style=\"text-align: right;\">\n",
       "      <th></th>\n",
       "      <th>RandomForestClassifier_bogo_2</th>\n",
       "      <th>RandomForestClassifier_bogo_3</th>\n",
       "    </tr>\n",
       "  </thead>\n",
       "  <tbody>\n",
       "    <tr>\n",
       "      <th>pred_time</th>\n",
       "      <td>0.050525</td>\n",
       "      <td>0.052794</td>\n",
       "    </tr>\n",
       "    <tr>\n",
       "      <th>testing_score</th>\n",
       "      <td>0.825061</td>\n",
       "      <td>0.828316</td>\n",
       "    </tr>\n",
       "    <tr>\n",
       "      <th>train_time</th>\n",
       "      <td>0.251995</td>\n",
       "      <td>0.263380</td>\n",
       "    </tr>\n",
       "    <tr>\n",
       "      <th>training_score</th>\n",
       "      <td>0.843829</td>\n",
       "      <td>0.846882</td>\n",
       "    </tr>\n",
       "  </tbody>\n",
       "</table>\n",
       "</div>"
      ],
      "text/plain": [
       "                RandomForestClassifier_bogo_2  RandomForestClassifier_bogo_3\n",
       "pred_time                            0.050525                       0.052794\n",
       "testing_score                        0.825061                       0.828316\n",
       "train_time                           0.251995                       0.263380\n",
       "training_score                       0.843829                       0.846882"
      ]
     },
     "execution_count": 137,
     "metadata": {},
     "output_type": "execute_result"
    }
   ],
   "source": [
    "results[['RandomForestClassifier_bogo_2','RandomForestClassifier_bogo_3']]"
   ]
  },
  {
   "cell_type": "code",
   "execution_count": 138,
   "metadata": {},
   "outputs": [
    {
     "name": "stdout",
     "output_type": "stream",
     "text": [
      "For bogo RF model:\n"
     ]
    },
    {
     "data": {
      "text/html": [
       "<div>\n",
       "<style scoped>\n",
       "    .dataframe tbody tr th:only-of-type {\n",
       "        vertical-align: middle;\n",
       "    }\n",
       "\n",
       "    .dataframe tbody tr th {\n",
       "        vertical-align: top;\n",
       "    }\n",
       "\n",
       "    .dataframe thead th {\n",
       "        text-align: right;\n",
       "    }\n",
       "</style>\n",
       "<table border=\"1\" class=\"dataframe\">\n",
       "  <thead>\n",
       "    <tr style=\"text-align: right;\">\n",
       "      <th></th>\n",
       "      <th>pred_time</th>\n",
       "      <th>testing_score</th>\n",
       "      <th>train_time</th>\n",
       "      <th>training_score</th>\n",
       "    </tr>\n",
       "  </thead>\n",
       "  <tbody>\n",
       "    <tr>\n",
       "      <th>RandomForestClassifier_bogo_3</th>\n",
       "      <td>0.052794</td>\n",
       "      <td>0.828316</td>\n",
       "      <td>0.26338</td>\n",
       "      <td>0.846882</td>\n",
       "    </tr>\n",
       "  </tbody>\n",
       "</table>\n",
       "</div>"
      ],
      "text/plain": [
       "                               pred_time  testing_score  train_time  \\\n",
       "RandomForestClassifier_bogo_3   0.052794       0.828316     0.26338   \n",
       "\n",
       "                               training_score  \n",
       "RandomForestClassifier_bogo_3        0.846882  "
      ]
     },
     "execution_count": 138,
     "metadata": {},
     "output_type": "execute_result"
    }
   ],
   "source": [
    "#find best model so far for BOGO offer type\n",
    "best_model('bogo')"
   ]
  },
  {
   "cell_type": "markdown",
   "metadata": {},
   "source": [
    "Accuracy of the model actually increased while F1 model remained the same. In this case, I will also remove the amount_invalid feature for the discount model."
   ]
  },
  {
   "cell_type": "code",
   "execution_count": 139,
   "metadata": {},
   "outputs": [],
   "source": [
    "#train discount model\n",
    "features,target=data_prep(offers_discount,drop_cols_prep)\n",
    "X_train, X_test, y_train, y_test=model_pipeline(features,target)\n"
   ]
  },
  {
   "cell_type": "code",
   "execution_count": 140,
   "metadata": {},
   "outputs": [],
   "source": [
    "#Initialize the model\n",
    "discount_3 = RandomForestClassifier(random_state=2,max_depth= 10, max_features= 'auto',min_samples_split= 20,n_estimators=30,min_samples_leaf=2)\n"
   ]
  },
  {
   "cell_type": "code",
   "execution_count": 141,
   "metadata": {},
   "outputs": [
    {
     "name": "stdout",
     "output_type": "stream",
     "text": [
      "DecisionTreeClassifier trained on 10179 samples.\n",
      "MSE_train: 0.1371\n",
      "MSE_test: 0.1277\n",
      "Training accuracy:0.8629\n",
      "Test accuracy:0.8723\n",
      "             precision    recall  f1-score   support\n",
      "\n",
      "          0     0.0000    0.0000    0.0000       325\n",
      "          1     0.8723    1.0000    0.9318      2220\n",
      "\n",
      "avg / total     0.7609    0.8723    0.8128      2545\n",
      "\n"
     ]
    },
    {
     "name": "stderr",
     "output_type": "stream",
     "text": [
      "/opt/conda/lib/python3.6/site-packages/sklearn/metrics/classification.py:1135: UndefinedMetricWarning: Precision and F-score are ill-defined and being set to 0.0 in labels with no predicted samples.\n",
      "  'precision', 'predicted', average, warn_for)\n"
     ]
    },
    {
     "name": "stdout",
     "output_type": "stream",
     "text": [
      "RandomForestClassifier trained on 10179 samples.\n",
      "MSE_train: 0.1310\n",
      "MSE_test: 0.1265\n",
      "Training accuracy:0.8690\n",
      "Test accuracy:0.8735\n",
      "             precision    recall  f1-score   support\n",
      "\n",
      "          0     0.5882    0.0308    0.0585       325\n",
      "          1     0.8754    0.9968    0.9322      2220\n",
      "\n",
      "avg / total     0.8387    0.8735    0.8206      2545\n",
      "\n"
     ]
    }
   ],
   "source": [
    "results=pd.concat([results[:],run_model(baseline,discount_3,'discount_3')],axis=1)"
   ]
  },
  {
   "cell_type": "code",
   "execution_count": 142,
   "metadata": {},
   "outputs": [
    {
     "data": {
      "text/html": [
       "<div>\n",
       "<style scoped>\n",
       "    .dataframe tbody tr th:only-of-type {\n",
       "        vertical-align: middle;\n",
       "    }\n",
       "\n",
       "    .dataframe tbody tr th {\n",
       "        vertical-align: top;\n",
       "    }\n",
       "\n",
       "    .dataframe thead th {\n",
       "        text-align: right;\n",
       "    }\n",
       "</style>\n",
       "<table border=\"1\" class=\"dataframe\">\n",
       "  <thead>\n",
       "    <tr style=\"text-align: right;\">\n",
       "      <th></th>\n",
       "      <th>RandomForestClassifier_discount_2</th>\n",
       "      <th>RandomForestClassifier_discount_3</th>\n",
       "    </tr>\n",
       "  </thead>\n",
       "  <tbody>\n",
       "    <tr>\n",
       "      <th>pred_time</th>\n",
       "      <td>0.053962</td>\n",
       "      <td>0.050213</td>\n",
       "    </tr>\n",
       "    <tr>\n",
       "      <th>testing_score</th>\n",
       "      <td>0.874656</td>\n",
       "      <td>0.873477</td>\n",
       "    </tr>\n",
       "    <tr>\n",
       "      <th>train_time</th>\n",
       "      <td>0.255692</td>\n",
       "      <td>0.266830</td>\n",
       "    </tr>\n",
       "    <tr>\n",
       "      <th>training_score</th>\n",
       "      <td>0.867570</td>\n",
       "      <td>0.869044</td>\n",
       "    </tr>\n",
       "  </tbody>\n",
       "</table>\n",
       "</div>"
      ],
      "text/plain": [
       "                RandomForestClassifier_discount_2  \\\n",
       "pred_time                                0.053962   \n",
       "testing_score                            0.874656   \n",
       "train_time                               0.255692   \n",
       "training_score                           0.867570   \n",
       "\n",
       "                RandomForestClassifier_discount_3  \n",
       "pred_time                                0.050213  \n",
       "testing_score                            0.873477  \n",
       "train_time                               0.266830  \n",
       "training_score                           0.869044  "
      ]
     },
     "execution_count": 142,
     "metadata": {},
     "output_type": "execute_result"
    }
   ],
   "source": [
    "results[['RandomForestClassifier_discount_2','RandomForestClassifier_discount_3']]"
   ]
  },
  {
   "cell_type": "code",
   "execution_count": 143,
   "metadata": {},
   "outputs": [
    {
     "name": "stdout",
     "output_type": "stream",
     "text": [
      "For discount RF model:\n"
     ]
    },
    {
     "data": {
      "text/html": [
       "<div>\n",
       "<style scoped>\n",
       "    .dataframe tbody tr th:only-of-type {\n",
       "        vertical-align: middle;\n",
       "    }\n",
       "\n",
       "    .dataframe tbody tr th {\n",
       "        vertical-align: top;\n",
       "    }\n",
       "\n",
       "    .dataframe thead th {\n",
       "        text-align: right;\n",
       "    }\n",
       "</style>\n",
       "<table border=\"1\" class=\"dataframe\">\n",
       "  <thead>\n",
       "    <tr style=\"text-align: right;\">\n",
       "      <th></th>\n",
       "      <th>pred_time</th>\n",
       "      <th>testing_score</th>\n",
       "      <th>train_time</th>\n",
       "      <th>training_score</th>\n",
       "    </tr>\n",
       "  </thead>\n",
       "  <tbody>\n",
       "    <tr>\n",
       "      <th>RandomForestClassifier_discount_2</th>\n",
       "      <td>0.053962</td>\n",
       "      <td>0.874656</td>\n",
       "      <td>0.255692</td>\n",
       "      <td>0.86757</td>\n",
       "    </tr>\n",
       "  </tbody>\n",
       "</table>\n",
       "</div>"
      ],
      "text/plain": [
       "                                   pred_time  testing_score  train_time  \\\n",
       "RandomForestClassifier_discount_2   0.053962       0.874656    0.255692   \n",
       "\n",
       "                                   training_score  \n",
       "RandomForestClassifier_discount_2         0.86757  "
      ]
     },
     "execution_count": 143,
     "metadata": {},
     "output_type": "execute_result"
    }
   ],
   "source": [
    "#find best model so far for discount offer type\n",
    "best_model('discount')"
   ]
  },
  {
   "cell_type": "markdown",
   "metadata": {},
   "source": [
    "Accuracy and F1 score of the model actually decreased here for info model, so I will also keep the feature in. This is expected since the model had already a worse performance compared to the other 2 models, so the model is slightly underfitting compared to the others. Hence the model needs more features to learn to predict better."
   ]
  },
  {
   "cell_type": "markdown",
   "metadata": {},
   "source": [
    "#### b. iii. Dropping one level of dummy variables/one-hot encoding\n"
   ]
  },
  {
   "cell_type": "code",
   "execution_count": 144,
   "metadata": {},
   "outputs": [],
   "source": [
    "#train info model\n",
    "features,target=data_prep(offers_info,drop_cols_prep)\n",
    "X_train, X_test, y_train, y_test=model_pipeline(features,target)"
   ]
  },
  {
   "cell_type": "code",
   "execution_count": 145,
   "metadata": {},
   "outputs": [],
   "source": [
    "#Initialize the model\n",
    "info_3 = RandomForestClassifier(random_state=2,max_depth= 15, max_features= 'auto',min_samples_split= 2,n_estimators=20,min_samples_leaf=15)\n"
   ]
  },
  {
   "cell_type": "code",
   "execution_count": 146,
   "metadata": {},
   "outputs": [
    {
     "name": "stdout",
     "output_type": "stream",
     "text": [
      "DecisionTreeClassifier trained on 5585 samples.\n",
      "MSE_train: 0.2462\n",
      "MSE_test: 0.2541\n",
      "Training accuracy:0.7538\n",
      "Test accuracy:0.7459\n",
      "             precision    recall  f1-score   support\n",
      "\n",
      "          0     0.5000    0.1127    0.1839       355\n",
      "          1     0.7608    0.9616    0.8495      1042\n",
      "\n",
      "avg / total     0.6945    0.7459    0.6804      1397\n",
      "\n",
      "RandomForestClassifier trained on 5585 samples.\n",
      "MSE_train: 0.2365\n",
      "MSE_test: 0.2520\n",
      "Training accuracy:0.7635\n",
      "Test accuracy:0.7480\n",
      "             precision    recall  f1-score   support\n",
      "\n",
      "          0     0.5263    0.0845    0.1456       355\n",
      "          1     0.7575    0.9741    0.8522      1042\n",
      "\n",
      "avg / total     0.6987    0.7480    0.6727      1397\n",
      "\n"
     ]
    }
   ],
   "source": [
    "results=pd.concat([results[:],run_model(baseline,info_3,'info_3')],axis=1)"
   ]
  },
  {
   "cell_type": "code",
   "execution_count": 147,
   "metadata": {},
   "outputs": [
    {
     "data": {
      "text/html": [
       "<div>\n",
       "<style scoped>\n",
       "    .dataframe tbody tr th:only-of-type {\n",
       "        vertical-align: middle;\n",
       "    }\n",
       "\n",
       "    .dataframe tbody tr th {\n",
       "        vertical-align: top;\n",
       "    }\n",
       "\n",
       "    .dataframe thead th {\n",
       "        text-align: right;\n",
       "    }\n",
       "</style>\n",
       "<table border=\"1\" class=\"dataframe\">\n",
       "  <thead>\n",
       "    <tr style=\"text-align: right;\">\n",
       "      <th></th>\n",
       "      <th>RandomForestClassifier_info_2</th>\n",
       "      <th>RandomForestClassifier_info_3</th>\n",
       "    </tr>\n",
       "  </thead>\n",
       "  <tbody>\n",
       "    <tr>\n",
       "      <th>pred_time</th>\n",
       "      <td>0.019306</td>\n",
       "      <td>0.019286</td>\n",
       "    </tr>\n",
       "    <tr>\n",
       "      <th>testing_score</th>\n",
       "      <td>0.753042</td>\n",
       "      <td>0.748031</td>\n",
       "    </tr>\n",
       "    <tr>\n",
       "      <th>train_time</th>\n",
       "      <td>0.096302</td>\n",
       "      <td>0.103701</td>\n",
       "    </tr>\n",
       "    <tr>\n",
       "      <th>training_score</th>\n",
       "      <td>0.759534</td>\n",
       "      <td>0.763474</td>\n",
       "    </tr>\n",
       "  </tbody>\n",
       "</table>\n",
       "</div>"
      ],
      "text/plain": [
       "                RandomForestClassifier_info_2  RandomForestClassifier_info_3\n",
       "pred_time                            0.019306                       0.019286\n",
       "testing_score                        0.753042                       0.748031\n",
       "train_time                           0.096302                       0.103701\n",
       "training_score                       0.759534                       0.763474"
      ]
     },
     "execution_count": 147,
     "metadata": {},
     "output_type": "execute_result"
    }
   ],
   "source": [
    "results[['RandomForestClassifier_info_2','RandomForestClassifier_info_3']]"
   ]
  },
  {
   "cell_type": "code",
   "execution_count": 148,
   "metadata": {},
   "outputs": [
    {
     "name": "stdout",
     "output_type": "stream",
     "text": [
      "For info RF model:\n"
     ]
    },
    {
     "data": {
      "text/html": [
       "<div>\n",
       "<style scoped>\n",
       "    .dataframe tbody tr th:only-of-type {\n",
       "        vertical-align: middle;\n",
       "    }\n",
       "\n",
       "    .dataframe tbody tr th {\n",
       "        vertical-align: top;\n",
       "    }\n",
       "\n",
       "    .dataframe thead th {\n",
       "        text-align: right;\n",
       "    }\n",
       "</style>\n",
       "<table border=\"1\" class=\"dataframe\">\n",
       "  <thead>\n",
       "    <tr style=\"text-align: right;\">\n",
       "      <th></th>\n",
       "      <th>pred_time</th>\n",
       "      <th>testing_score</th>\n",
       "      <th>train_time</th>\n",
       "      <th>training_score</th>\n",
       "    </tr>\n",
       "  </thead>\n",
       "  <tbody>\n",
       "    <tr>\n",
       "      <th>RandomForestClassifier_info_2</th>\n",
       "      <td>0.019306</td>\n",
       "      <td>0.753042</td>\n",
       "      <td>0.096302</td>\n",
       "      <td>0.759534</td>\n",
       "    </tr>\n",
       "  </tbody>\n",
       "</table>\n",
       "</div>"
      ],
      "text/plain": [
       "                               pred_time  testing_score  train_time  \\\n",
       "RandomForestClassifier_info_2   0.019306       0.753042    0.096302   \n",
       "\n",
       "                               training_score  \n",
       "RandomForestClassifier_info_2        0.759534  "
      ]
     },
     "execution_count": 148,
     "metadata": {},
     "output_type": "execute_result"
    }
   ],
   "source": [
    "#find best model so far for info offer type\n",
    "best_model('info')"
   ]
  },
  {
   "cell_type": "code",
   "execution_count": 149,
   "metadata": {},
   "outputs": [],
   "source": [
    "#add one level of dummy variables to drop column \n",
    "drop_cols_prep=['person','offer_id','effective_offer','offer_type','amount_invalid','social','gender_O']\n",
    "features,target=data_prep(offers_bogo,drop_cols_prep)\n",
    "X_train, X_test, y_train, y_test=model_pipeline(features,target)\n"
   ]
  },
  {
   "cell_type": "code",
   "execution_count": 150,
   "metadata": {},
   "outputs": [],
   "source": [
    "#Initialize the model - reuse best performing model - \n",
    "bogo_4 = RandomForestClassifier(random_state=2,max_depth= 10, max_features= 'auto',min_samples_split= 20,n_estimators=30,min_samples_leaf=2)"
   ]
  },
  {
   "cell_type": "code",
   "execution_count": 151,
   "metadata": {},
   "outputs": [
    {
     "name": "stdout",
     "output_type": "stream",
     "text": [
      "DecisionTreeClassifier trained on 9829 samples.\n",
      "MSE_train: 0.1743\n",
      "MSE_test: 0.1810\n",
      "Training accuracy:0.8257\n",
      "Test accuracy:0.8190\n",
      "             precision    recall  f1-score   support\n",
      "\n",
      "          0     0.4759    0.1575    0.2367       438\n",
      "          1     0.8405    0.9624    0.8973      2020\n",
      "\n",
      "avg / total     0.7755    0.8190    0.7796      2458\n",
      "\n",
      "RandomForestClassifier trained on 9829 samples.\n",
      "MSE_train: 0.1478\n",
      "MSE_test: 0.1749\n",
      "Training accuracy:0.8522\n",
      "Test accuracy:0.8251\n",
      "             precision    recall  f1-score   support\n",
      "\n",
      "          0     0.5392    0.1256    0.2037       438\n",
      "          1     0.8374    0.9767    0.9017      2020\n",
      "\n",
      "avg / total     0.7843    0.8251    0.7774      2458\n",
      "\n"
     ]
    }
   ],
   "source": [
    "results=pd.concat([results[:],run_model(baseline,bogo_4,'bogo_4')],axis=1)"
   ]
  },
  {
   "cell_type": "code",
   "execution_count": 152,
   "metadata": {},
   "outputs": [
    {
     "data": {
      "text/html": [
       "<div>\n",
       "<style scoped>\n",
       "    .dataframe tbody tr th:only-of-type {\n",
       "        vertical-align: middle;\n",
       "    }\n",
       "\n",
       "    .dataframe tbody tr th {\n",
       "        vertical-align: top;\n",
       "    }\n",
       "\n",
       "    .dataframe thead th {\n",
       "        text-align: right;\n",
       "    }\n",
       "</style>\n",
       "<table border=\"1\" class=\"dataframe\">\n",
       "  <thead>\n",
       "    <tr style=\"text-align: right;\">\n",
       "      <th></th>\n",
       "      <th>RandomForestClassifier_bogo_3</th>\n",
       "      <th>RandomForestClassifier_bogo_4</th>\n",
       "    </tr>\n",
       "  </thead>\n",
       "  <tbody>\n",
       "    <tr>\n",
       "      <th>pred_time</th>\n",
       "      <td>0.052794</td>\n",
       "      <td>0.051542</td>\n",
       "    </tr>\n",
       "    <tr>\n",
       "      <th>testing_score</th>\n",
       "      <td>0.828316</td>\n",
       "      <td>0.825061</td>\n",
       "    </tr>\n",
       "    <tr>\n",
       "      <th>train_time</th>\n",
       "      <td>0.263380</td>\n",
       "      <td>0.261904</td>\n",
       "    </tr>\n",
       "    <tr>\n",
       "      <th>training_score</th>\n",
       "      <td>0.846882</td>\n",
       "      <td>0.852172</td>\n",
       "    </tr>\n",
       "  </tbody>\n",
       "</table>\n",
       "</div>"
      ],
      "text/plain": [
       "                RandomForestClassifier_bogo_3  RandomForestClassifier_bogo_4\n",
       "pred_time                            0.052794                       0.051542\n",
       "testing_score                        0.828316                       0.825061\n",
       "train_time                           0.263380                       0.261904\n",
       "training_score                       0.846882                       0.852172"
      ]
     },
     "execution_count": 152,
     "metadata": {},
     "output_type": "execute_result"
    }
   ],
   "source": [
    "results[['RandomForestClassifier_bogo_3','RandomForestClassifier_bogo_4']]"
   ]
  },
  {
   "cell_type": "code",
   "execution_count": 153,
   "metadata": {},
   "outputs": [
    {
     "name": "stdout",
     "output_type": "stream",
     "text": [
      "For bogo RF model:\n"
     ]
    },
    {
     "data": {
      "text/html": [
       "<div>\n",
       "<style scoped>\n",
       "    .dataframe tbody tr th:only-of-type {\n",
       "        vertical-align: middle;\n",
       "    }\n",
       "\n",
       "    .dataframe tbody tr th {\n",
       "        vertical-align: top;\n",
       "    }\n",
       "\n",
       "    .dataframe thead th {\n",
       "        text-align: right;\n",
       "    }\n",
       "</style>\n",
       "<table border=\"1\" class=\"dataframe\">\n",
       "  <thead>\n",
       "    <tr style=\"text-align: right;\">\n",
       "      <th></th>\n",
       "      <th>pred_time</th>\n",
       "      <th>testing_score</th>\n",
       "      <th>train_time</th>\n",
       "      <th>training_score</th>\n",
       "    </tr>\n",
       "  </thead>\n",
       "  <tbody>\n",
       "    <tr>\n",
       "      <th>RandomForestClassifier_bogo_3</th>\n",
       "      <td>0.052794</td>\n",
       "      <td>0.828316</td>\n",
       "      <td>0.26338</td>\n",
       "      <td>0.846882</td>\n",
       "    </tr>\n",
       "  </tbody>\n",
       "</table>\n",
       "</div>"
      ],
      "text/plain": [
       "                               pred_time  testing_score  train_time  \\\n",
       "RandomForestClassifier_bogo_3   0.052794       0.828316     0.26338   \n",
       "\n",
       "                               training_score  \n",
       "RandomForestClassifier_bogo_3        0.846882  "
      ]
     },
     "execution_count": 153,
     "metadata": {},
     "output_type": "execute_result"
    }
   ],
   "source": [
    "#find best model so far for BOGO offer type\n",
    "best_model('bogo')"
   ]
  },
  {
   "cell_type": "markdown",
   "metadata": {},
   "source": [
    "Again, accuracy of model was not as good, and minimal improvement. Hence I will keep all levels in."
   ]
  },
  {
   "cell_type": "code",
   "execution_count": 154,
   "metadata": {},
   "outputs": [],
   "source": [
    "features,target=data_prep(offers_discount,drop_cols_prep)\n",
    "X_train, X_test, y_train, y_test=model_pipeline(features,target)"
   ]
  },
  {
   "cell_type": "code",
   "execution_count": 155,
   "metadata": {},
   "outputs": [],
   "source": [
    "#Initialize the model - reuse best performing model - \n",
    "discount_4 = RandomForestClassifier(random_state=2,max_depth= 10, max_features= 'auto',min_samples_split= 20,n_estimators=30,min_samples_leaf=2)"
   ]
  },
  {
   "cell_type": "code",
   "execution_count": 156,
   "metadata": {},
   "outputs": [
    {
     "name": "stdout",
     "output_type": "stream",
     "text": [
      "DecisionTreeClassifier trained on 10179 samples.\n",
      "MSE_train: 0.1371\n",
      "MSE_test: 0.1277\n",
      "Training accuracy:0.8629\n",
      "Test accuracy:0.8723\n",
      "             precision    recall  f1-score   support\n",
      "\n",
      "          0     0.0000    0.0000    0.0000       325\n",
      "          1     0.8723    1.0000    0.9318      2220\n",
      "\n",
      "avg / total     0.7609    0.8723    0.8128      2545\n",
      "\n"
     ]
    },
    {
     "name": "stderr",
     "output_type": "stream",
     "text": [
      "/opt/conda/lib/python3.6/site-packages/sklearn/metrics/classification.py:1135: UndefinedMetricWarning: Precision and F-score are ill-defined and being set to 0.0 in labels with no predicted samples.\n",
      "  'precision', 'predicted', average, warn_for)\n"
     ]
    },
    {
     "name": "stdout",
     "output_type": "stream",
     "text": [
      "RandomForestClassifier trained on 10179 samples.\n",
      "MSE_train: 0.1308\n",
      "MSE_test: 0.1269\n",
      "Training accuracy:0.8692\n",
      "Test accuracy:0.8731\n",
      "             precision    recall  f1-score   support\n",
      "\n",
      "          0     0.5714    0.0246    0.0472       325\n",
      "          1     0.8748    0.9973    0.9320      2220\n",
      "\n",
      "avg / total     0.8360    0.8731    0.8190      2545\n",
      "\n"
     ]
    }
   ],
   "source": [
    "results=pd.concat([results[:],run_model(baseline,discount_4,'discount_4')],axis=1)"
   ]
  },
  {
   "cell_type": "code",
   "execution_count": 157,
   "metadata": {},
   "outputs": [
    {
     "data": {
      "text/html": [
       "<div>\n",
       "<style scoped>\n",
       "    .dataframe tbody tr th:only-of-type {\n",
       "        vertical-align: middle;\n",
       "    }\n",
       "\n",
       "    .dataframe tbody tr th {\n",
       "        vertical-align: top;\n",
       "    }\n",
       "\n",
       "    .dataframe thead th {\n",
       "        text-align: right;\n",
       "    }\n",
       "</style>\n",
       "<table border=\"1\" class=\"dataframe\">\n",
       "  <thead>\n",
       "    <tr style=\"text-align: right;\">\n",
       "      <th></th>\n",
       "      <th>RandomForestClassifier_discount_3</th>\n",
       "      <th>RandomForestClassifier_discount_4</th>\n",
       "    </tr>\n",
       "  </thead>\n",
       "  <tbody>\n",
       "    <tr>\n",
       "      <th>pred_time</th>\n",
       "      <td>0.050213</td>\n",
       "      <td>0.056134</td>\n",
       "    </tr>\n",
       "    <tr>\n",
       "      <th>testing_score</th>\n",
       "      <td>0.873477</td>\n",
       "      <td>0.873084</td>\n",
       "    </tr>\n",
       "    <tr>\n",
       "      <th>train_time</th>\n",
       "      <td>0.266830</td>\n",
       "      <td>0.278536</td>\n",
       "    </tr>\n",
       "    <tr>\n",
       "      <th>training_score</th>\n",
       "      <td>0.869044</td>\n",
       "      <td>0.869241</td>\n",
       "    </tr>\n",
       "  </tbody>\n",
       "</table>\n",
       "</div>"
      ],
      "text/plain": [
       "                RandomForestClassifier_discount_3  \\\n",
       "pred_time                                0.050213   \n",
       "testing_score                            0.873477   \n",
       "train_time                               0.266830   \n",
       "training_score                           0.869044   \n",
       "\n",
       "                RandomForestClassifier_discount_4  \n",
       "pred_time                                0.056134  \n",
       "testing_score                            0.873084  \n",
       "train_time                               0.278536  \n",
       "training_score                           0.869241  "
      ]
     },
     "execution_count": 157,
     "metadata": {},
     "output_type": "execute_result"
    }
   ],
   "source": [
    "results[['RandomForestClassifier_discount_3','RandomForestClassifier_discount_4']]"
   ]
  },
  {
   "cell_type": "code",
   "execution_count": 158,
   "metadata": {},
   "outputs": [
    {
     "name": "stdout",
     "output_type": "stream",
     "text": [
      "For discount RF model:\n"
     ]
    },
    {
     "data": {
      "text/html": [
       "<div>\n",
       "<style scoped>\n",
       "    .dataframe tbody tr th:only-of-type {\n",
       "        vertical-align: middle;\n",
       "    }\n",
       "\n",
       "    .dataframe tbody tr th {\n",
       "        vertical-align: top;\n",
       "    }\n",
       "\n",
       "    .dataframe thead th {\n",
       "        text-align: right;\n",
       "    }\n",
       "</style>\n",
       "<table border=\"1\" class=\"dataframe\">\n",
       "  <thead>\n",
       "    <tr style=\"text-align: right;\">\n",
       "      <th></th>\n",
       "      <th>pred_time</th>\n",
       "      <th>testing_score</th>\n",
       "      <th>train_time</th>\n",
       "      <th>training_score</th>\n",
       "    </tr>\n",
       "  </thead>\n",
       "  <tbody>\n",
       "    <tr>\n",
       "      <th>RandomForestClassifier_discount_2</th>\n",
       "      <td>0.053962</td>\n",
       "      <td>0.874656</td>\n",
       "      <td>0.255692</td>\n",
       "      <td>0.86757</td>\n",
       "    </tr>\n",
       "  </tbody>\n",
       "</table>\n",
       "</div>"
      ],
      "text/plain": [
       "                                   pred_time  testing_score  train_time  \\\n",
       "RandomForestClassifier_discount_2   0.053962       0.874656    0.255692   \n",
       "\n",
       "                                   training_score  \n",
       "RandomForestClassifier_discount_2         0.86757  "
      ]
     },
     "execution_count": 158,
     "metadata": {},
     "output_type": "execute_result"
    }
   ],
   "source": [
    "#find best model so far for discount offer type\n",
    "best_model('discount')"
   ]
  },
  {
   "cell_type": "code",
   "execution_count": 159,
   "metadata": {},
   "outputs": [],
   "source": [
    "features,target=data_prep(offers_info,drop_cols_prep)\n",
    "X_train, X_test, y_train, y_test=model_pipeline(features,target)\n"
   ]
  },
  {
   "cell_type": "code",
   "execution_count": 160,
   "metadata": {},
   "outputs": [],
   "source": [
    "#Initialize the model - reuse best performing model - \n",
    "info_4 = RandomForestClassifier(random_state=2,max_depth= 15, max_features= 'auto',min_samples_split= 2,n_estimators=20,min_samples_leaf=15)\n"
   ]
  },
  {
   "cell_type": "code",
   "execution_count": 161,
   "metadata": {},
   "outputs": [
    {
     "name": "stdout",
     "output_type": "stream",
     "text": [
      "DecisionTreeClassifier trained on 5585 samples.\n",
      "MSE_train: 0.2462\n",
      "MSE_test: 0.2541\n",
      "Training accuracy:0.7538\n",
      "Test accuracy:0.7459\n",
      "             precision    recall  f1-score   support\n",
      "\n",
      "          0     0.5000    0.1127    0.1839       355\n",
      "          1     0.7608    0.9616    0.8495      1042\n",
      "\n",
      "avg / total     0.6945    0.7459    0.6804      1397\n",
      "\n",
      "RandomForestClassifier trained on 5585 samples.\n",
      "MSE_train: 0.2380\n",
      "MSE_test: 0.2520\n",
      "Training accuracy:0.7620\n",
      "Test accuracy:0.7480\n",
      "             precision    recall  f1-score   support\n",
      "\n",
      "          0     0.5205    0.1070    0.1776       355\n",
      "          1     0.7606    0.9664    0.8512      1042\n",
      "\n",
      "avg / total     0.6996    0.7480    0.6800      1397\n",
      "\n"
     ]
    }
   ],
   "source": [
    "results=pd.concat([results[:],run_model(baseline,info_4,'info_4')],axis=1)"
   ]
  },
  {
   "cell_type": "code",
   "execution_count": 162,
   "metadata": {},
   "outputs": [
    {
     "data": {
      "text/html": [
       "<div>\n",
       "<style scoped>\n",
       "    .dataframe tbody tr th:only-of-type {\n",
       "        vertical-align: middle;\n",
       "    }\n",
       "\n",
       "    .dataframe tbody tr th {\n",
       "        vertical-align: top;\n",
       "    }\n",
       "\n",
       "    .dataframe thead th {\n",
       "        text-align: right;\n",
       "    }\n",
       "</style>\n",
       "<table border=\"1\" class=\"dataframe\">\n",
       "  <thead>\n",
       "    <tr style=\"text-align: right;\">\n",
       "      <th></th>\n",
       "      <th>RandomForestClassifier_info_3</th>\n",
       "      <th>RandomForestClassifier_info_4</th>\n",
       "    </tr>\n",
       "  </thead>\n",
       "  <tbody>\n",
       "    <tr>\n",
       "      <th>pred_time</th>\n",
       "      <td>0.019286</td>\n",
       "      <td>0.022071</td>\n",
       "    </tr>\n",
       "    <tr>\n",
       "      <th>testing_score</th>\n",
       "      <td>0.748031</td>\n",
       "      <td>0.748031</td>\n",
       "    </tr>\n",
       "    <tr>\n",
       "      <th>train_time</th>\n",
       "      <td>0.103701</td>\n",
       "      <td>0.102331</td>\n",
       "    </tr>\n",
       "    <tr>\n",
       "      <th>training_score</th>\n",
       "      <td>0.763474</td>\n",
       "      <td>0.762041</td>\n",
       "    </tr>\n",
       "  </tbody>\n",
       "</table>\n",
       "</div>"
      ],
      "text/plain": [
       "                RandomForestClassifier_info_3  RandomForestClassifier_info_4\n",
       "pred_time                            0.019286                       0.022071\n",
       "testing_score                        0.748031                       0.748031\n",
       "train_time                           0.103701                       0.102331\n",
       "training_score                       0.763474                       0.762041"
      ]
     },
     "execution_count": 162,
     "metadata": {},
     "output_type": "execute_result"
    }
   ],
   "source": [
    "results[['RandomForestClassifier_info_3','RandomForestClassifier_info_4']]"
   ]
  },
  {
   "cell_type": "code",
   "execution_count": 163,
   "metadata": {},
   "outputs": [
    {
     "name": "stdout",
     "output_type": "stream",
     "text": [
      "For info RF model:\n"
     ]
    },
    {
     "data": {
      "text/html": [
       "<div>\n",
       "<style scoped>\n",
       "    .dataframe tbody tr th:only-of-type {\n",
       "        vertical-align: middle;\n",
       "    }\n",
       "\n",
       "    .dataframe tbody tr th {\n",
       "        vertical-align: top;\n",
       "    }\n",
       "\n",
       "    .dataframe thead th {\n",
       "        text-align: right;\n",
       "    }\n",
       "</style>\n",
       "<table border=\"1\" class=\"dataframe\">\n",
       "  <thead>\n",
       "    <tr style=\"text-align: right;\">\n",
       "      <th></th>\n",
       "      <th>pred_time</th>\n",
       "      <th>testing_score</th>\n",
       "      <th>train_time</th>\n",
       "      <th>training_score</th>\n",
       "    </tr>\n",
       "  </thead>\n",
       "  <tbody>\n",
       "    <tr>\n",
       "      <th>RandomForestClassifier_info_2</th>\n",
       "      <td>0.019306</td>\n",
       "      <td>0.753042</td>\n",
       "      <td>0.096302</td>\n",
       "      <td>0.759534</td>\n",
       "    </tr>\n",
       "  </tbody>\n",
       "</table>\n",
       "</div>"
      ],
      "text/plain": [
       "                               pred_time  testing_score  train_time  \\\n",
       "RandomForestClassifier_info_2   0.019306       0.753042    0.096302   \n",
       "\n",
       "                               training_score  \n",
       "RandomForestClassifier_info_2        0.759534  "
      ]
     },
     "execution_count": 163,
     "metadata": {},
     "output_type": "execute_result"
    }
   ],
   "source": [
    "#find best model so far for info offer type\n",
    "best_model('info')"
   ]
  },
  {
   "cell_type": "markdown",
   "metadata": {},
   "source": [
    "Overall, we have seen that there is not much improvement in model performance just by reducing one level of categorical features. I am quite satisfied with the performance of the BOGO and discount models, but want to explore if I can improve the performance of the info model."
   ]
  },
  {
   "cell_type": "markdown",
   "metadata": {},
   "source": [
    "#### b. iv. Using polynomial features\n",
    "Since a low accuracy score for the info model is likely due to the model underfitting, I decided to attempt if transforming the features further might improve model performance.\n",
    "\n",
    "I tweaked my model_pipeline function to include the polynomial features transformation to my features."
   ]
  },
  {
   "cell_type": "code",
   "execution_count": 164,
   "metadata": {},
   "outputs": [],
   "source": [
    "#prepare model pipeline\n",
    "def model_pipeline_poly(features,target,poly_feat=0):\n",
    "    '''\n",
    "    input:\n",
    "    - features & target dataframes\n",
    "    - poly_feat: number of degrees to transform polynomial features\n",
    "    \n",
    "    output:\n",
    "    - X_train, X_test, y_train, y_test dataframes\n",
    "    \n",
    "    '''\n",
    "    \n",
    "    #split into training and test sets\n",
    "    X_train, X_test, y_train, y_test = train_test_split(features,target, \n",
    "                                                        test_size=0.20, \n",
    "                                                        random_state=42)\n",
    "    #fit and transform training data\n",
    "    poly = PolynomialFeatures(poly_feat)\n",
    "    X_train_poly=poly.fit_transform(X_train)\n",
    "    \n",
    "    #transform test data\n",
    "    X_test_poly=poly.transform(X_test)\n",
    "    \n",
    "    #fit and transform scaling on training data\n",
    "    scaler=StandardScaler()\n",
    "    X_train=scaler.fit_transform(X_train_poly)\n",
    "\n",
    "    #scale test data\n",
    "    X_test=scaler.transform(X_test_poly)\n",
    "    return X_train,X_test,y_train, y_test"
   ]
  },
  {
   "cell_type": "code",
   "execution_count": 165,
   "metadata": {},
   "outputs": [],
   "source": [
    "#keep amount_invalid in offers_info dataset\n",
    "drop_cols_prep=['person','offer_id','effective_offer','offer_type']\n",
    "features,target=data_prep(offers_info,drop_cols_prep)\n",
    "X_train, X_test, y_train, y_test=model_pipeline_poly(features,target,2)"
   ]
  },
  {
   "cell_type": "code",
   "execution_count": 166,
   "metadata": {},
   "outputs": [],
   "source": [
    "#Initialize the model\n",
    "info_5 = RandomForestClassifier(random_state=2,max_depth= 15, max_features= 'auto',min_samples_split= 2,n_estimators=20,min_samples_leaf=15)\n"
   ]
  },
  {
   "cell_type": "code",
   "execution_count": 167,
   "metadata": {},
   "outputs": [
    {
     "name": "stdout",
     "output_type": "stream",
     "text": [
      "DecisionTreeClassifier trained on 5585 samples.\n",
      "MSE_train: 0.2448\n",
      "MSE_test: 0.2491\n",
      "Training accuracy:0.7552\n",
      "Test accuracy:0.7509\n",
      "             precision    recall  f1-score   support\n",
      "\n",
      "          0     0.5393    0.1352    0.2162       355\n",
      "          1     0.7653    0.9607    0.8519      1042\n",
      "\n",
      "avg / total     0.7079    0.7509    0.6904      1397\n",
      "\n",
      "RandomForestClassifier trained on 5585 samples.\n",
      "MSE_train: 0.2249\n",
      "MSE_test: 0.2534\n",
      "Training accuracy:0.7751\n",
      "Test accuracy:0.7466\n",
      "             precision    recall  f1-score   support\n",
      "\n",
      "          0     0.5054    0.1324    0.2098       355\n",
      "          1     0.7638    0.9559    0.8491      1042\n",
      "\n",
      "avg / total     0.6981    0.7466    0.6867      1397\n",
      "\n"
     ]
    }
   ],
   "source": [
    "results=pd.concat([results[:],run_model(baseline,info_5,'info_5')],axis=1)"
   ]
  },
  {
   "cell_type": "code",
   "execution_count": 168,
   "metadata": {},
   "outputs": [
    {
     "data": {
      "text/html": [
       "<div>\n",
       "<style scoped>\n",
       "    .dataframe tbody tr th:only-of-type {\n",
       "        vertical-align: middle;\n",
       "    }\n",
       "\n",
       "    .dataframe tbody tr th {\n",
       "        vertical-align: top;\n",
       "    }\n",
       "\n",
       "    .dataframe thead th {\n",
       "        text-align: right;\n",
       "    }\n",
       "</style>\n",
       "<table border=\"1\" class=\"dataframe\">\n",
       "  <thead>\n",
       "    <tr style=\"text-align: right;\">\n",
       "      <th></th>\n",
       "      <th>RandomForestClassifier_info_2</th>\n",
       "      <th>RandomForestClassifier_info_5</th>\n",
       "    </tr>\n",
       "  </thead>\n",
       "  <tbody>\n",
       "    <tr>\n",
       "      <th>pred_time</th>\n",
       "      <td>0.019306</td>\n",
       "      <td>0.024688</td>\n",
       "    </tr>\n",
       "    <tr>\n",
       "      <th>testing_score</th>\n",
       "      <td>0.753042</td>\n",
       "      <td>0.746600</td>\n",
       "    </tr>\n",
       "    <tr>\n",
       "      <th>train_time</th>\n",
       "      <td>0.096302</td>\n",
       "      <td>0.232563</td>\n",
       "    </tr>\n",
       "    <tr>\n",
       "      <th>training_score</th>\n",
       "      <td>0.759534</td>\n",
       "      <td>0.775112</td>\n",
       "    </tr>\n",
       "  </tbody>\n",
       "</table>\n",
       "</div>"
      ],
      "text/plain": [
       "                RandomForestClassifier_info_2  RandomForestClassifier_info_5\n",
       "pred_time                            0.019306                       0.024688\n",
       "testing_score                        0.753042                       0.746600\n",
       "train_time                           0.096302                       0.232563\n",
       "training_score                       0.759534                       0.775112"
      ]
     },
     "execution_count": 168,
     "metadata": {},
     "output_type": "execute_result"
    }
   ],
   "source": [
    "results[['RandomForestClassifier_info_2','RandomForestClassifier_info_5']]"
   ]
  },
  {
   "cell_type": "code",
   "execution_count": 169,
   "metadata": {},
   "outputs": [
    {
     "name": "stdout",
     "output_type": "stream",
     "text": [
      "For info RF model:\n"
     ]
    },
    {
     "data": {
      "text/html": [
       "<div>\n",
       "<style scoped>\n",
       "    .dataframe tbody tr th:only-of-type {\n",
       "        vertical-align: middle;\n",
       "    }\n",
       "\n",
       "    .dataframe tbody tr th {\n",
       "        vertical-align: top;\n",
       "    }\n",
       "\n",
       "    .dataframe thead th {\n",
       "        text-align: right;\n",
       "    }\n",
       "</style>\n",
       "<table border=\"1\" class=\"dataframe\">\n",
       "  <thead>\n",
       "    <tr style=\"text-align: right;\">\n",
       "      <th></th>\n",
       "      <th>pred_time</th>\n",
       "      <th>testing_score</th>\n",
       "      <th>train_time</th>\n",
       "      <th>training_score</th>\n",
       "    </tr>\n",
       "  </thead>\n",
       "  <tbody>\n",
       "    <tr>\n",
       "      <th>RandomForestClassifier_info_2</th>\n",
       "      <td>0.019306</td>\n",
       "      <td>0.753042</td>\n",
       "      <td>0.096302</td>\n",
       "      <td>0.759534</td>\n",
       "    </tr>\n",
       "  </tbody>\n",
       "</table>\n",
       "</div>"
      ],
      "text/plain": [
       "                               pred_time  testing_score  train_time  \\\n",
       "RandomForestClassifier_info_2   0.019306       0.753042    0.096302   \n",
       "\n",
       "                               training_score  \n",
       "RandomForestClassifier_info_2        0.759534  "
      ]
     },
     "execution_count": 169,
     "metadata": {},
     "output_type": "execute_result"
    }
   ],
   "source": [
    "#find best model so far for info offer type\n",
    "best_model('info')"
   ]
  },
  {
   "cell_type": "markdown",
   "metadata": {},
   "source": [
    "We can see that performance actually decreased slightly for the RF model. Hence it would perhaps be a better idea to just keep the model as is. A maximum accuracy of 75.30% is acceptable for the info offers, even though it is not as high as the BOGO or discount offers. After all, we already included some assumptions for the 'influence' of the offer based on the duration."
   ]
  },
  {
   "cell_type": "code",
   "execution_count": 170,
   "metadata": {},
   "outputs": [
    {
     "data": {
      "image/png": "[encoded data removed]",
      "text/plain": [
       "<matplotlib.figure.Figure at 0x7f6aeda76e80>"
      ]
     },
     "metadata": {
      "needs_background": "light"
     },
     "output_type": "display_data"
    }
   ],
   "source": [
    "results.loc[['training_score','testing_score'],['RandomForestClassifier_info_1','RandomForestClassifier_info_2','RandomForestClassifier_info_3','RandomForestClassifier_info_4','RandomForestClassifier_info_5']].transpose().plot.line()\n",
    "plt.title('Training and Testing score for RF info models')\n",
    "plt.show()"
   ]
  },
  {
   "cell_type": "markdown",
   "metadata": {},
   "source": [
    "A note however, we can above actually see the model is performing better in the training accuracy as we add more variables for each model via polynomial features and removing the amount_invalid feature. It is just that the testing accuracy was reducing, and we can see this is due to overfitting.\n",
    "\n",
    "I can improve the accuracy and performance of the info model further by using RF info model 5, but adding more data, as we already noted the dataset for the offers_info dataset is half the size of the BOGO and discount datasets. Hence, ultimately with more data and with performance tuning, removing unnecessary variables and feature transformation, with more data I could have ultimately got the performance of the model perhaps above 80%."
   ]
  },
  {
   "cell_type": "markdown",
   "metadata": {},
   "source": [
    "#### b.iv. Discussion on best models and feature importances:\n",
    "\n",
    "Now that I am done with refining the 3 models, we can check the results for our best models for all 3 and check the feature importances to see the top drivers of effectiveness of offers."
   ]
  },
  {
   "cell_type": "code",
   "execution_count": 171,
   "metadata": {},
   "outputs": [
    {
     "name": "stdout",
     "output_type": "stream",
     "text": [
      "For bogo RF model:\n",
      "For discount RF model:\n",
      "For info RF model:\n"
     ]
    },
    {
     "data": {
      "text/html": [
       "<div>\n",
       "<style scoped>\n",
       "    .dataframe tbody tr th:only-of-type {\n",
       "        vertical-align: middle;\n",
       "    }\n",
       "\n",
       "    .dataframe tbody tr th {\n",
       "        vertical-align: top;\n",
       "    }\n",
       "\n",
       "    .dataframe thead th {\n",
       "        text-align: right;\n",
       "    }\n",
       "</style>\n",
       "<table border=\"1\" class=\"dataframe\">\n",
       "  <thead>\n",
       "    <tr style=\"text-align: right;\">\n",
       "      <th></th>\n",
       "      <th>RandomForestClassifier_bogo_3</th>\n",
       "      <th>RandomForestClassifier_discount_2</th>\n",
       "      <th>RandomForestClassifier_info_2</th>\n",
       "    </tr>\n",
       "  </thead>\n",
       "  <tbody>\n",
       "    <tr>\n",
       "      <th>pred_time</th>\n",
       "      <td>0.052794</td>\n",
       "      <td>0.053962</td>\n",
       "      <td>0.019306</td>\n",
       "    </tr>\n",
       "    <tr>\n",
       "      <th>testing_score</th>\n",
       "      <td>0.828316</td>\n",
       "      <td>0.874656</td>\n",
       "      <td>0.753042</td>\n",
       "    </tr>\n",
       "    <tr>\n",
       "      <th>train_time</th>\n",
       "      <td>0.263380</td>\n",
       "      <td>0.255692</td>\n",
       "      <td>0.096302</td>\n",
       "    </tr>\n",
       "    <tr>\n",
       "      <th>training_score</th>\n",
       "      <td>0.846882</td>\n",
       "      <td>0.867570</td>\n",
       "      <td>0.759534</td>\n",
       "    </tr>\n",
       "  </tbody>\n",
       "</table>\n",
       "</div>"
      ],
      "text/plain": [
       "                RandomForestClassifier_bogo_3  \\\n",
       "pred_time                            0.052794   \n",
       "testing_score                        0.828316   \n",
       "train_time                           0.263380   \n",
       "training_score                       0.846882   \n",
       "\n",
       "                RandomForestClassifier_discount_2  \\\n",
       "pred_time                                0.053962   \n",
       "testing_score                            0.874656   \n",
       "train_time                               0.255692   \n",
       "training_score                           0.867570   \n",
       "\n",
       "                RandomForestClassifier_info_2  \n",
       "pred_time                            0.019306  \n",
       "testing_score                        0.753042  \n",
       "train_time                           0.096302  \n",
       "training_score                       0.759534  "
      ]
     },
     "execution_count": 171,
     "metadata": {},
     "output_type": "execute_result"
    }
   ],
   "source": [
    "#get best model overall for bogo,discount and info offers\n",
    "best_model('bogo').append([best_model('discount'),best_model('info')]).transpose()"
   ]
  },
  {
   "cell_type": "markdown",
   "metadata": {},
   "source": [
    "Overall, we can see that the top performing models are the 3rd model (with GridSearch to find optimal model parameters and removing amount_invalid column) for predicting effectiveness of BOGO and discount offers, whereas the best performing model for informational offers was just after performing GridSearch to find the optimal parameters.\n",
    "\n",
    "In order to find the most influential drivers of an effective offer, we can check the feature importances of our best models above."
   ]
  },
  {
   "cell_type": "code",
   "execution_count": 172,
   "metadata": {},
   "outputs": [
    {
     "data": {
      "image/png": "[encoded data removed]",
      "text/plain": [
       "<matplotlib.figure.Figure at 0x7f6aeda65eb8>"
      ]
     },
     "metadata": {
      "needs_background": "light"
     },
     "output_type": "display_data"
    }
   ],
   "source": [
    "#show feature importance\n",
    "#BOGO 3 model\n",
    "#prepare data same as BOGO 3 state\n",
    "drop_cols_prep=['person','offer_id','effective_offer','offer_type','amount_invalid']\n",
    "features,target=data_prep(offers_bogo,drop_cols_prep)\n",
    "\n",
    "feature_importances = pd.DataFrame(bogo_3.feature_importances_,\n",
    "                                   index = features.columns,\n",
    "                                    columns=['importance']).sort_values('importance',ascending=False)\n",
    "feature_importances.plot.bar(color='red')\n",
    "plt.title('Best BOGO model feature importance')\n",
    "plt.show()"
   ]
  },
  {
   "cell_type": "code",
   "execution_count": 173,
   "metadata": {},
   "outputs": [
    {
     "data": {
      "image/png": "[encoded data removed]",
      "text/plain": [
       "<matplotlib.figure.Figure at 0x7f6aedac4320>"
      ]
     },
     "metadata": {
      "needs_background": "light"
     },
     "output_type": "display_data"
    }
   ],
   "source": [
    "#discount 3 model\n",
    "feature_importances = pd.DataFrame(discount_3.feature_importances_,\n",
    "                                   index = features.columns,\n",
    "                                    columns=['importance']).sort_values('importance',ascending=False)\n",
    "feature_importances.plot.bar(color='yellow')\n",
    "plt.title('Best discount model feature importance')\n",
    "plt.show()"
   ]
  },
  {
   "cell_type": "code",
   "execution_count": 174,
   "metadata": {},
   "outputs": [
    {
     "data": {
      "image/png": "[encoded data removed]",
      "text/plain": [
       "<matplotlib.figure.Figure at 0x7f6ae73b5be0>"
      ]
     },
     "metadata": {
      "needs_background": "light"
     },
     "output_type": "display_data"
    }
   ],
   "source": [
    "#info_2 model\n",
    "#prepare data similar to info_2 state\n",
    "drop_cols_prep=['person','offer_id','effective_offer','offer_type']\n",
    "features,target=data_prep(offers_discount,drop_cols_prep)\n",
    "#print feature importance\n",
    "feature_importances = pd.DataFrame(info_2.feature_importances_,\n",
    "                                   index = features.columns,\n",
    "                                    columns=['importance']).sort_values('importance',ascending=False)\n",
    "feature_importances.plot.bar(color='orange')\n",
    "plt.title('Best info model feature importance')\n",
    "plt.show()"
   ]
  },
  {
   "cell_type": "markdown",
   "metadata": {},
   "source": [
    "Checking on the feature importance to analyse the main drivers of an effective offer, we can see that the most important driver of effective offers across all three are the tenure of membership. However, the 2nd most important feature is different for each of the three models.\n",
    "\n",
    "For a BOGO offer, the membership tenure is the most important feature, and the other variables are a lot smaller in proportions. Income, age and offer_received_cnt are the 2nd, 3rd and 4th most important features, but their proportions are very small.\n",
    "\n",
    "For a discount offer, after the membership tenure, age and income are the next most important variables. But it is still very small in proportions.\n",
    "\n",
    "The feature importances for the informational offer models are more distributed compared to the BOGO and discount models, with income being the 2nd most important feature. Age is the third and mobile channel interestingly being the 4th."
   ]
  },
  {
   "cell_type": "markdown",
   "metadata": {},
   "source": [
    "#### c. Exploration on users in Groups 3 and 4 - People who purchase regardless of viewing any offers\n",
    "We had earlier delineated those in groups 3 and 4 as people who would purchase regardless of viewing any offers. Now we can do some exploratory analyses to see what kind of demographic this group of users consist of."
   ]
  },
  {
   "cell_type": "markdown",
   "metadata": {},
   "source": [
    "#### c.i. Data Preparation:\n",
    "\n",
    "It would be interesting to see how people in groups 3 and 4 contrast with people in groups 1 and 2, so I decided to compare between all 3.\n",
    "\n",
    "First, I need to append the data from all groups from the three offer types together, then compare the characteristics of each group via visualizations."
   ]
  },
  {
   "cell_type": "code",
   "execution_count": 175,
   "metadata": {},
   "outputs": [],
   "source": [
    "#append datasets together\n",
    "\n",
    "#grp 3+4\n",
    "grp3_4=grp3_bogo.append(grp3_discount,sort=False)\n",
    "grp3_4=grp3_4.append(grp3_info,sort=False)\n",
    "grp3_4=grp3_4.append(grp4_bogo,sort=False)\n",
    "grp3_4=grp3_4.append(grp4_discount,sort=False)\n",
    "grp3_4=grp3_4.append(grp4_info,sort=False)\n",
    "\n",
    "#grp1\n",
    "grp1_all=grp1_bogo.append(grp1_discount,sort=False)\n",
    "grp1_all=grp1_all.append(grp1_info,sort=False)\n",
    "\n",
    "#grp2\n",
    "grp2_all=grp2_bogo.append(grp2_discount,sort=False)\n",
    "grp2_all=grp2_all.append(grp2_info,sort=False)\n",
    "\n",
    "#get unique person-offer_id pairs\n",
    "grp3_4=grp3_4[['person','offer_id']].groupby(['person','offer_id']).count().reset_index()\n",
    "grp1_all=grp1_all[['person','offer_id']].groupby(['person','offer_id']).count().reset_index()\n",
    "grp2_all=grp2_all[['person','offer_id']].groupby(['person','offer_id']).count().reset_index()\n",
    "\n",
    "#get membership_tenure_days\n",
    "grp3_4=member(grp3_4)\n",
    "grp1_all=member(grp1_all)\n",
    "grp2_all=member(grp2_all)\n",
    "\n",
    "#merge with transcript to check transaction amount\n",
    "grp3_4=grp3_4.merge(transcript[['person','offer_id','amount']].groupby(['person','offer_id']).sum(),on=['person','offer_id'],how='left')\n",
    "grp1_all=grp1_all.merge(transcript[['person','offer_id','amount']].groupby(['person','offer_id']).sum(),on=['person','offer_id'],how='left')\n",
    "grp2_all=grp2_all.merge(transcript[['person','offer_id','amount']].groupby(['person','offer_id']).sum(),on=['person','offer_id'],how='left')"
   ]
  },
  {
   "cell_type": "markdown",
   "metadata": {},
   "source": [
    "We should also clean the dataset of null values, similar to the preparation of the datasets above for modeling."
   ]
  },
  {
   "cell_type": "code",
   "execution_count": 176,
   "metadata": {},
   "outputs": [
    {
     "name": "stdout",
     "output_type": "stream",
     "text": [
      "For grp 3 and 4:\n",
      "person                    0.000000\n",
      "offer_id                  0.000000\n",
      "age                       0.000000\n",
      "gender                    9.019155\n",
      "income                    9.019155\n",
      "membership_tenure_days    0.000000\n",
      "amount                    0.000000\n",
      "dtype: float64\n"
     ]
    }
   ],
   "source": [
    "print(\"For grp 3 and 4:\")\n",
    "print((grp3_4.isnull().sum()/len(grp3_4))*100)\n"
   ]
  },
  {
   "cell_type": "code",
   "execution_count": 177,
   "metadata": {},
   "outputs": [],
   "source": [
    "#drop null values\n",
    "grp3_4=grp3_4.dropna()"
   ]
  },
  {
   "cell_type": "code",
   "execution_count": 178,
   "metadata": {},
   "outputs": [
    {
     "name": "stdout",
     "output_type": "stream",
     "text": [
      "For grp 1:\n",
      "person                    0.000000\n",
      "offer_id                  0.000000\n",
      "age                       0.000000\n",
      "gender                    5.896762\n",
      "income                    5.896762\n",
      "membership_tenure_days    0.000000\n",
      "amount                    0.000000\n",
      "dtype: float64\n"
     ]
    }
   ],
   "source": [
    "#check null values\n",
    "print(\"For grp 1:\")\n",
    "print((grp1_all.isnull().sum()/len(grp1_all))*100)"
   ]
  },
  {
   "cell_type": "code",
   "execution_count": 179,
   "metadata": {},
   "outputs": [],
   "source": [
    "#drop null values\n",
    "grp1_all=grp1_all.dropna()"
   ]
  },
  {
   "cell_type": "code",
   "execution_count": 180,
   "metadata": {},
   "outputs": [
    {
     "name": "stdout",
     "output_type": "stream",
     "text": [
      "For grp 2:\n",
      "person                     0.000000\n",
      "offer_id                   0.000000\n",
      "age                        0.000000\n",
      "gender                    21.131608\n",
      "income                    21.131608\n",
      "membership_tenure_days     0.000000\n",
      "amount                     0.000000\n",
      "dtype: float64\n"
     ]
    }
   ],
   "source": [
    "#check null values\n",
    "print(\"For grp 2:\")\n",
    "print((grp2_all.isnull().sum()/len(grp2_all))*100)"
   ]
  },
  {
   "cell_type": "code",
   "execution_count": 181,
   "metadata": {},
   "outputs": [],
   "source": [
    "#drop null values\n",
    "grp2_all=grp2_all.dropna()"
   ]
  },
  {
   "cell_type": "code",
   "execution_count": 182,
   "metadata": {},
   "outputs": [
    {
     "name": "stdout",
     "output_type": "stream",
     "text": [
      "Size of group 1: 26507\n",
      "Size of group 3+4: 18904\n",
      "Size of group 2: 5729\n"
     ]
    }
   ],
   "source": [
    "#check size of groups\n",
    "print(\"Size of group 1: \"+ str(len(grp1_all['person'])))\n",
    "print(\"Size of group 3+4: \"+ str(len(grp3_4['person'])))\n",
    "print(\"Size of group 2: \"+ str(len(grp2_all['person'])))"
   ]
  },
  {
   "cell_type": "markdown",
   "metadata": {},
   "source": [
    "Comparing the sizes of the 3 groups, we can see that group 1 is the largest, while group 2 is the smallest, which is unsurprising as we had seen that the classes in our datasets were imbalanced in favour of positive classes (i.e. effective_offers=1). Meanwhile for people in groups 3 and 4 there are quite a significant number of people as well, larger than the number of people in group 2."
   ]
  },
  {
   "cell_type": "markdown",
   "metadata": {},
   "source": [
    "#### c.ii. Exploration of demographic characteristics:\n",
    "\n",
    "Meanwhile, in order to effectively compare between the groups, I created a function to efficiently visualize the groups together."
   ]
  },
  {
   "cell_type": "code",
   "execution_count": 183,
   "metadata": {},
   "outputs": [],
   "source": [
    "#create function for plotting multiple histograms overlaying the 3 groups\n",
    "def plot_hist(variable,bins=None):\n",
    "    plt.hist(grp1_all[variable],alpha=0.5, label='group 1',bins=bins)\n",
    "    plt.hist(grp3_4[variable], alpha=0.5, label='group 3 and 4',bins=bins)\n",
    "    plt.hist(grp2_all[variable], alpha=0.5, label='group 2',bins=bins)\n",
    "    plt.legend(loc='upper right')\n",
    "    plt.title('distribution of '+ variable + ' between group 1, group 2 and groups 3 + 4')\n",
    "    plt.show()"
   ]
  },
  {
   "cell_type": "code",
   "execution_count": 184,
   "metadata": {},
   "outputs": [
    {
     "data": {
      "image/png": "[encoded data removed]",
      "text/plain": [
       "<matplotlib.figure.Figure at 0x7f6aedb15cc0>"
      ]
     },
     "metadata": {
      "needs_background": "light"
     },
     "output_type": "display_data"
    }
   ],
   "source": [
    "#plot distribution of income\n",
    "plot_hist('income')"
   ]
  },
  {
   "cell_type": "markdown",
   "metadata": {},
   "source": [
    "Across the 3 segments, most people fall within the middle range of income (50K - 100K). The income distribution between the 3 segments are relatively similar."
   ]
  },
  {
   "cell_type": "code",
   "execution_count": 185,
   "metadata": {},
   "outputs": [
    {
     "data": {
      "image/png": "[encoded data removed]",
      "text/plain": [
       "<matplotlib.figure.Figure at 0x7f6aedcd6358>"
      ]
     },
     "metadata": {
      "needs_background": "light"
     },
     "output_type": "display_data"
    }
   ],
   "source": [
    "#plot ditribution of age\n",
    "plot_hist('age')"
   ]
  },
  {
   "cell_type": "markdown",
   "metadata": {},
   "source": [
    "Age distribution looks relatively similar between the 3 groups as well, with most people between the age 40-80 years old."
   ]
  },
  {
   "cell_type": "code",
   "execution_count": 186,
   "metadata": {},
   "outputs": [
    {
     "data": {
      "image/png": "[encoded data removed]",
      "text/plain": [
       "<matplotlib.figure.Figure at 0x7f6aedc88390>"
      ]
     },
     "metadata": {
      "needs_background": "light"
     },
     "output_type": "display_data"
    }
   ],
   "source": [
    "#plot distribution of amount spent given an effective offer\n",
    "plot_hist('amount',bins=1)"
   ]
  },
  {
   "cell_type": "markdown",
   "metadata": {},
   "source": [
    "Group 2 are people who did not spend at all as the offers were ineffective on them, hence they are not in the graph. But for groups 1 and 3+4, we can see that the amount spent is relatively similar, except that people in group 1 spent slightly more. This is to be expected as we might expect that the offers managed to incentivise them to purchase more, hence their overall spend increased."
   ]
  },
  {
   "cell_type": "code",
   "execution_count": 187,
   "metadata": {},
   "outputs": [
    {
     "data": {
      "image/png": "[encoded data removed]",
      "text/plain": [
       "<matplotlib.figure.Figure at 0x7f6aeda9a320>"
      ]
     },
     "metadata": {
      "needs_background": "light"
     },
     "output_type": "display_data"
    }
   ],
   "source": [
    "#plot tenure of membership\n",
    "plot_hist('membership_tenure_days')"
   ]
  },
  {
   "cell_type": "markdown",
   "metadata": {},
   "source": [
    "The distribution of membership tenure also looks similar between the 3 segments, with most people between 0-700 days of tenure. It appears as though there are not much demographic characteristic differences between the 3 groups, at least in the current data provided."
   ]
  },
  {
   "cell_type": "markdown",
   "metadata": {},
   "source": [
    "#### d. Potential all-in-one model\n",
    "Out of curiosity, I wondered if we could predict the effectiveness of an offer if the offer type was included as a categorical feature. Would the type of offer affect the user's responsiveness?\n",
    "\n",
    "To do this, I would need to do some minor data preparation to prepare the data for a multiclass model."
   ]
  },
  {
   "cell_type": "code",
   "execution_count": 188,
   "metadata": {},
   "outputs": [],
   "source": [
    "#append datasets together\n",
    "offers_bogo['offer_type']='bogo'\n",
    "offers_info['offer_type']='informational'\n",
    "offers_discount['offer_type']='discount'\n",
    "offers=offers_discount.append(offers_bogo,sort=False)\n",
    "offers=offers.append(offers_info,sort=False)\n",
    "\n",
    "#create dummy variable for offer_type categorical variable\n",
    "offers=dummy(offers,'offer_type')"
   ]
  },
  {
   "cell_type": "code",
   "execution_count": 189,
   "metadata": {},
   "outputs": [
    {
     "data": {
      "text/plain": [
       "{'max_depth': 20,\n",
       " 'max_features': 'auto',\n",
       " 'min_samples_leaf': 15,\n",
       " 'min_samples_split': 2,\n",
       " 'n_estimators': 50}"
      ]
     },
     "execution_count": 189,
     "metadata": {},
     "output_type": "execute_result"
    }
   ],
   "source": [
    "#do grid search to find optimal parameters for RF model\n",
    "drop_cols_prep=['person','offer_id','effective_offer','amount_invalid']\n",
    "features,target=data_prep(offers,drop_cols_prep)\n",
    "X_train, X_test, y_train, y_test=model_pipeline(features,target)\n",
    "\n",
    "rand_forest_param_selection(X_train, y_train)"
   ]
  },
  {
   "cell_type": "code",
   "execution_count": 190,
   "metadata": {},
   "outputs": [
    {
     "name": "stdout",
     "output_type": "stream",
     "text": [
      "DecisionTreeClassifier trained on 25594 samples.\n",
      "MSE_train: 0.1761\n",
      "MSE_test: 0.1753\n",
      "Training accuracy:0.8239\n",
      "Test accuracy:0.8247\n",
      "             precision    recall  f1-score   support\n",
      "\n",
      "          0     0.5269    0.0778    0.1356      1131\n",
      "          1     0.8326    0.9850    0.9024      5268\n",
      "\n",
      "avg / total     0.7786    0.8247    0.7669      6399\n",
      "\n",
      "RandomForestClassifier trained on 25594 samples.\n",
      "MSE_train: 0.1638\n",
      "MSE_test: 0.1749\n",
      "Training accuracy:0.8362\n",
      "Test accuracy:0.8251\n",
      "             precision    recall  f1-score   support\n",
      "\n",
      "          0     0.5316    0.0893    0.1529      1131\n",
      "          1     0.8341    0.9831    0.9025      5268\n",
      "\n",
      "avg / total     0.7806    0.8251    0.7700      6399\n",
      "\n"
     ]
    }
   ],
   "source": [
    "drop_cols_prep=['person','offer_id','effective_offer','amount_invalid']\n",
    "features,target=data_prep(offers,drop_cols_prep)\n",
    "X_train, X_test, y_train, y_test=model_pipeline(features,target)\n",
    "\n",
    "#Initialize the model\n",
    "all_in_one = RandomForestClassifier(random_state=5,criterion='gini',max_depth= 20, max_features= 'auto',min_samples_split= 2,n_estimators=50,min_samples_leaf=15)\n",
    "\n",
    "results=pd.concat([results[:],run_model(baseline,all_in_one,'all_in_one')],axis=1)"
   ]
  },
  {
   "cell_type": "code",
   "execution_count": 191,
   "metadata": {},
   "outputs": [
    {
     "data": {
      "text/html": [
       "<div>\n",
       "<style scoped>\n",
       "    .dataframe tbody tr th:only-of-type {\n",
       "        vertical-align: middle;\n",
       "    }\n",
       "\n",
       "    .dataframe tbody tr th {\n",
       "        vertical-align: top;\n",
       "    }\n",
       "\n",
       "    .dataframe thead th {\n",
       "        text-align: right;\n",
       "    }\n",
       "</style>\n",
       "<table border=\"1\" class=\"dataframe\">\n",
       "  <thead>\n",
       "    <tr style=\"text-align: right;\">\n",
       "      <th></th>\n",
       "      <th>RandomForestClassifier_bogo_3</th>\n",
       "      <th>RandomForestClassifier_discount_3</th>\n",
       "      <th>RandomForestClassifier_info_2</th>\n",
       "      <th>DecisionTreeClassifier_all_in_one</th>\n",
       "      <th>RandomForestClassifier_all_in_one</th>\n",
       "    </tr>\n",
       "  </thead>\n",
       "  <tbody>\n",
       "    <tr>\n",
       "      <th>pred_time</th>\n",
       "      <td>0.052794</td>\n",
       "      <td>0.050213</td>\n",
       "      <td>0.019306</td>\n",
       "      <td>0.003014</td>\n",
       "      <td>0.253624</td>\n",
       "    </tr>\n",
       "    <tr>\n",
       "      <th>testing_score</th>\n",
       "      <td>0.828316</td>\n",
       "      <td>0.873477</td>\n",
       "      <td>0.753042</td>\n",
       "      <td>0.824660</td>\n",
       "      <td>0.825129</td>\n",
       "    </tr>\n",
       "    <tr>\n",
       "      <th>train_time</th>\n",
       "      <td>0.263380</td>\n",
       "      <td>0.266830</td>\n",
       "      <td>0.096302</td>\n",
       "      <td>0.057629</td>\n",
       "      <td>1.242781</td>\n",
       "    </tr>\n",
       "    <tr>\n",
       "      <th>training_score</th>\n",
       "      <td>0.846882</td>\n",
       "      <td>0.869044</td>\n",
       "      <td>0.759534</td>\n",
       "      <td>0.823904</td>\n",
       "      <td>0.836212</td>\n",
       "    </tr>\n",
       "  </tbody>\n",
       "</table>\n",
       "</div>"
      ],
      "text/plain": [
       "                RandomForestClassifier_bogo_3  \\\n",
       "pred_time                            0.052794   \n",
       "testing_score                        0.828316   \n",
       "train_time                           0.263380   \n",
       "training_score                       0.846882   \n",
       "\n",
       "                RandomForestClassifier_discount_3  \\\n",
       "pred_time                                0.050213   \n",
       "testing_score                            0.873477   \n",
       "train_time                               0.266830   \n",
       "training_score                           0.869044   \n",
       "\n",
       "                RandomForestClassifier_info_2  \\\n",
       "pred_time                            0.019306   \n",
       "testing_score                        0.753042   \n",
       "train_time                           0.096302   \n",
       "training_score                       0.759534   \n",
       "\n",
       "                DecisionTreeClassifier_all_in_one  \\\n",
       "pred_time                                0.003014   \n",
       "testing_score                            0.824660   \n",
       "train_time                               0.057629   \n",
       "training_score                           0.823904   \n",
       "\n",
       "                RandomForestClassifier_all_in_one  \n",
       "pred_time                                0.253624  \n",
       "testing_score                            0.825129  \n",
       "train_time                               1.242781  \n",
       "training_score                           0.836212  "
      ]
     },
     "execution_count": 191,
     "metadata": {},
     "output_type": "execute_result"
    }
   ],
   "source": [
    "#comparing best performance of all 3 models with all_in_one model\n",
    "results[['RandomForestClassifier_bogo_3','RandomForestClassifier_discount_3','RandomForestClassifier_info_2','DecisionTreeClassifier_all_in_one','RandomForestClassifier_all_in_one']]"
   ]
  },
  {
   "cell_type": "code",
   "execution_count": 192,
   "metadata": {},
   "outputs": [
    {
     "data": {
      "image/png": "[encoded data removed]",
      "text/plain": [
       "<matplotlib.figure.Figure at 0x7f6aedc164e0>"
      ]
     },
     "metadata": {
      "needs_background": "light"
     },
     "output_type": "display_data"
    }
   ],
   "source": [
    "results.loc[['testing_score'],['RandomForestClassifier_bogo_3','RandomForestClassifier_discount_3','RandomForestClassifier_info_2','DecisionTreeClassifier_all_in_one','RandomForestClassifier_all_in_one']].plot.bar()\n",
    "plt.title('Comparing testing set accuracy score for the 3 models vs all-in-one model')\n",
    "plt.legend(loc=3)\n",
    "plt.show()"
   ]
  },
  {
   "cell_type": "markdown",
   "metadata": {},
   "source": [
    "Comparing the performance of the 3 best models for each offer type with the all_in_one model, we can se that having the all-in-one model is not as good as the RF bogo and discount models, and is about slightly better than the info model. This is probably due to the info model pulling down the performance, resulting in lower accuracy for the all in one model. I suspect that if we were to break down the all-in-one model performance to just looking at its ability to predict the effectiveness of informational offer types, it would also be worse than its performance predicting the other 2 types.\n",
    "\n",
    "If we take a step back and look at the big picture, it is more useful to have a higher accuracy for 3 separate models, as opposed to one all-in-one model. This is because the BOGO and discount offers are actually aimed at driving sales with some promotional cost, whereas the informational offer is essentially 'free' with no cost, and if they can drive sales that would be a bonus.\n",
    "\n",
    "Hence, I would actually suggest that the 3 separate models are more useful.\n",
    "\n"
   ]
  },
  {
   "cell_type": "markdown",
   "metadata": {},
   "source": [
    "#### e. Given an effective offer, can we predict how much someone would spend?\n",
    "In addition to the all-in-one model, since we already kept the datasets of effective transactions, I was curious to know if I could build a regression model to predict how much someone would spend, given an effective offer. I could have built a model separately for each offer type to predict their spend, but I was curious to know if the type of offer would also determine a user's level of spend.\n",
    "\n",
    "To do this, we have already assigned effective offers based on group 1 customers. From there, we just need to sum up their amount of spend driven by offers to see if we can predict how much someone would spend depending on the offer type."
   ]
  },
  {
   "cell_type": "code",
   "execution_count": 193,
   "metadata": {},
   "outputs": [],
   "source": [
    "#append all 3 datasets together\n",
    "grp1=grp1_bogo.append(grp1_discount,sort=False)\n",
    "grp1=grp1.append(grp1_info,sort=False)"
   ]
  },
  {
   "cell_type": "code",
   "execution_count": 194,
   "metadata": {},
   "outputs": [],
   "source": [
    "#drop unnecessary columns\n",
    "drop_cols('effective_offer',grp1,inplace=True)\n"
   ]
  },
  {
   "cell_type": "code",
   "execution_count": 195,
   "metadata": {},
   "outputs": [],
   "source": [
    "#get offer details\n",
    "grp1=grp1.merge(portfolio,how='left',on='offer_id')"
   ]
  },
  {
   "cell_type": "markdown",
   "metadata": {},
   "source": [
    "We only take into account transactions that are influenced by an offer (i.e. valid_completed=1) as we want to predict the spend given (i.e. based on) the influence of an effective offer."
   ]
  },
  {
   "cell_type": "code",
   "execution_count": 196,
   "metadata": {},
   "outputs": [],
   "source": [
    "#get sum of valid transactions per person based on unique person and offer_id pair\n",
    "grp1=grp1.merge(transcript[['person','offer_id','amount']][transcript['valid_completed']==1].groupby(['person','offer_id']).sum(),on=['person','offer_id'])"
   ]
  },
  {
   "cell_type": "code",
   "execution_count": 197,
   "metadata": {},
   "outputs": [],
   "source": [
    "#get demographic data and membership_tenure details\n",
    "grp1=member(grp1)\n",
    "\n",
    "#reset index for offers_info\n",
    "grp1=drop_cols('index',grp1.reset_index())\n",
    "\n",
    "#reuse offers_info channel_col function to expand channel column into categorical variables\n",
    "channel_col('web',grp1)\n",
    "channel_col('email',grp1)\n",
    "channel_col('mobile',grp1)\n",
    "channel_col('social',grp1);\n",
    "\n",
    "drop_cols('channels',grp1,inplace=True);\n",
    "\n",
    "#reuse offers_info function to prep dataset\n",
    "grp1=prep_offers_df(grp1)\n",
    "\n",
    "#encode offer type as dummy variables\n",
    "grp1=dummy(grp1,'offer_type')"
   ]
  },
  {
   "cell_type": "markdown",
   "metadata": {},
   "source": [
    "Since this is a regression model, we need to prevent multicollinearity by reducing the level of the dummy variables by 1, dropping those columns."
   ]
  },
  {
   "cell_type": "code",
   "execution_count": 198,
   "metadata": {},
   "outputs": [],
   "source": [
    "#add one level of dummy variable to drop\n",
    "drop_cols_prep=['person', 'offer_id','amount','social','gender_O','offer_type_informational']\n",
    "target=grp1['amount']\n",
    "features=drop_cols(drop_cols_prep,grp1)"
   ]
  },
  {
   "cell_type": "markdown",
   "metadata": {},
   "source": [
    "Since this is a regression model, we need to change the metrics such that it is not a classification model. Hence, I tweak my train_predict and run_model functions."
   ]
  },
  {
   "cell_type": "code",
   "execution_count": 199,
   "metadata": {},
   "outputs": [],
   "source": [
    "#tweak train_predict function -\n",
    "def train_predict_reg(learner, X_train, y_train, X_test, y_test): \n",
    "    '''\n",
    "    inputs:\n",
    "       - learner: the learning algorithm to be trained and predicted on\n",
    "       - sample_size: the size of samples (number) to be drawn from training set\n",
    "       - X_train: features training set\n",
    "       - y_train: review_scores_rating training set\n",
    "       - X_test: features testing set\n",
    "       - y_test: review_scores_rating testing set\n",
    "    '''\n",
    "    results = {}\n",
    "    \n",
    "    #Fit the learner to the training data and get training time\n",
    "    start = time() \n",
    "    learner = learner.fit(X_train, y_train)\n",
    "    end = time() \n",
    "    results['train_time'] = end-start\n",
    "    \n",
    "    # Get predictions on the test set(X_test), then get predictions on first 300 training samples\n",
    "    start = time() \n",
    "    predictions_test = learner.predict(X_test)\n",
    "    predictions_train = learner.predict(X_train)\n",
    "    end = time() \n",
    "    \n",
    "    # Calculate the total prediction time\n",
    "    results['pred_time'] = end-start\n",
    "    \n",
    "    #add training accuracy to results\n",
    "    results['training_score']=learner.score(X_train,y_train)\n",
    "    \n",
    "    #add testing accuracy to results\n",
    "    results['testing_score']=learner.score(X_test,y_test)\n",
    "    \n",
    "    print(\"{} trained on {} samples.\".format(learner.__class__.__name__, len(y_train)))\n",
    "    print(\"MSE_train: %.4f\" % mean_squared_error(y_train,predictions_train))\n",
    "    print(\"MSE_test: %.4f\" % mean_squared_error(y_test,predictions_test))\n",
    "    print(\"Training accuracy:%.4f\" % results['training_score'])\n",
    "    print(\"Test accuracy:%.4f\" % results['testing_score'])\n",
    "    return results"
   ]
  },
  {
   "cell_type": "code",
   "execution_count": 200,
   "metadata": {},
   "outputs": [],
   "source": [
    "def run_model_reg(clf1,clf2,name):\n",
    "    '''\n",
    "    input:\n",
    "    - clf1: baseline regression model\n",
    "    - clf2: 2nd regression model to compare\n",
    "    - name: name to keep track of comparison\n",
    "    output:\n",
    "    - dataframe containing results of training and prediction of model\n",
    "    \n",
    "    '''\n",
    "    \n",
    "    # Collect results on the learners\n",
    "    results = {}\n",
    "    for clf in [clf1, clf2]:\n",
    "        clf_name = clf.__class__.__name__ + '_' +name\n",
    "        results[clf_name] = {}\n",
    "        results[clf_name]= train_predict_reg(clf, X_train, y_train, X_test, y_test)\n",
    "    return pd.DataFrame(results)"
   ]
  },
  {
   "cell_type": "code",
   "execution_count": 201,
   "metadata": {},
   "outputs": [
    {
     "name": "stdout",
     "output_type": "stream",
     "text": [
      "Ridge trained on 21011 samples.\n",
      "MSE_train: 5149.4918\n",
      "MSE_test: 5264.4857\n",
      "Training accuracy:0.0901\n",
      "Test accuracy:0.0863\n",
      "DecisionTreeRegressor trained on 21011 samples.\n",
      "MSE_train: 0.0410\n",
      "MSE_test: 11106.1821\n",
      "Training accuracy:1.0000\n",
      "Test accuracy:-0.9277\n"
     ]
    }
   ],
   "source": [
    "X_train, X_test, y_train, y_test=model_pipeline_poly(features,target,2)\n",
    "\n",
    "#Initialize the model\n",
    "clf1 = Ridge(alpha=2,random_state=2)\n",
    "clf2 = DecisionTreeRegressor(random_state=2)\n",
    "\n",
    "results_reg=run_model_reg(clf1,clf2,'reg')\n"
   ]
  },
  {
   "cell_type": "code",
   "execution_count": 202,
   "metadata": {},
   "outputs": [
    {
     "data": {
      "text/html": [
       "<div>\n",
       "<style scoped>\n",
       "    .dataframe tbody tr th:only-of-type {\n",
       "        vertical-align: middle;\n",
       "    }\n",
       "\n",
       "    .dataframe tbody tr th {\n",
       "        vertical-align: top;\n",
       "    }\n",
       "\n",
       "    .dataframe thead th {\n",
       "        text-align: right;\n",
       "    }\n",
       "</style>\n",
       "<table border=\"1\" class=\"dataframe\">\n",
       "  <thead>\n",
       "    <tr style=\"text-align: right;\">\n",
       "      <th></th>\n",
       "      <th>Ridge_reg</th>\n",
       "      <th>DecisionTreeRegressor_reg</th>\n",
       "    </tr>\n",
       "  </thead>\n",
       "  <tbody>\n",
       "    <tr>\n",
       "      <th>pred_time</th>\n",
       "      <td>0.005995</td>\n",
       "      <td>0.017121</td>\n",
       "    </tr>\n",
       "    <tr>\n",
       "      <th>testing_score</th>\n",
       "      <td>0.086260</td>\n",
       "      <td>-0.927664</td>\n",
       "    </tr>\n",
       "    <tr>\n",
       "      <th>train_time</th>\n",
       "      <td>0.074788</td>\n",
       "      <td>1.688794</td>\n",
       "    </tr>\n",
       "    <tr>\n",
       "      <th>training_score</th>\n",
       "      <td>0.090122</td>\n",
       "      <td>0.999993</td>\n",
       "    </tr>\n",
       "  </tbody>\n",
       "</table>\n",
       "</div>"
      ],
      "text/plain": [
       "                Ridge_reg  DecisionTreeRegressor_reg\n",
       "pred_time        0.005995                   0.017121\n",
       "testing_score    0.086260                  -0.927664\n",
       "train_time       0.074788                   1.688794\n",
       "training_score   0.090122                   0.999993"
      ]
     },
     "execution_count": 202,
     "metadata": {},
     "output_type": "execute_result"
    }
   ],
   "source": [
    "results_reg"
   ]
  },
  {
   "cell_type": "markdown",
   "metadata": {},
   "source": [
    "The regression models really underperformed in terms of predicting the amount spent. It appears with the current data within our group 1 of customers, there is not enough information to predict the amount that can be driven by the offer type. We can see the Decision Tree Regressor model really overfit the data, with a very high training score but sub par testing score. Meanwhile, the linear regression model (with ridge/l2 regularization) also shows a minimal correlation between the features and the target variable. The model really underfits the data.\n",
    "\n",
    "I may get better performance if I break the models up into 3 different models based on offer type again; or even try to include non-influenced/invalid transactions, but this could be an exploration for another time."
   ]
  },
  {
   "cell_type": "markdown",
   "metadata": {},
   "source": [
    "# Conclusion\n",
    "Overall, I found this project challenging, mainly due to the structure of the data in the transcript dataset. I had started out with 2 business questions:\n",
    "\n",
    "1. What are the main drivers of an effective offer on the Starbucks app?\n",
    "2. Could the data provided, namely offer characteristics and user demographics, predict whether a user would take up an offer?"
   ]
  },
  {
   "cell_type": "markdown",
   "metadata": {},
   "source": [
    "For Question 1, the feature importance given by all 3 models were that the tenure of a member is the biggest predictor of the effectiveness of an offer. Further study would be able to indicate what average tenure days would result in an effective BOGO offer.\n",
    "\n",
    "For all three models, the top 3 variables were the same - membership tenure, income and age. However, income and age switched orders depending on offer type.\n",
    "\n",
    "For BOGO and discount offers, the distribution of feature importances were relatively equal. However, for informational offers, the distribution is slightly more balanced, with income the second most important variable."
   ]
  },
  {
   "cell_type": "markdown",
   "metadata": {},
   "source": [
    "The  3 separate models are use to predict the effectiveness of each offer type ended up with good accuracy for the BOGO and discount models (82.83% for BOGO and 87.35% for discount), while slightly less accurate performance for informational offers (75.3%). However, I would regard 75% as acceptable in a business setting, as for informational offers, there is no cost involved to inform users of a product.\n",
    "\n",
    "Meanwhile, for BOGO and discount models, I am quite happy with the 80% and above accuracy, as in a business setting that would be acceptable to show offers to people, even if the model misclassifies a few, the overall revenue increase might justify the few mistakes."
   ]
  },
  {
   "cell_type": "code",
   "execution_count": null,
   "metadata": {},
   "outputs": [],
   "source": []
  }
 ],
 "metadata": {
  "kernelspec": {
   "display_name": "Python 3",
   "language": "python",
   "name": "python3"
  },
  "language_info": {
   "codemirror_mode": {
    "name": "ipython",
    "version": 3
   },
   "file_extension": ".py",
   "mimetype": "text/x-python",
   "name": "python",
   "nbconvert_exporter": "python",
   "pygments_lexer": "ipython3",
   "version": "3.6.3"
  }
 },
 "nbformat": 4,
 "nbformat_minor": 2
}
